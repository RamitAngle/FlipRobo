{
 "cells": [
  {
   "cell_type": "code",
   "execution_count": 1,
   "id": "b01b6258",
   "metadata": {},
   "outputs": [],
   "source": [
    "import pandas as pd\n",
    "import matplotlib.pyplot as plt\n",
    "import seaborn as sns\n",
    "import numpy as np\n",
    "import joblib\n",
    "from sklearn.preprocessing import LabelEncoder\n",
    "from sklearn.preprocessing import StandardScaler,MinMaxScaler\n",
    "from sklearn.model_selection import train_test_split\n",
    "from sklearn.ensemble import RandomForestRegressor\n",
    "from sklearn.metrics import r2_score\n",
    "from sklearn.metrics import mean_squared_error,r2_score,mean_absolute_error\n",
    "from sklearn.linear_model import LinearRegression\n",
    "from sklearn.tree import DecisionTreeRegressor\n",
    "from sklearn.neighbors import KNeighborsRegressor\n",
    "from sklearn.ensemble import GradientBoostingRegressor\n",
    "from sklearn.linear_model import Ridge\n",
    "from sklearn.svm import SVR\n",
    "from sklearn.model_selection import cross_val_score\n",
    "from sklearn.model_selection import GridSearchCV\n",
    "from sklearn.preprocessing import PowerTransformer\n"
   ]
  },
  {
   "cell_type": "code",
   "execution_count": 2,
   "id": "8a0cfd13",
   "metadata": {},
   "outputs": [],
   "source": [
    "df = pd.read_csv('5000_old_car.csv')"
   ]
  },
  {
   "cell_type": "code",
   "execution_count": 3,
   "id": "d1e60344",
   "metadata": {},
   "outputs": [
    {
     "data": {
      "text/html": [
       "<div>\n",
       "<style scoped>\n",
       "    .dataframe tbody tr th:only-of-type {\n",
       "        vertical-align: middle;\n",
       "    }\n",
       "\n",
       "    .dataframe tbody tr th {\n",
       "        vertical-align: top;\n",
       "    }\n",
       "\n",
       "    .dataframe thead th {\n",
       "        text-align: right;\n",
       "    }\n",
       "</style>\n",
       "<table border=\"1\" class=\"dataframe\">\n",
       "  <thead>\n",
       "    <tr style=\"text-align: right;\">\n",
       "      <th></th>\n",
       "      <th>Unnamed: 0</th>\n",
       "      <th>id</th>\n",
       "      <th>url</th>\n",
       "      <th>location</th>\n",
       "      <th>car_body_type</th>\n",
       "      <th>price</th>\n",
       "      <th>make</th>\n",
       "      <th>model</th>\n",
       "      <th>variant</th>\n",
       "      <th>year</th>\n",
       "      <th>petrol</th>\n",
       "      <th>transmission</th>\n",
       "      <th>mileage</th>\n",
       "      <th>number_of_owners</th>\n",
       "    </tr>\n",
       "  </thead>\n",
       "  <tbody>\n",
       "    <tr>\n",
       "      <th>0</th>\n",
       "      <td>0</td>\n",
       "      <td>1699779940</td>\n",
       "      <td>Ford Endeavour 3.2 Titanium AT 4X4, 2019, Diesel</td>\n",
       "      <td>Delhi</td>\n",
       "      <td>SUV</td>\n",
       "      <td>3150000.0</td>\n",
       "      <td>ford</td>\n",
       "      <td>ford-endeavour</td>\n",
       "      <td>version-Endeavour 3.2 Titanium AT 4x4-3417</td>\n",
       "      <td>2019.0</td>\n",
       "      <td>diesel</td>\n",
       "      <td>1.0</td>\n",
       "      <td>70000.0</td>\n",
       "      <td>1.0</td>\n",
       "    </tr>\n",
       "    <tr>\n",
       "      <th>1</th>\n",
       "      <td>1</td>\n",
       "      <td>1699442686</td>\n",
       "      <td>Maruti Suzuki Zen Estilo LXI BSIII, 2008, CNG ...</td>\n",
       "      <td>Gujarat</td>\n",
       "      <td>HATCHBACK</td>\n",
       "      <td>125000.0</td>\n",
       "      <td>maruti-suzuki</td>\n",
       "      <td>maruti-suzuki-zen-estilo</td>\n",
       "      <td>zen-estilo-lxi-bsiii</td>\n",
       "      <td>2008.0</td>\n",
       "      <td>cng</td>\n",
       "      <td>2.0</td>\n",
       "      <td>106402.0</td>\n",
       "      <td>2.0</td>\n",
       "    </tr>\n",
       "    <tr>\n",
       "      <th>2</th>\n",
       "      <td>2</td>\n",
       "      <td>1698168319</td>\n",
       "      <td>Honda City 2008-2011 1.5 S MT, 2009, Petrol</td>\n",
       "      <td>Delhi</td>\n",
       "      <td>SEDAN</td>\n",
       "      <td>199000.0</td>\n",
       "      <td>cars-honda</td>\n",
       "      <td>cars-honda-city</td>\n",
       "      <td>version-City 1.5 S MT-757</td>\n",
       "      <td>2009.0</td>\n",
       "      <td>petrol</td>\n",
       "      <td>2.0</td>\n",
       "      <td>79000.0</td>\n",
       "      <td>2.0</td>\n",
       "    </tr>\n",
       "    <tr>\n",
       "      <th>3</th>\n",
       "      <td>3</td>\n",
       "      <td>1698168128</td>\n",
       "      <td>Maruti Suzuki Swift Dzire VDI, 2016, Diesel</td>\n",
       "      <td>West Bengal</td>\n",
       "      <td>SEDAN</td>\n",
       "      <td>475000.0</td>\n",
       "      <td>maruti-suzuki</td>\n",
       "      <td>maruti-suzuki-swift-dzire</td>\n",
       "      <td>version-Swift Dzire VDI-1564</td>\n",
       "      <td>2016.0</td>\n",
       "      <td>diesel</td>\n",
       "      <td>2.0</td>\n",
       "      <td>53000.0</td>\n",
       "      <td>1.0</td>\n",
       "    </tr>\n",
       "    <tr>\n",
       "      <th>4</th>\n",
       "      <td>4</td>\n",
       "      <td>1698168099</td>\n",
       "      <td>Mercedes-Benz C Class Prime 200, 2011, Petrol</td>\n",
       "      <td>Delhi</td>\n",
       "      <td>OTHERS</td>\n",
       "      <td>850000.0</td>\n",
       "      <td>mercedes-benz</td>\n",
       "      <td>mercedes-benz-c-class-2</td>\n",
       "      <td>mercedes-benz-c-class-2-prime-c-200</td>\n",
       "      <td>2011.0</td>\n",
       "      <td>petrol</td>\n",
       "      <td>1.0</td>\n",
       "      <td>67800.0</td>\n",
       "      <td>2.0</td>\n",
       "    </tr>\n",
       "    <tr>\n",
       "      <th>...</th>\n",
       "      <td>...</td>\n",
       "      <td>...</td>\n",
       "      <td>...</td>\n",
       "      <td>...</td>\n",
       "      <td>...</td>\n",
       "      <td>...</td>\n",
       "      <td>...</td>\n",
       "      <td>...</td>\n",
       "      <td>...</td>\n",
       "      <td>...</td>\n",
       "      <td>...</td>\n",
       "      <td>...</td>\n",
       "      <td>...</td>\n",
       "      <td>...</td>\n",
       "    </tr>\n",
       "    <tr>\n",
       "      <th>6002</th>\n",
       "      <td>5</td>\n",
       "      <td>1700139404</td>\n",
       "      <td>Hyundai Fluidic Verna 1.6 CRDi S, 2012, Diesel</td>\n",
       "      <td>Telangana</td>\n",
       "      <td>SEDAN</td>\n",
       "      <td>450000.0</td>\n",
       "      <td>hyundai</td>\n",
       "      <td>hyundai-fluidic-verna</td>\n",
       "      <td>version-Fluidic Verna 1.6 CRDi S-898</td>\n",
       "      <td>2012.0</td>\n",
       "      <td>diesel</td>\n",
       "      <td>2.0</td>\n",
       "      <td>102272.0</td>\n",
       "      <td>1.0</td>\n",
       "    </tr>\n",
       "    <tr>\n",
       "      <th>6003</th>\n",
       "      <td>6</td>\n",
       "      <td>1666728972</td>\n",
       "      <td>Skoda Fabia 2011 Diesel Well Maintained</td>\n",
       "      <td>Tamil Nadu</td>\n",
       "      <td>SEDAN</td>\n",
       "      <td>159999.0</td>\n",
       "      <td>skoda</td>\n",
       "      <td>skoda-fabia</td>\n",
       "      <td>version-Fabia Elegance 1.2 TDI-2017</td>\n",
       "      <td>2011.0</td>\n",
       "      <td>diesel</td>\n",
       "      <td>2.0</td>\n",
       "      <td>130000.0</td>\n",
       "      <td>3.0</td>\n",
       "    </tr>\n",
       "    <tr>\n",
       "      <th>6004</th>\n",
       "      <td>7</td>\n",
       "      <td>1697252431</td>\n",
       "      <td>Mahindra Bolero, 2021, Diesel</td>\n",
       "      <td>Karnataka</td>\n",
       "      <td>SUV</td>\n",
       "      <td>1225000.0</td>\n",
       "      <td>mahindra</td>\n",
       "      <td>mahindra-bolero</td>\n",
       "      <td>mahindra-bolero-b6-(o)</td>\n",
       "      <td>2021.0</td>\n",
       "      <td>diesel</td>\n",
       "      <td>2.0</td>\n",
       "      <td>11590.0</td>\n",
       "      <td>1.0</td>\n",
       "    </tr>\n",
       "    <tr>\n",
       "      <th>6005</th>\n",
       "      <td>8</td>\n",
       "      <td>1698090845</td>\n",
       "      <td>Hyundai EON Era +, 2014, Petrol</td>\n",
       "      <td>Kerala</td>\n",
       "      <td>HATCHBACK</td>\n",
       "      <td>255000.0</td>\n",
       "      <td>hyundai</td>\n",
       "      <td>hyundai-eon</td>\n",
       "      <td>version-Eon Era +-889</td>\n",
       "      <td>2014.0</td>\n",
       "      <td>petrol</td>\n",
       "      <td>2.0</td>\n",
       "      <td>65000.0</td>\n",
       "      <td>2.0</td>\n",
       "    </tr>\n",
       "    <tr>\n",
       "      <th>6006</th>\n",
       "      <td>9</td>\n",
       "      <td>1699125900</td>\n",
       "      <td>Kia Seltos petrol automatic HTX</td>\n",
       "      <td>Andhra Pradesh</td>\n",
       "      <td>SUV</td>\n",
       "      <td>1475000.0</td>\n",
       "      <td>kia</td>\n",
       "      <td>kia-seltos</td>\n",
       "      <td>version-HTX IVT G</td>\n",
       "      <td>2020.0</td>\n",
       "      <td>petrol</td>\n",
       "      <td>1.0</td>\n",
       "      <td>26000.0</td>\n",
       "      <td>1.0</td>\n",
       "    </tr>\n",
       "  </tbody>\n",
       "</table>\n",
       "<p>6007 rows × 14 columns</p>\n",
       "</div>"
      ],
      "text/plain": [
       "      Unnamed: 0          id  \\\n",
       "0              0  1699779940   \n",
       "1              1  1699442686   \n",
       "2              2  1698168319   \n",
       "3              3  1698168128   \n",
       "4              4  1698168099   \n",
       "...          ...         ...   \n",
       "6002           5  1700139404   \n",
       "6003           6  1666728972   \n",
       "6004           7  1697252431   \n",
       "6005           8  1698090845   \n",
       "6006           9  1699125900   \n",
       "\n",
       "                                                    url        location  \\\n",
       "0      Ford Endeavour 3.2 Titanium AT 4X4, 2019, Diesel           Delhi   \n",
       "1     Maruti Suzuki Zen Estilo LXI BSIII, 2008, CNG ...         Gujarat   \n",
       "2           Honda City 2008-2011 1.5 S MT, 2009, Petrol           Delhi   \n",
       "3           Maruti Suzuki Swift Dzire VDI, 2016, Diesel     West Bengal   \n",
       "4         Mercedes-Benz C Class Prime 200, 2011, Petrol           Delhi   \n",
       "...                                                 ...             ...   \n",
       "6002     Hyundai Fluidic Verna 1.6 CRDi S, 2012, Diesel       Telangana   \n",
       "6003            Skoda Fabia 2011 Diesel Well Maintained      Tamil Nadu   \n",
       "6004                      Mahindra Bolero, 2021, Diesel       Karnataka   \n",
       "6005                    Hyundai EON Era +, 2014, Petrol          Kerala   \n",
       "6006                    Kia Seltos petrol automatic HTX  Andhra Pradesh   \n",
       "\n",
       "     car_body_type      price           make                      model  \\\n",
       "0              SUV  3150000.0           ford             ford-endeavour   \n",
       "1        HATCHBACK   125000.0  maruti-suzuki   maruti-suzuki-zen-estilo   \n",
       "2            SEDAN   199000.0     cars-honda            cars-honda-city   \n",
       "3            SEDAN   475000.0  maruti-suzuki  maruti-suzuki-swift-dzire   \n",
       "4           OTHERS   850000.0  mercedes-benz    mercedes-benz-c-class-2   \n",
       "...            ...        ...            ...                        ...   \n",
       "6002         SEDAN   450000.0        hyundai      hyundai-fluidic-verna   \n",
       "6003         SEDAN   159999.0          skoda                skoda-fabia   \n",
       "6004           SUV  1225000.0       mahindra            mahindra-bolero   \n",
       "6005     HATCHBACK   255000.0        hyundai                hyundai-eon   \n",
       "6006           SUV  1475000.0            kia                 kia-seltos   \n",
       "\n",
       "                                         variant    year  petrol  \\\n",
       "0     version-Endeavour 3.2 Titanium AT 4x4-3417  2019.0  diesel   \n",
       "1                           zen-estilo-lxi-bsiii  2008.0     cng   \n",
       "2                      version-City 1.5 S MT-757  2009.0  petrol   \n",
       "3                   version-Swift Dzire VDI-1564  2016.0  diesel   \n",
       "4            mercedes-benz-c-class-2-prime-c-200  2011.0  petrol   \n",
       "...                                          ...     ...     ...   \n",
       "6002        version-Fluidic Verna 1.6 CRDi S-898  2012.0  diesel   \n",
       "6003         version-Fabia Elegance 1.2 TDI-2017  2011.0  diesel   \n",
       "6004                      mahindra-bolero-b6-(o)  2021.0  diesel   \n",
       "6005                       version-Eon Era +-889  2014.0  petrol   \n",
       "6006                           version-HTX IVT G  2020.0  petrol   \n",
       "\n",
       "      transmission   mileage  number_of_owners  \n",
       "0              1.0   70000.0               1.0  \n",
       "1              2.0  106402.0               2.0  \n",
       "2              2.0   79000.0               2.0  \n",
       "3              2.0   53000.0               1.0  \n",
       "4              1.0   67800.0               2.0  \n",
       "...            ...       ...               ...  \n",
       "6002           2.0  102272.0               1.0  \n",
       "6003           2.0  130000.0               3.0  \n",
       "6004           2.0   11590.0               1.0  \n",
       "6005           2.0   65000.0               2.0  \n",
       "6006           1.0   26000.0               1.0  \n",
       "\n",
       "[6007 rows x 14 columns]"
      ]
     },
     "execution_count": 3,
     "metadata": {},
     "output_type": "execute_result"
    }
   ],
   "source": [
    "df"
   ]
  },
  {
   "cell_type": "code",
   "execution_count": 4,
   "id": "c686edb7",
   "metadata": {},
   "outputs": [
    {
     "data": {
      "text/plain": [
       "(6007, 14)"
      ]
     },
     "execution_count": 4,
     "metadata": {},
     "output_type": "execute_result"
    }
   ],
   "source": [
    "df.shape"
   ]
  },
  {
   "cell_type": "code",
   "execution_count": 5,
   "id": "4392fc52",
   "metadata": {},
   "outputs": [
    {
     "data": {
      "text/plain": [
       "Unnamed: 0            int64\n",
       "id                    int64\n",
       "url                  object\n",
       "location             object\n",
       "car_body_type        object\n",
       "price               float64\n",
       "make                 object\n",
       "model                object\n",
       "variant              object\n",
       "year                float64\n",
       "petrol               object\n",
       "transmission        float64\n",
       "mileage             float64\n",
       "number_of_owners    float64\n",
       "dtype: object"
      ]
     },
     "execution_count": 5,
     "metadata": {},
     "output_type": "execute_result"
    }
   ],
   "source": [
    "df.dtypes"
   ]
  },
  {
   "cell_type": "code",
   "execution_count": 6,
   "id": "cb8f147c",
   "metadata": {},
   "outputs": [
    {
     "data": {
      "text/plain": [
       "Unnamed: 0            0\n",
       "id                    0\n",
       "url                   0\n",
       "location              0\n",
       "car_body_type         0\n",
       "price                 0\n",
       "make                  0\n",
       "model                 0\n",
       "variant             176\n",
       "year                  0\n",
       "petrol               85\n",
       "transmission        167\n",
       "mileage              21\n",
       "number_of_owners    194\n",
       "dtype: int64"
      ]
     },
     "execution_count": 6,
     "metadata": {},
     "output_type": "execute_result"
    }
   ],
   "source": [
    "df.isnull().sum()"
   ]
  },
  {
   "cell_type": "code",
   "execution_count": 7,
   "id": "ace31487",
   "metadata": {},
   "outputs": [
    {
     "data": {
      "text/plain": [
       "Index(['Unnamed: 0', 'id', 'url', 'location', 'car_body_type', 'price', 'make',\n",
       "       'model', 'variant', 'year', 'petrol', 'transmission', 'mileage',\n",
       "       'number_of_owners'],\n",
       "      dtype='object')"
      ]
     },
     "execution_count": 7,
     "metadata": {},
     "output_type": "execute_result"
    }
   ],
   "source": [
    "df.columns"
   ]
  },
  {
   "cell_type": "code",
   "execution_count": 8,
   "id": "605e4a17",
   "metadata": {},
   "outputs": [],
   "source": [
    "# Droping Id index and url\n",
    "df.drop(['Unnamed: 0', 'id', 'url' ],axis=1,inplace=True)"
   ]
  },
  {
   "cell_type": "code",
   "execution_count": 9,
   "id": "d2262ddb",
   "metadata": {},
   "outputs": [
    {
     "data": {
      "text/html": [
       "<div>\n",
       "<style scoped>\n",
       "    .dataframe tbody tr th:only-of-type {\n",
       "        vertical-align: middle;\n",
       "    }\n",
       "\n",
       "    .dataframe tbody tr th {\n",
       "        vertical-align: top;\n",
       "    }\n",
       "\n",
       "    .dataframe thead th {\n",
       "        text-align: right;\n",
       "    }\n",
       "</style>\n",
       "<table border=\"1\" class=\"dataframe\">\n",
       "  <thead>\n",
       "    <tr style=\"text-align: right;\">\n",
       "      <th></th>\n",
       "      <th>location</th>\n",
       "      <th>car_body_type</th>\n",
       "      <th>price</th>\n",
       "      <th>make</th>\n",
       "      <th>model</th>\n",
       "      <th>variant</th>\n",
       "      <th>year</th>\n",
       "      <th>petrol</th>\n",
       "      <th>transmission</th>\n",
       "      <th>mileage</th>\n",
       "      <th>number_of_owners</th>\n",
       "    </tr>\n",
       "  </thead>\n",
       "  <tbody>\n",
       "    <tr>\n",
       "      <th>0</th>\n",
       "      <td>Delhi</td>\n",
       "      <td>SUV</td>\n",
       "      <td>3150000.0</td>\n",
       "      <td>ford</td>\n",
       "      <td>ford-endeavour</td>\n",
       "      <td>version-Endeavour 3.2 Titanium AT 4x4-3417</td>\n",
       "      <td>2019.0</td>\n",
       "      <td>diesel</td>\n",
       "      <td>1.0</td>\n",
       "      <td>70000.0</td>\n",
       "      <td>1.0</td>\n",
       "    </tr>\n",
       "    <tr>\n",
       "      <th>1</th>\n",
       "      <td>Gujarat</td>\n",
       "      <td>HATCHBACK</td>\n",
       "      <td>125000.0</td>\n",
       "      <td>maruti-suzuki</td>\n",
       "      <td>maruti-suzuki-zen-estilo</td>\n",
       "      <td>zen-estilo-lxi-bsiii</td>\n",
       "      <td>2008.0</td>\n",
       "      <td>cng</td>\n",
       "      <td>2.0</td>\n",
       "      <td>106402.0</td>\n",
       "      <td>2.0</td>\n",
       "    </tr>\n",
       "    <tr>\n",
       "      <th>2</th>\n",
       "      <td>Delhi</td>\n",
       "      <td>SEDAN</td>\n",
       "      <td>199000.0</td>\n",
       "      <td>cars-honda</td>\n",
       "      <td>cars-honda-city</td>\n",
       "      <td>version-City 1.5 S MT-757</td>\n",
       "      <td>2009.0</td>\n",
       "      <td>petrol</td>\n",
       "      <td>2.0</td>\n",
       "      <td>79000.0</td>\n",
       "      <td>2.0</td>\n",
       "    </tr>\n",
       "    <tr>\n",
       "      <th>3</th>\n",
       "      <td>West Bengal</td>\n",
       "      <td>SEDAN</td>\n",
       "      <td>475000.0</td>\n",
       "      <td>maruti-suzuki</td>\n",
       "      <td>maruti-suzuki-swift-dzire</td>\n",
       "      <td>version-Swift Dzire VDI-1564</td>\n",
       "      <td>2016.0</td>\n",
       "      <td>diesel</td>\n",
       "      <td>2.0</td>\n",
       "      <td>53000.0</td>\n",
       "      <td>1.0</td>\n",
       "    </tr>\n",
       "    <tr>\n",
       "      <th>4</th>\n",
       "      <td>Delhi</td>\n",
       "      <td>OTHERS</td>\n",
       "      <td>850000.0</td>\n",
       "      <td>mercedes-benz</td>\n",
       "      <td>mercedes-benz-c-class-2</td>\n",
       "      <td>mercedes-benz-c-class-2-prime-c-200</td>\n",
       "      <td>2011.0</td>\n",
       "      <td>petrol</td>\n",
       "      <td>1.0</td>\n",
       "      <td>67800.0</td>\n",
       "      <td>2.0</td>\n",
       "    </tr>\n",
       "  </tbody>\n",
       "</table>\n",
       "</div>"
      ],
      "text/plain": [
       "      location car_body_type      price           make  \\\n",
       "0        Delhi           SUV  3150000.0           ford   \n",
       "1      Gujarat     HATCHBACK   125000.0  maruti-suzuki   \n",
       "2        Delhi         SEDAN   199000.0     cars-honda   \n",
       "3  West Bengal         SEDAN   475000.0  maruti-suzuki   \n",
       "4        Delhi        OTHERS   850000.0  mercedes-benz   \n",
       "\n",
       "                       model                                     variant  \\\n",
       "0             ford-endeavour  version-Endeavour 3.2 Titanium AT 4x4-3417   \n",
       "1   maruti-suzuki-zen-estilo                        zen-estilo-lxi-bsiii   \n",
       "2            cars-honda-city                   version-City 1.5 S MT-757   \n",
       "3  maruti-suzuki-swift-dzire                version-Swift Dzire VDI-1564   \n",
       "4    mercedes-benz-c-class-2         mercedes-benz-c-class-2-prime-c-200   \n",
       "\n",
       "     year  petrol  transmission   mileage  number_of_owners  \n",
       "0  2019.0  diesel           1.0   70000.0               1.0  \n",
       "1  2008.0     cng           2.0  106402.0               2.0  \n",
       "2  2009.0  petrol           2.0   79000.0               2.0  \n",
       "3  2016.0  diesel           2.0   53000.0               1.0  \n",
       "4  2011.0  petrol           1.0   67800.0               2.0  "
      ]
     },
     "execution_count": 9,
     "metadata": {},
     "output_type": "execute_result"
    }
   ],
   "source": [
    "df.head()"
   ]
  },
  {
   "cell_type": "code",
   "execution_count": 10,
   "id": "4cd4b387",
   "metadata": {},
   "outputs": [],
   "source": [
    "# Replace Null Values with NOt avaliable\n",
    "\n",
    "for i,column_data in enumerate(df.dtypes.items()):\n",
    "    column, dtype = column_data\n",
    "    if dtype == 'object':\n",
    "        df[column].fillna('Not avaliable',inplace=True)\n",
    "    else:\n",
    "        df[column].fillna(method='pad',inplace=True)"
   ]
  },
  {
   "cell_type": "code",
   "execution_count": 11,
   "id": "a2023f5c",
   "metadata": {},
   "outputs": [
    {
     "data": {
      "text/plain": [
       "location            0\n",
       "car_body_type       0\n",
       "price               0\n",
       "make                0\n",
       "model               0\n",
       "variant             0\n",
       "year                0\n",
       "petrol              0\n",
       "transmission        0\n",
       "mileage             0\n",
       "number_of_owners    0\n",
       "dtype: int64"
      ]
     },
     "execution_count": 11,
     "metadata": {},
     "output_type": "execute_result"
    }
   ],
   "source": [
    "df.isna().sum()"
   ]
  },
  {
   "cell_type": "code",
   "execution_count": 12,
   "id": "a756062b",
   "metadata": {},
   "outputs": [],
   "source": [
    "df[['transmission', 'number_of_owners']] = df[['transmission', 'number_of_owners']].astype('int').astype('object')"
   ]
  },
  {
   "cell_type": "code",
   "execution_count": 13,
   "id": "77f7512d",
   "metadata": {},
   "outputs": [
    {
     "data": {
      "text/html": [
       "<div>\n",
       "<style scoped>\n",
       "    .dataframe tbody tr th:only-of-type {\n",
       "        vertical-align: middle;\n",
       "    }\n",
       "\n",
       "    .dataframe tbody tr th {\n",
       "        vertical-align: top;\n",
       "    }\n",
       "\n",
       "    .dataframe thead th {\n",
       "        text-align: right;\n",
       "    }\n",
       "</style>\n",
       "<table border=\"1\" class=\"dataframe\">\n",
       "  <thead>\n",
       "    <tr style=\"text-align: right;\">\n",
       "      <th></th>\n",
       "      <th>location</th>\n",
       "      <th>car_body_type</th>\n",
       "      <th>price</th>\n",
       "      <th>make</th>\n",
       "      <th>model</th>\n",
       "      <th>variant</th>\n",
       "      <th>year</th>\n",
       "      <th>petrol</th>\n",
       "      <th>transmission</th>\n",
       "      <th>mileage</th>\n",
       "      <th>number_of_owners</th>\n",
       "    </tr>\n",
       "  </thead>\n",
       "  <tbody>\n",
       "    <tr>\n",
       "      <th>0</th>\n",
       "      <td>Delhi</td>\n",
       "      <td>SUV</td>\n",
       "      <td>3150000.0</td>\n",
       "      <td>ford</td>\n",
       "      <td>ford-endeavour</td>\n",
       "      <td>version-Endeavour 3.2 Titanium AT 4x4-3417</td>\n",
       "      <td>2019.0</td>\n",
       "      <td>diesel</td>\n",
       "      <td>1</td>\n",
       "      <td>70000.0</td>\n",
       "      <td>1</td>\n",
       "    </tr>\n",
       "    <tr>\n",
       "      <th>1</th>\n",
       "      <td>Gujarat</td>\n",
       "      <td>HATCHBACK</td>\n",
       "      <td>125000.0</td>\n",
       "      <td>maruti-suzuki</td>\n",
       "      <td>maruti-suzuki-zen-estilo</td>\n",
       "      <td>zen-estilo-lxi-bsiii</td>\n",
       "      <td>2008.0</td>\n",
       "      <td>cng</td>\n",
       "      <td>2</td>\n",
       "      <td>106402.0</td>\n",
       "      <td>2</td>\n",
       "    </tr>\n",
       "    <tr>\n",
       "      <th>2</th>\n",
       "      <td>Delhi</td>\n",
       "      <td>SEDAN</td>\n",
       "      <td>199000.0</td>\n",
       "      <td>cars-honda</td>\n",
       "      <td>cars-honda-city</td>\n",
       "      <td>version-City 1.5 S MT-757</td>\n",
       "      <td>2009.0</td>\n",
       "      <td>petrol</td>\n",
       "      <td>2</td>\n",
       "      <td>79000.0</td>\n",
       "      <td>2</td>\n",
       "    </tr>\n",
       "    <tr>\n",
       "      <th>3</th>\n",
       "      <td>West Bengal</td>\n",
       "      <td>SEDAN</td>\n",
       "      <td>475000.0</td>\n",
       "      <td>maruti-suzuki</td>\n",
       "      <td>maruti-suzuki-swift-dzire</td>\n",
       "      <td>version-Swift Dzire VDI-1564</td>\n",
       "      <td>2016.0</td>\n",
       "      <td>diesel</td>\n",
       "      <td>2</td>\n",
       "      <td>53000.0</td>\n",
       "      <td>1</td>\n",
       "    </tr>\n",
       "    <tr>\n",
       "      <th>4</th>\n",
       "      <td>Delhi</td>\n",
       "      <td>OTHERS</td>\n",
       "      <td>850000.0</td>\n",
       "      <td>mercedes-benz</td>\n",
       "      <td>mercedes-benz-c-class-2</td>\n",
       "      <td>mercedes-benz-c-class-2-prime-c-200</td>\n",
       "      <td>2011.0</td>\n",
       "      <td>petrol</td>\n",
       "      <td>1</td>\n",
       "      <td>67800.0</td>\n",
       "      <td>2</td>\n",
       "    </tr>\n",
       "  </tbody>\n",
       "</table>\n",
       "</div>"
      ],
      "text/plain": [
       "      location car_body_type      price           make  \\\n",
       "0        Delhi           SUV  3150000.0           ford   \n",
       "1      Gujarat     HATCHBACK   125000.0  maruti-suzuki   \n",
       "2        Delhi         SEDAN   199000.0     cars-honda   \n",
       "3  West Bengal         SEDAN   475000.0  maruti-suzuki   \n",
       "4        Delhi        OTHERS   850000.0  mercedes-benz   \n",
       "\n",
       "                       model                                     variant  \\\n",
       "0             ford-endeavour  version-Endeavour 3.2 Titanium AT 4x4-3417   \n",
       "1   maruti-suzuki-zen-estilo                        zen-estilo-lxi-bsiii   \n",
       "2            cars-honda-city                   version-City 1.5 S MT-757   \n",
       "3  maruti-suzuki-swift-dzire                version-Swift Dzire VDI-1564   \n",
       "4    mercedes-benz-c-class-2         mercedes-benz-c-class-2-prime-c-200   \n",
       "\n",
       "     year  petrol transmission   mileage number_of_owners  \n",
       "0  2019.0  diesel            1   70000.0                1  \n",
       "1  2008.0     cng            2  106402.0                2  \n",
       "2  2009.0  petrol            2   79000.0                2  \n",
       "3  2016.0  diesel            2   53000.0                1  \n",
       "4  2011.0  petrol            1   67800.0                2  "
      ]
     },
     "execution_count": 13,
     "metadata": {},
     "output_type": "execute_result"
    }
   ],
   "source": [
    "df.head()"
   ]
  },
  {
   "cell_type": "code",
   "execution_count": 15,
   "id": "3de6035b",
   "metadata": {},
   "outputs": [
    {
     "ename": "ValueError",
     "evalue": "'reds' is not a valid value for name; supported values are 'Accent', 'Accent_r', 'Blues', 'Blues_r', 'BrBG', 'BrBG_r', 'BuGn', 'BuGn_r', 'BuPu', 'BuPu_r', 'CMRmap', 'CMRmap_r', 'Dark2', 'Dark2_r', 'GnBu', 'GnBu_r', 'Greens', 'Greens_r', 'Greys', 'Greys_r', 'OrRd', 'OrRd_r', 'Oranges', 'Oranges_r', 'PRGn', 'PRGn_r', 'Paired', 'Paired_r', 'Pastel1', 'Pastel1_r', 'Pastel2', 'Pastel2_r', 'PiYG', 'PiYG_r', 'PuBu', 'PuBuGn', 'PuBuGn_r', 'PuBu_r', 'PuOr', 'PuOr_r', 'PuRd', 'PuRd_r', 'Purples', 'Purples_r', 'RdBu', 'RdBu_r', 'RdGy', 'RdGy_r', 'RdPu', 'RdPu_r', 'RdYlBu', 'RdYlBu_r', 'RdYlGn', 'RdYlGn_r', 'Reds', 'Reds_r', 'Set1', 'Set1_r', 'Set2', 'Set2_r', 'Set3', 'Set3_r', 'Spectral', 'Spectral_r', 'Wistia', 'Wistia_r', 'YlGn', 'YlGnBu', 'YlGnBu_r', 'YlGn_r', 'YlOrBr', 'YlOrBr_r', 'YlOrRd', 'YlOrRd_r', 'afmhot', 'afmhot_r', 'autumn', 'autumn_r', 'binary', 'binary_r', 'bone', 'bone_r', 'brg', 'brg_r', 'bwr', 'bwr_r', 'cividis', 'cividis_r', 'cool', 'cool_r', 'coolwarm', 'coolwarm_r', 'copper', 'copper_r', 'crest', 'crest_r', 'cubehelix', 'cubehelix_r', 'flag', 'flag_r', 'flare', 'flare_r', 'gist_earth', 'gist_earth_r', 'gist_gray', 'gist_gray_r', 'gist_heat', 'gist_heat_r', 'gist_ncar', 'gist_ncar_r', 'gist_rainbow', 'gist_rainbow_r', 'gist_stern', 'gist_stern_r', 'gist_yarg', 'gist_yarg_r', 'gnuplot', 'gnuplot2', 'gnuplot2_r', 'gnuplot_r', 'gray', 'gray_r', 'hot', 'hot_r', 'hsv', 'hsv_r', 'icefire', 'icefire_r', 'inferno', 'inferno_r', 'jet', 'jet_r', 'magma', 'magma_r', 'mako', 'mako_r', 'nipy_spectral', 'nipy_spectral_r', 'ocean', 'ocean_r', 'pink', 'pink_r', 'plasma', 'plasma_r', 'prism', 'prism_r', 'rainbow', 'rainbow_r', 'rocket', 'rocket_r', 'seismic', 'seismic_r', 'spring', 'spring_r', 'summer', 'summer_r', 'tab10', 'tab10_r', 'tab20', 'tab20_r', 'tab20b', 'tab20b_r', 'tab20c', 'tab20c_r', 'terrain', 'terrain_r', 'turbo', 'turbo_r', 'twilight', 'twilight_r', 'twilight_shifted', 'twilight_shifted_r', 'viridis', 'viridis_r', 'vlag', 'vlag_r', 'winter', 'winter_r'",
     "output_type": "error",
     "traceback": [
      "\u001b[1;31m---------------------------------------------------------------------------\u001b[0m",
      "\u001b[1;31mValueError\u001b[0m                                Traceback (most recent call last)",
      "Input \u001b[1;32mIn [15]\u001b[0m, in \u001b[0;36m<cell line: 1>\u001b[1;34m()\u001b[0m\n\u001b[1;32m----> 1\u001b[0m \u001b[43msns\u001b[49m\u001b[38;5;241;43m.\u001b[39;49m\u001b[43mheatmap\u001b[49m\u001b[43m(\u001b[49m\u001b[43mdf\u001b[49m\u001b[38;5;241;43m.\u001b[39;49m\u001b[43mcorr\u001b[49m\u001b[43m(\u001b[49m\u001b[43m)\u001b[49m\u001b[43m,\u001b[49m\u001b[43m \u001b[49m\u001b[43mcmap\u001b[49m\u001b[38;5;241;43m=\u001b[39;49m\u001b[38;5;124;43m'\u001b[39;49m\u001b[38;5;124;43mreds\u001b[39;49m\u001b[38;5;124;43m'\u001b[39;49m\u001b[43m)\u001b[49m\n",
      "File \u001b[1;32m~\\anaconda3\\lib\\site-packages\\seaborn\\_decorators.py:46\u001b[0m, in \u001b[0;36m_deprecate_positional_args.<locals>.inner_f\u001b[1;34m(*args, **kwargs)\u001b[0m\n\u001b[0;32m     36\u001b[0m     warnings\u001b[38;5;241m.\u001b[39mwarn(\n\u001b[0;32m     37\u001b[0m         \u001b[38;5;124m\"\u001b[39m\u001b[38;5;124mPass the following variable\u001b[39m\u001b[38;5;132;01m{}\u001b[39;00m\u001b[38;5;124m as \u001b[39m\u001b[38;5;132;01m{}\u001b[39;00m\u001b[38;5;124mkeyword arg\u001b[39m\u001b[38;5;132;01m{}\u001b[39;00m\u001b[38;5;124m: \u001b[39m\u001b[38;5;132;01m{}\u001b[39;00m\u001b[38;5;124m. \u001b[39m\u001b[38;5;124m\"\u001b[39m\n\u001b[0;32m     38\u001b[0m         \u001b[38;5;124m\"\u001b[39m\u001b[38;5;124mFrom version 0.12, the only valid positional argument \u001b[39m\u001b[38;5;124m\"\u001b[39m\n\u001b[1;32m   (...)\u001b[0m\n\u001b[0;32m     43\u001b[0m         \u001b[38;5;167;01mFutureWarning\u001b[39;00m\n\u001b[0;32m     44\u001b[0m     )\n\u001b[0;32m     45\u001b[0m kwargs\u001b[38;5;241m.\u001b[39mupdate({k: arg \u001b[38;5;28;01mfor\u001b[39;00m k, arg \u001b[38;5;129;01min\u001b[39;00m \u001b[38;5;28mzip\u001b[39m(sig\u001b[38;5;241m.\u001b[39mparameters, args)})\n\u001b[1;32m---> 46\u001b[0m \u001b[38;5;28;01mreturn\u001b[39;00m f(\u001b[38;5;241m*\u001b[39m\u001b[38;5;241m*\u001b[39mkwargs)\n",
      "File \u001b[1;32m~\\anaconda3\\lib\\site-packages\\seaborn\\matrix.py:540\u001b[0m, in \u001b[0;36mheatmap\u001b[1;34m(data, vmin, vmax, cmap, center, robust, annot, fmt, annot_kws, linewidths, linecolor, cbar, cbar_kws, cbar_ax, square, xticklabels, yticklabels, mask, ax, **kwargs)\u001b[0m\n\u001b[0;32m    362\u001b[0m \u001b[38;5;124;03m\"\"\"Plot rectangular data as a color-encoded matrix.\u001b[39;00m\n\u001b[0;32m    363\u001b[0m \n\u001b[0;32m    364\u001b[0m \u001b[38;5;124;03mThis is an Axes-level function and will draw the heatmap into the\u001b[39;00m\n\u001b[1;32m   (...)\u001b[0m\n\u001b[0;32m    537\u001b[0m \u001b[38;5;124;03m    ...     ax = sns.heatmap(corr, mask=mask, vmax=.3, square=True)\u001b[39;00m\n\u001b[0;32m    538\u001b[0m \u001b[38;5;124;03m\"\"\"\u001b[39;00m\n\u001b[0;32m    539\u001b[0m \u001b[38;5;66;03m# Initialize the plotter object\u001b[39;00m\n\u001b[1;32m--> 540\u001b[0m plotter \u001b[38;5;241m=\u001b[39m \u001b[43m_HeatMapper\u001b[49m\u001b[43m(\u001b[49m\u001b[43mdata\u001b[49m\u001b[43m,\u001b[49m\u001b[43m \u001b[49m\u001b[43mvmin\u001b[49m\u001b[43m,\u001b[49m\u001b[43m \u001b[49m\u001b[43mvmax\u001b[49m\u001b[43m,\u001b[49m\u001b[43m \u001b[49m\u001b[43mcmap\u001b[49m\u001b[43m,\u001b[49m\u001b[43m \u001b[49m\u001b[43mcenter\u001b[49m\u001b[43m,\u001b[49m\u001b[43m \u001b[49m\u001b[43mrobust\u001b[49m\u001b[43m,\u001b[49m\u001b[43m \u001b[49m\u001b[43mannot\u001b[49m\u001b[43m,\u001b[49m\u001b[43m \u001b[49m\u001b[43mfmt\u001b[49m\u001b[43m,\u001b[49m\n\u001b[0;32m    541\u001b[0m \u001b[43m                      \u001b[49m\u001b[43mannot_kws\u001b[49m\u001b[43m,\u001b[49m\u001b[43m \u001b[49m\u001b[43mcbar\u001b[49m\u001b[43m,\u001b[49m\u001b[43m \u001b[49m\u001b[43mcbar_kws\u001b[49m\u001b[43m,\u001b[49m\u001b[43m \u001b[49m\u001b[43mxticklabels\u001b[49m\u001b[43m,\u001b[49m\n\u001b[0;32m    542\u001b[0m \u001b[43m                      \u001b[49m\u001b[43myticklabels\u001b[49m\u001b[43m,\u001b[49m\u001b[43m \u001b[49m\u001b[43mmask\u001b[49m\u001b[43m)\u001b[49m\n\u001b[0;32m    544\u001b[0m \u001b[38;5;66;03m# Add the pcolormesh kwargs here\u001b[39;00m\n\u001b[0;32m    545\u001b[0m kwargs[\u001b[38;5;124m\"\u001b[39m\u001b[38;5;124mlinewidths\u001b[39m\u001b[38;5;124m\"\u001b[39m] \u001b[38;5;241m=\u001b[39m linewidths\n",
      "File \u001b[1;32m~\\anaconda3\\lib\\site-packages\\seaborn\\matrix.py:159\u001b[0m, in \u001b[0;36m_HeatMapper.__init__\u001b[1;34m(self, data, vmin, vmax, cmap, center, robust, annot, fmt, annot_kws, cbar, cbar_kws, xticklabels, yticklabels, mask)\u001b[0m\n\u001b[0;32m    156\u001b[0m \u001b[38;5;28mself\u001b[39m\u001b[38;5;241m.\u001b[39mylabel \u001b[38;5;241m=\u001b[39m ylabel \u001b[38;5;28;01mif\u001b[39;00m ylabel \u001b[38;5;129;01mis\u001b[39;00m \u001b[38;5;129;01mnot\u001b[39;00m \u001b[38;5;28;01mNone\u001b[39;00m \u001b[38;5;28;01melse\u001b[39;00m \u001b[38;5;124m\"\u001b[39m\u001b[38;5;124m\"\u001b[39m\n\u001b[0;32m    158\u001b[0m \u001b[38;5;66;03m# Determine good default values for the colormapping\u001b[39;00m\n\u001b[1;32m--> 159\u001b[0m \u001b[38;5;28;43mself\u001b[39;49m\u001b[38;5;241;43m.\u001b[39;49m\u001b[43m_determine_cmap_params\u001b[49m\u001b[43m(\u001b[49m\u001b[43mplot_data\u001b[49m\u001b[43m,\u001b[49m\u001b[43m \u001b[49m\u001b[43mvmin\u001b[49m\u001b[43m,\u001b[49m\u001b[43m \u001b[49m\u001b[43mvmax\u001b[49m\u001b[43m,\u001b[49m\n\u001b[0;32m    160\u001b[0m \u001b[43m                            \u001b[49m\u001b[43mcmap\u001b[49m\u001b[43m,\u001b[49m\u001b[43m \u001b[49m\u001b[43mcenter\u001b[49m\u001b[43m,\u001b[49m\u001b[43m \u001b[49m\u001b[43mrobust\u001b[49m\u001b[43m)\u001b[49m\n\u001b[0;32m    162\u001b[0m \u001b[38;5;66;03m# Sort out the annotations\u001b[39;00m\n\u001b[0;32m    163\u001b[0m \u001b[38;5;28;01mif\u001b[39;00m annot \u001b[38;5;129;01mis\u001b[39;00m \u001b[38;5;28;01mNone\u001b[39;00m \u001b[38;5;129;01mor\u001b[39;00m annot \u001b[38;5;129;01mis\u001b[39;00m \u001b[38;5;28;01mFalse\u001b[39;00m:\n",
      "File \u001b[1;32m~\\anaconda3\\lib\\site-packages\\seaborn\\matrix.py:213\u001b[0m, in \u001b[0;36m_HeatMapper._determine_cmap_params\u001b[1;34m(self, plot_data, vmin, vmax, cmap, center, robust)\u001b[0m\n\u001b[0;32m    211\u001b[0m         \u001b[38;5;28mself\u001b[39m\u001b[38;5;241m.\u001b[39mcmap \u001b[38;5;241m=\u001b[39m cm\u001b[38;5;241m.\u001b[39micefire\n\u001b[0;32m    212\u001b[0m \u001b[38;5;28;01melif\u001b[39;00m \u001b[38;5;28misinstance\u001b[39m(cmap, \u001b[38;5;28mstr\u001b[39m):\n\u001b[1;32m--> 213\u001b[0m     \u001b[38;5;28mself\u001b[39m\u001b[38;5;241m.\u001b[39mcmap \u001b[38;5;241m=\u001b[39m \u001b[43mmpl\u001b[49m\u001b[38;5;241;43m.\u001b[39;49m\u001b[43mcm\u001b[49m\u001b[38;5;241;43m.\u001b[39;49m\u001b[43mget_cmap\u001b[49m\u001b[43m(\u001b[49m\u001b[43mcmap\u001b[49m\u001b[43m)\u001b[49m\n\u001b[0;32m    214\u001b[0m \u001b[38;5;28;01melif\u001b[39;00m \u001b[38;5;28misinstance\u001b[39m(cmap, \u001b[38;5;28mlist\u001b[39m):\n\u001b[0;32m    215\u001b[0m     \u001b[38;5;28mself\u001b[39m\u001b[38;5;241m.\u001b[39mcmap \u001b[38;5;241m=\u001b[39m mpl\u001b[38;5;241m.\u001b[39mcolors\u001b[38;5;241m.\u001b[39mListedColormap(cmap)\n",
      "File \u001b[1;32m~\\anaconda3\\lib\\site-packages\\matplotlib\\cm.py:286\u001b[0m, in \u001b[0;36mget_cmap\u001b[1;34m(name, lut)\u001b[0m\n\u001b[0;32m    284\u001b[0m \u001b[38;5;28;01mif\u001b[39;00m \u001b[38;5;28misinstance\u001b[39m(name, colors\u001b[38;5;241m.\u001b[39mColormap):\n\u001b[0;32m    285\u001b[0m     \u001b[38;5;28;01mreturn\u001b[39;00m name\n\u001b[1;32m--> 286\u001b[0m \u001b[43m_api\u001b[49m\u001b[38;5;241;43m.\u001b[39;49m\u001b[43mcheck_in_list\u001b[49m\u001b[43m(\u001b[49m\u001b[38;5;28;43msorted\u001b[39;49m\u001b[43m(\u001b[49m\u001b[43m_cmap_registry\u001b[49m\u001b[43m)\u001b[49m\u001b[43m,\u001b[49m\u001b[43m \u001b[49m\u001b[43mname\u001b[49m\u001b[38;5;241;43m=\u001b[39;49m\u001b[43mname\u001b[49m\u001b[43m)\u001b[49m\n\u001b[0;32m    287\u001b[0m \u001b[38;5;28;01mif\u001b[39;00m lut \u001b[38;5;129;01mis\u001b[39;00m \u001b[38;5;28;01mNone\u001b[39;00m:\n\u001b[0;32m    288\u001b[0m     \u001b[38;5;28;01mreturn\u001b[39;00m _cmap_registry[name]\n",
      "File \u001b[1;32m~\\anaconda3\\lib\\site-packages\\matplotlib\\_api\\__init__.py:129\u001b[0m, in \u001b[0;36mcheck_in_list\u001b[1;34m(_values, _print_supported_values, **kwargs)\u001b[0m\n\u001b[0;32m    127\u001b[0m \u001b[38;5;28;01mif\u001b[39;00m _print_supported_values:\n\u001b[0;32m    128\u001b[0m     msg \u001b[38;5;241m+\u001b[39m\u001b[38;5;241m=\u001b[39m \u001b[38;5;124mf\u001b[39m\u001b[38;5;124m\"\u001b[39m\u001b[38;5;124m; supported values are \u001b[39m\u001b[38;5;132;01m{\u001b[39;00m\u001b[38;5;124m'\u001b[39m\u001b[38;5;124m, \u001b[39m\u001b[38;5;124m'\u001b[39m\u001b[38;5;241m.\u001b[39mjoin(\u001b[38;5;28mmap\u001b[39m(\u001b[38;5;28mrepr\u001b[39m, values))\u001b[38;5;132;01m}\u001b[39;00m\u001b[38;5;124m\"\u001b[39m\n\u001b[1;32m--> 129\u001b[0m \u001b[38;5;28;01mraise\u001b[39;00m \u001b[38;5;167;01mValueError\u001b[39;00m(msg)\n",
      "\u001b[1;31mValueError\u001b[0m: 'reds' is not a valid value for name; supported values are 'Accent', 'Accent_r', 'Blues', 'Blues_r', 'BrBG', 'BrBG_r', 'BuGn', 'BuGn_r', 'BuPu', 'BuPu_r', 'CMRmap', 'CMRmap_r', 'Dark2', 'Dark2_r', 'GnBu', 'GnBu_r', 'Greens', 'Greens_r', 'Greys', 'Greys_r', 'OrRd', 'OrRd_r', 'Oranges', 'Oranges_r', 'PRGn', 'PRGn_r', 'Paired', 'Paired_r', 'Pastel1', 'Pastel1_r', 'Pastel2', 'Pastel2_r', 'PiYG', 'PiYG_r', 'PuBu', 'PuBuGn', 'PuBuGn_r', 'PuBu_r', 'PuOr', 'PuOr_r', 'PuRd', 'PuRd_r', 'Purples', 'Purples_r', 'RdBu', 'RdBu_r', 'RdGy', 'RdGy_r', 'RdPu', 'RdPu_r', 'RdYlBu', 'RdYlBu_r', 'RdYlGn', 'RdYlGn_r', 'Reds', 'Reds_r', 'Set1', 'Set1_r', 'Set2', 'Set2_r', 'Set3', 'Set3_r', 'Spectral', 'Spectral_r', 'Wistia', 'Wistia_r', 'YlGn', 'YlGnBu', 'YlGnBu_r', 'YlGn_r', 'YlOrBr', 'YlOrBr_r', 'YlOrRd', 'YlOrRd_r', 'afmhot', 'afmhot_r', 'autumn', 'autumn_r', 'binary', 'binary_r', 'bone', 'bone_r', 'brg', 'brg_r', 'bwr', 'bwr_r', 'cividis', 'cividis_r', 'cool', 'cool_r', 'coolwarm', 'coolwarm_r', 'copper', 'copper_r', 'crest', 'crest_r', 'cubehelix', 'cubehelix_r', 'flag', 'flag_r', 'flare', 'flare_r', 'gist_earth', 'gist_earth_r', 'gist_gray', 'gist_gray_r', 'gist_heat', 'gist_heat_r', 'gist_ncar', 'gist_ncar_r', 'gist_rainbow', 'gist_rainbow_r', 'gist_stern', 'gist_stern_r', 'gist_yarg', 'gist_yarg_r', 'gnuplot', 'gnuplot2', 'gnuplot2_r', 'gnuplot_r', 'gray', 'gray_r', 'hot', 'hot_r', 'hsv', 'hsv_r', 'icefire', 'icefire_r', 'inferno', 'inferno_r', 'jet', 'jet_r', 'magma', 'magma_r', 'mako', 'mako_r', 'nipy_spectral', 'nipy_spectral_r', 'ocean', 'ocean_r', 'pink', 'pink_r', 'plasma', 'plasma_r', 'prism', 'prism_r', 'rainbow', 'rainbow_r', 'rocket', 'rocket_r', 'seismic', 'seismic_r', 'spring', 'spring_r', 'summer', 'summer_r', 'tab10', 'tab10_r', 'tab20', 'tab20_r', 'tab20b', 'tab20b_r', 'tab20c', 'tab20c_r', 'terrain', 'terrain_r', 'turbo', 'turbo_r', 'twilight', 'twilight_r', 'twilight_shifted', 'twilight_shifted_r', 'viridis', 'viridis_r', 'vlag', 'vlag_r', 'winter', 'winter_r'"
     ]
    }
   ],
   "source": [
    "sns.heatmap(df.corr(), cmap='YlGnBu_r')"
   ]
  },
  {
   "cell_type": "markdown",
   "id": "b0abeee4",
   "metadata": {},
   "source": [
    "# Univariate Analysis"
   ]
  },
  {
   "cell_type": "code",
   "execution_count": null,
   "id": "a6a9f787",
   "metadata": {
    "scrolled": false
   },
   "outputs": [],
   "source": [
    "plt.figure(figsize=(15,100))\n",
    "for i,column_data in enumerate(df.dtypes.items()):\n",
    "    plt.subplot(25,1,i+1)\n",
    "    plt.subplots_adjust(hspace=2)\n",
    "    column, dtype = column_data\n",
    "    if dtype == 'object':\n",
    "        plt.xticks(rotation=90)\n",
    "        sns.histplot(df[column])\n",
    "    else:\n",
    "        plt.xticks(rotation=90)\n",
    "        sns.histplot(df[column],kde=True)"
   ]
  },
  {
   "cell_type": "code",
   "execution_count": null,
   "id": "b27fb964",
   "metadata": {
    "scrolled": false
   },
   "outputs": [],
   "source": [
    "#Bivariate analysis \n",
    "plt.figure(figsize=[15,200])\n",
    "j = 0 \n",
    "for column, dtype in df.drop('price',axis=1).dtypes.items():\n",
    "    if dtype == 'object':\n",
    "        plt.subplot(30,1,j+1)  \n",
    "        plt.xticks(rotation=90)\n",
    "        plt.subplots_adjust(hspace=1)\n",
    "        plt.title(column + \" vs Price\", fontsize = 20)\n",
    "        sns.barplot(x = df[column],y = df['price'],)\n",
    "        j += 1"
   ]
  },
  {
   "cell_type": "markdown",
   "id": "702de597",
   "metadata": {},
   "source": [
    "# Label Encoding"
   ]
  },
  {
   "cell_type": "code",
   "execution_count": null,
   "id": "6dc6df88",
   "metadata": {},
   "outputs": [],
   "source": [
    "obj_columns = df.select_dtypes('object').columns"
   ]
  },
  {
   "cell_type": "code",
   "execution_count": null,
   "id": "fede9167",
   "metadata": {},
   "outputs": [],
   "source": [
    "df[obj_columns] = df[obj_columns].apply(LabelEncoder().fit_transform)"
   ]
  },
  {
   "cell_type": "code",
   "execution_count": null,
   "id": "e7339d77",
   "metadata": {},
   "outputs": [],
   "source": [
    "df"
   ]
  },
  {
   "cell_type": "markdown",
   "id": "43e78c32",
   "metadata": {},
   "source": [
    "# Checking for outliers "
   ]
  },
  {
   "cell_type": "code",
   "execution_count": null,
   "id": "44635e73",
   "metadata": {
    "scrolled": false
   },
   "outputs": [],
   "source": [
    "df.boxplot(figsize=(15,15))"
   ]
  },
  {
   "cell_type": "code",
   "execution_count": null,
   "id": "86c763b7",
   "metadata": {},
   "outputs": [],
   "source": [
    "X = df.drop('price',axis=1)\n",
    "y = df['price']"
   ]
  },
  {
   "cell_type": "code",
   "execution_count": null,
   "id": "4355ae09",
   "metadata": {},
   "outputs": [],
   "source": [
    "X_transfomred = MinMaxScaler().fit_transform(X)\n",
    "X = pd.DataFrame(X_transfomred,columns=X.columns)"
   ]
  },
  {
   "cell_type": "code",
   "execution_count": null,
   "id": "9b741853",
   "metadata": {},
   "outputs": [],
   "source": [
    "X_train, X_test, y_train, y_test = train_test_split(X,y,random_state=True,shuffle=True,test_size=.33)"
   ]
  },
  {
   "cell_type": "code",
   "execution_count": null,
   "id": "d181ff6e",
   "metadata": {},
   "outputs": [],
   "source": [
    "models = [LinearRegression(),RandomForestRegressor(),DecisionTreeRegressor(),KNeighborsRegressor(),GradientBoostingRegressor(),Ridge(),SVR()]"
   ]
  },
  {
   "cell_type": "code",
   "execution_count": null,
   "id": "1b0f9ab9",
   "metadata": {},
   "outputs": [],
   "source": [
    "for model in models:\n",
    "    print('model ',model)\n",
    "    model.fit(X_train,y_train)\n",
    "    y_pred = model.predict(X_test)\n",
    "    r2_s = r2_score(y_test,y_pred)\n",
    "    print('R2 score:',r2_s)\n",
    "    print('Mean Absoulte Error: ',mean_absolute_error(y_test,y_pred))\n",
    "    print('Mean Sqaure Error: ',mean_squared_error(y_test,y_pred))\n",
    "    print('Root Mean Sqaure:',r2_score(y_test,y_pred))\n",
    "    score = cross_val_score(model,X,y,cv=10)\n",
    "    print('Score:',score)\n",
    "    print('cross val score mean: ',score.mean())\n",
    "    print('diffrence between r2 score - cross val score: ',r2_s-score.mean())\n",
    "    print('-'*50)"
   ]
  },
  {
   "cell_type": "markdown",
   "id": "188682ec",
   "metadata": {},
   "source": [
    "# Hyper parameter tunnign"
   ]
  },
  {
   "cell_type": "code",
   "execution_count": null,
   "id": "936ee3d2",
   "metadata": {},
   "outputs": [],
   "source": [
    "param_grid = {\n",
    "    'max_depth' : range(10,20),\n",
    "    'criterion' : ['mse'],\n",
    "    'max_features' : ['auto', 'sqrt'],\n",
    "    'min_samples_leaf' : range(2,6)\n",
    "}\n",
    "gridSearchCV = GridSearchCV(RandomForestRegressor(),param_grid=param_grid,refit=True,verbose=3)"
   ]
  },
  {
   "cell_type": "code",
   "execution_count": null,
   "id": "420dd243",
   "metadata": {
    "scrolled": false
   },
   "outputs": [],
   "source": [
    "gridSearchCV.fit(X_train,y_train)"
   ]
  },
  {
   "cell_type": "code",
   "execution_count": null,
   "id": "c42cdde2",
   "metadata": {},
   "outputs": [],
   "source": [
    "gridSearchCV.best_params_"
   ]
  },
  {
   "cell_type": "code",
   "execution_count": null,
   "id": "a2db89b5",
   "metadata": {},
   "outputs": [],
   "source": [
    "y_pred = gridSearchCV.best_estimator_.predict(X_test)"
   ]
  },
  {
   "cell_type": "code",
   "execution_count": null,
   "id": "7f9723ae",
   "metadata": {},
   "outputs": [],
   "source": [
    "r2_score(y_test,y_pred)"
   ]
  },
  {
   "cell_type": "markdown",
   "id": "a19ae169",
   "metadata": {},
   "source": [
    "# Saving model"
   ]
  },
  {
   "cell_type": "code",
   "execution_count": null,
   "id": "a05ebb8f",
   "metadata": {},
   "outputs": [],
   "source": [
    "joblib.dump(gridSearchCV.best_estimator_,'gridSearchCV.obj')"
   ]
  }
 ],
 "metadata": {
  "kernelspec": {
   "display_name": "Python 3 (ipykernel)",
   "language": "python",
   "name": "python3"
  },
  "language_info": {
   "codemirror_mode": {
    "name": "ipython",
    "version": 3
   },
   "file_extension": ".py",
   "mimetype": "text/x-python",
   "name": "python",
   "nbconvert_exporter": "python",
   "pygments_lexer": "ipython3",
   "version": "3.9.12"
  }
 },
 "nbformat": 4,
 "nbformat_minor": 5
}
