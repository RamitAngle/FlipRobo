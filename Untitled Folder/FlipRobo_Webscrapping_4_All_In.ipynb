{
 "cells": [
  {
   "cell_type": "code",
   "execution_count": 1,
   "metadata": {},
   "outputs": [
    {
     "name": "stdout",
     "output_type": "stream",
     "text": [
      "Requirement already satisfied: pyautoit in c:\\users\\asus\\anaconda3\\lib\\site-packages (0.6.5)\n"
     ]
    }
   ],
   "source": [
    "! pip install -U pyautoit"
   ]
  },
  {
   "cell_type": "code",
   "execution_count": 2,
   "metadata": {},
   "outputs": [],
   "source": [
    "# Importing Libraries\n",
    "import selenium\n",
    "import pandas as pd\n",
    "import time\n",
    "from bs4 import BeautifulSoup\n",
    "\n",
    "# Importing selenium webdriver \n",
    "from selenium import webdriver\n",
    "\n",
    "# Importing required Exceptions which needs to handled\n",
    "from selenium.common.exceptions import StaleElementReferenceException, NoSuchElementException\n",
    "\n",
    "#Importing requests\n",
    "import requests\n",
    "\n",
    "# importing regex\n",
    "import re"
   ]
  },
  {
   "cell_type": "markdown",
   "metadata": {},
   "source": [
    "# 1. Scrape the details of most viewed videos on YouTube from Wikipedia:"
   ]
  },
  {
   "cell_type": "code",
   "execution_count": 3,
   "metadata": {},
   "outputs": [
    {
     "name": "stderr",
     "output_type": "stream",
     "text": [
      "C:\\Users\\ASUS\\AppData\\Local\\Temp\\ipykernel_14780\\171240766.py:2: DeprecationWarning: executable_path has been deprecated, please pass in a Service object\n",
      "  driver = webdriver.Chrome(r\"C:\\\\Users\\\\ASUS\\\\Untitled Folder\\\\chromedriver.exe\")\n"
     ]
    }
   ],
   "source": [
    "# Activating the chrome browser\n",
    "driver = webdriver.Chrome(r\"C:\\\\Users\\\\ASUS\\\\Untitled Folder\\\\chromedriver.exe\")"
   ]
  },
  {
   "cell_type": "code",
   "execution_count": 4,
   "metadata": {},
   "outputs": [],
   "source": [
    "url_1=\"https://en.wikipedia.org/wiki/List_of_most-viewed_YouTube_videos\""
   ]
  },
  {
   "cell_type": "code",
   "execution_count": 5,
   "metadata": {},
   "outputs": [],
   "source": [
    "driver.get(url_1)"
   ]
  },
  {
   "cell_type": "code",
   "execution_count": 6,
   "metadata": {},
   "outputs": [],
   "source": [
    "Rank=[]\n",
    "Name=[]\n",
    "Artist=[]\n",
    "Upload_Date=[]\n",
    "Views=[]"
   ]
  },
  {
   "cell_type": "code",
   "execution_count": 7,
   "metadata": {},
   "outputs": [
    {
     "name": "stderr",
     "output_type": "stream",
     "text": [
      "C:\\Users\\ASUS\\AppData\\Local\\Temp\\ipykernel_14780\\2736760524.py:1: DeprecationWarning: find_elements_by_xpath is deprecated. Please use find_elements(by=By.XPATH, value=xpath) instead\n",
      "  search_1 = driver.find_elements_by_xpath('//*[@id=\"noarticletext\"]/tbody/tr/td/span/a')       # Locating page foe top videos by xpath\n"
     ]
    }
   ],
   "source": [
    "search_1 = driver.find_elements_by_xpath('//*[@id=\"noarticletext\"]/tbody/tr/td/span/a')       # Locating page foe top videos by xpath\n",
    "##search_1.click()"
   ]
  },
  {
   "cell_type": "code",
   "execution_count": 8,
   "metadata": {},
   "outputs": [
    {
     "name": "stderr",
     "output_type": "stream",
     "text": [
      "C:\\Users\\ASUS\\AppData\\Local\\Temp\\ipykernel_14780\\3715565620.py:1: DeprecationWarning: find_elements_by_xpath is deprecated. Please use find_elements(by=By.XPATH, value=xpath) instead\n",
      "  search_2 = driver.find_elements_by_xpath('//*[@id=\"mw-content-text\"]/div[3]/ul/li[1]/div[1]/a')       # Locating page for top youtube videos by xpath\n"
     ]
    }
   ],
   "source": [
    "search_2 = driver.find_elements_by_xpath('//*[@id=\"mw-content-text\"]/div[3]/ul/li[1]/div[1]/a')       # Locating page for top youtube videos by xpath\n",
    "##search_2.click()"
   ]
  },
  {
   "cell_type": "code",
   "execution_count": 9,
   "metadata": {},
   "outputs": [
    {
     "name": "stderr",
     "output_type": "stream",
     "text": [
      "C:\\Users\\ASUS\\AppData\\Local\\Temp\\ipykernel_14780\\1608373456.py:2: DeprecationWarning: find_elements_by_xpath is deprecated. Please use find_elements(by=By.XPATH, value=xpath) instead\n",
      "  rk=driver.find_elements_by_xpath(\"//*[@id='mw-content-text']/div[1]/table[2]/tbody/tr/td[1]\")\n"
     ]
    },
    {
     "name": "stdout",
     "output_type": "stream",
     "text": [
      "30 ['1.', '2.', '3.', '4.', '5.', '6.', '7.', '8.', '9.', '10.', '11.', '12.', '13.', '14.', '15.', '16.', '17.', '18.', '19.', '20.', '21.', '22.', '23.', '24.', '25.', '26.', '27.', '28.', '29.', '30.']\n"
     ]
    }
   ],
   "source": [
    "#scraping the Rank \n",
    "rk=driver.find_elements_by_xpath(\"//*[@id='mw-content-text']/div[1]/table[2]/tbody/tr/td[1]\")\n",
    "for i in rk:\n",
    "    if i.text is None :\n",
    "        Rank.append(\"--\") \n",
    "    else:\n",
    "        Rank.append(i.text)\n",
    "print(len(Rank),Rank)"
   ]
  },
  {
   "cell_type": "code",
   "execution_count": 10,
   "metadata": {},
   "outputs": [
    {
     "name": "stdout",
     "output_type": "stream",
     "text": [
      "1 ['This article needs additional citations for verification. Please help improve this article by adding citations to reliable sources. Unsourced material may be challenged and removed.\\nFind sources: \"List of most-viewed YouTube videos\" – news · newspapers · books · scholar · JSTOR (March 2021) (Learn how and when to remove this template message)']\n"
     ]
    },
    {
     "name": "stderr",
     "output_type": "stream",
     "text": [
      "C:\\Users\\ASUS\\AppData\\Local\\Temp\\ipykernel_14780\\2620995079.py:2: DeprecationWarning: find_elements_by_xpath is deprecated. Please use find_elements(by=By.XPATH, value=xpath) instead\n",
      "  nm=driver.find_elements_by_xpath(\"//*[@id='mw-content-text']/div[1]/table[1]/tbody/tr/td[2]\")\n"
     ]
    }
   ],
   "source": [
    "#scraping the Video Name \n",
    "nm=driver.find_elements_by_xpath(\"//*[@id='mw-content-text']/div[1]/table[1]/tbody/tr/td[2]\")\n",
    "for i in nm:\n",
    "    if i.text is None :\n",
    "        Name.append(\"--\") \n",
    "    else:\n",
    "        Name.append(i.text)\n",
    "print(len(Name),Name)"
   ]
  },
  {
   "cell_type": "code",
   "execution_count": 11,
   "metadata": {},
   "outputs": [
    {
     "name": "stderr",
     "output_type": "stream",
     "text": [
      "C:\\Users\\ASUS\\AppData\\Local\\Temp\\ipykernel_14780\\1201608392.py:2: DeprecationWarning: find_elements_by_xpath is deprecated. Please use find_elements(by=By.XPATH, value=xpath) instead\n",
      "  Ar=driver.find_elements_by_xpath(\"//*[@id='mw-content-text']/div[1]/table[2]/tbody/tr/td[3]\")\n"
     ]
    },
    {
     "name": "stdout",
     "output_type": "stream",
     "text": [
      "30 [\"Pinkfong Baby Shark - Kids' Songs & Stories\", 'Luis Fonsi', 'LooLoo Kids', 'Ed Sheeran', 'Wiz Khalifa', 'Cocomelon – Nursery Rhymes', 'ChuChu TV', 'Mark Ronson', 'Miroshka TV', 'Get Movies', 'Psy', 'Cocomelon – Nursery Rhymes', 'El Chombo', 'Maroon 5', 'Katy Perry', 'OneRepublic', 'Justin Bieber', 'Ed Sheeran', 'Crazy Frog', 'Maroon 5', 'Alan Walker', 'Katy Perry', 'Cocomelon – Nursery Rhymes', 'Passenger', 'Enrique Iglesias', 'Major Lazer', 'Ed Sheeran', 'Shakira', 'Taylor Swift', 'J Balvin']\n"
     ]
    }
   ],
   "source": [
    "#scraping the Artist \n",
    "Ar=driver.find_elements_by_xpath(\"//*[@id='mw-content-text']/div[1]/table[2]/tbody/tr/td[3]\")\n",
    "for i in Ar:\n",
    "    if i.text is None :\n",
    "        Artist.append(\"--\") \n",
    "    else:\n",
    "        Artist.append(i.text)\n",
    "print(len(Artist),Artist)"
   ]
  },
  {
   "cell_type": "code",
   "execution_count": 12,
   "metadata": {},
   "outputs": [
    {
     "name": "stderr",
     "output_type": "stream",
     "text": [
      "C:\\Users\\ASUS\\AppData\\Local\\Temp\\ipykernel_14780\\470988120.py:2: DeprecationWarning: find_elements_by_xpath is deprecated. Please use find_elements(by=By.XPATH, value=xpath) instead\n",
      "  date=driver.find_elements_by_xpath(\"//*[@id='mw-content-text']/div[1]/table[2]/tbody/tr/td[5]\")\n"
     ]
    },
    {
     "name": "stdout",
     "output_type": "stream",
     "text": [
      "30 ['June 17, 2016', 'January 12, 2017', 'October 8, 2016', 'January 30, 2017', 'April 6, 2015', 'May 2, 2018', 'March 6, 2014', 'November 19, 2014', 'February 27, 2018', 'January 31, 2012', 'July 15, 2012', 'May 24, 2018', 'April 5, 2018', 'January 14, 2015', 'September 5, 2013', 'May 31, 2013', 'October 22, 2015', 'October 7, 2014', 'June 16, 2009', 'May 31, 2018', 'December 3, 2015', 'February 20, 2014', 'June 25, 2018', 'July 25, 2012', 'April 11, 2014', 'March 22, 2015', 'November 9, 2017', 'June 4, 2010', 'August 18, 2014', 'June 29, 2017']\n"
     ]
    }
   ],
   "source": [
    "#scraping the Upload_Date \n",
    "date=driver.find_elements_by_xpath(\"//*[@id='mw-content-text']/div[1]/table[2]/tbody/tr/td[5]\")\n",
    "for i in date:\n",
    "    if i.text is None :\n",
    "        Upload_Date.append(\"--\") \n",
    "    else:\n",
    "        Upload_Date.append(i.text)\n",
    "print(len(Upload_Date),Upload_Date)"
   ]
  },
  {
   "cell_type": "code",
   "execution_count": 13,
   "metadata": {},
   "outputs": [
    {
     "name": "stderr",
     "output_type": "stream",
     "text": [
      "C:\\Users\\ASUS\\AppData\\Local\\Temp\\ipykernel_14780\\4050819733.py:2: DeprecationWarning: find_elements_by_xpath is deprecated. Please use find_elements(by=By.XPATH, value=xpath) instead\n",
      "  v=driver.find_elements_by_xpath(\"//*[@id='mw-content-text']/div[1]/table[2]/tbody/tr/td[4]\")\n"
     ]
    },
    {
     "name": "stdout",
     "output_type": "stream",
     "text": [
      "30 ['10.95', '7.90', '6.39', '5.76', '5.57', '5.51', '4.72', '4.63', '4.59', '4.50', '4.48', '4.20', '3.98', '3.72', '3.61', '3.61', '3.56', '3.47', '3.42', '3.31', '3.31', '3.30', '3.29', '3.26', '3.23', '3.23', '3.20', '3.19', '3.19', '3.10']\n"
     ]
    }
   ],
   "source": [
    "#scraping the Views \n",
    "v=driver.find_elements_by_xpath(\"//*[@id='mw-content-text']/div[1]/table[2]/tbody/tr/td[4]\")\n",
    "for i in v:\n",
    "    if i.text is None :\n",
    "        Views.append(\"--\") \n",
    "    else:\n",
    "        Views.append(i.text)\n",
    "print(len(Views),Views)"
   ]
  },
  {
   "cell_type": "code",
   "execution_count": 14,
   "metadata": {
    "scrolled": true
   },
   "outputs": [
    {
     "data": {
      "text/html": [
       "<div>\n",
       "<style scoped>\n",
       "    .dataframe tbody tr th:only-of-type {\n",
       "        vertical-align: middle;\n",
       "    }\n",
       "\n",
       "    .dataframe tbody tr th {\n",
       "        vertical-align: top;\n",
       "    }\n",
       "\n",
       "    .dataframe thead th {\n",
       "        text-align: right;\n",
       "    }\n",
       "</style>\n",
       "<table border=\"1\" class=\"dataframe\">\n",
       "  <thead>\n",
       "    <tr style=\"text-align: right;\">\n",
       "      <th></th>\n",
       "      <th>Rank</th>\n",
       "      <th>Artist</th>\n",
       "      <th>Upload_Date</th>\n",
       "      <th>Views In Bllion</th>\n",
       "    </tr>\n",
       "  </thead>\n",
       "  <tbody>\n",
       "    <tr>\n",
       "      <th>0</th>\n",
       "      <td>1.</td>\n",
       "      <td>Pinkfong Baby Shark - Kids' Songs &amp; Stories</td>\n",
       "      <td>June 17, 2016</td>\n",
       "      <td>10.95</td>\n",
       "    </tr>\n",
       "    <tr>\n",
       "      <th>1</th>\n",
       "      <td>2.</td>\n",
       "      <td>Luis Fonsi</td>\n",
       "      <td>January 12, 2017</td>\n",
       "      <td>7.90</td>\n",
       "    </tr>\n",
       "    <tr>\n",
       "      <th>2</th>\n",
       "      <td>3.</td>\n",
       "      <td>LooLoo Kids</td>\n",
       "      <td>October 8, 2016</td>\n",
       "      <td>6.39</td>\n",
       "    </tr>\n",
       "    <tr>\n",
       "      <th>3</th>\n",
       "      <td>4.</td>\n",
       "      <td>Ed Sheeran</td>\n",
       "      <td>January 30, 2017</td>\n",
       "      <td>5.76</td>\n",
       "    </tr>\n",
       "    <tr>\n",
       "      <th>4</th>\n",
       "      <td>5.</td>\n",
       "      <td>Wiz Khalifa</td>\n",
       "      <td>April 6, 2015</td>\n",
       "      <td>5.57</td>\n",
       "    </tr>\n",
       "    <tr>\n",
       "      <th>5</th>\n",
       "      <td>6.</td>\n",
       "      <td>Cocomelon – Nursery Rhymes</td>\n",
       "      <td>May 2, 2018</td>\n",
       "      <td>5.51</td>\n",
       "    </tr>\n",
       "    <tr>\n",
       "      <th>6</th>\n",
       "      <td>7.</td>\n",
       "      <td>ChuChu TV</td>\n",
       "      <td>March 6, 2014</td>\n",
       "      <td>4.72</td>\n",
       "    </tr>\n",
       "    <tr>\n",
       "      <th>7</th>\n",
       "      <td>8.</td>\n",
       "      <td>Mark Ronson</td>\n",
       "      <td>November 19, 2014</td>\n",
       "      <td>4.63</td>\n",
       "    </tr>\n",
       "    <tr>\n",
       "      <th>8</th>\n",
       "      <td>9.</td>\n",
       "      <td>Miroshka TV</td>\n",
       "      <td>February 27, 2018</td>\n",
       "      <td>4.59</td>\n",
       "    </tr>\n",
       "    <tr>\n",
       "      <th>9</th>\n",
       "      <td>10.</td>\n",
       "      <td>Get Movies</td>\n",
       "      <td>January 31, 2012</td>\n",
       "      <td>4.50</td>\n",
       "    </tr>\n",
       "    <tr>\n",
       "      <th>10</th>\n",
       "      <td>11.</td>\n",
       "      <td>Psy</td>\n",
       "      <td>July 15, 2012</td>\n",
       "      <td>4.48</td>\n",
       "    </tr>\n",
       "    <tr>\n",
       "      <th>11</th>\n",
       "      <td>12.</td>\n",
       "      <td>Cocomelon – Nursery Rhymes</td>\n",
       "      <td>May 24, 2018</td>\n",
       "      <td>4.20</td>\n",
       "    </tr>\n",
       "    <tr>\n",
       "      <th>12</th>\n",
       "      <td>13.</td>\n",
       "      <td>El Chombo</td>\n",
       "      <td>April 5, 2018</td>\n",
       "      <td>3.98</td>\n",
       "    </tr>\n",
       "    <tr>\n",
       "      <th>13</th>\n",
       "      <td>14.</td>\n",
       "      <td>Maroon 5</td>\n",
       "      <td>January 14, 2015</td>\n",
       "      <td>3.72</td>\n",
       "    </tr>\n",
       "    <tr>\n",
       "      <th>14</th>\n",
       "      <td>15.</td>\n",
       "      <td>Katy Perry</td>\n",
       "      <td>September 5, 2013</td>\n",
       "      <td>3.61</td>\n",
       "    </tr>\n",
       "    <tr>\n",
       "      <th>15</th>\n",
       "      <td>16.</td>\n",
       "      <td>OneRepublic</td>\n",
       "      <td>May 31, 2013</td>\n",
       "      <td>3.61</td>\n",
       "    </tr>\n",
       "    <tr>\n",
       "      <th>16</th>\n",
       "      <td>17.</td>\n",
       "      <td>Justin Bieber</td>\n",
       "      <td>October 22, 2015</td>\n",
       "      <td>3.56</td>\n",
       "    </tr>\n",
       "    <tr>\n",
       "      <th>17</th>\n",
       "      <td>18.</td>\n",
       "      <td>Ed Sheeran</td>\n",
       "      <td>October 7, 2014</td>\n",
       "      <td>3.47</td>\n",
       "    </tr>\n",
       "    <tr>\n",
       "      <th>18</th>\n",
       "      <td>19.</td>\n",
       "      <td>Crazy Frog</td>\n",
       "      <td>June 16, 2009</td>\n",
       "      <td>3.42</td>\n",
       "    </tr>\n",
       "    <tr>\n",
       "      <th>19</th>\n",
       "      <td>20.</td>\n",
       "      <td>Maroon 5</td>\n",
       "      <td>May 31, 2018</td>\n",
       "      <td>3.31</td>\n",
       "    </tr>\n",
       "    <tr>\n",
       "      <th>20</th>\n",
       "      <td>21.</td>\n",
       "      <td>Alan Walker</td>\n",
       "      <td>December 3, 2015</td>\n",
       "      <td>3.31</td>\n",
       "    </tr>\n",
       "    <tr>\n",
       "      <th>21</th>\n",
       "      <td>22.</td>\n",
       "      <td>Katy Perry</td>\n",
       "      <td>February 20, 2014</td>\n",
       "      <td>3.30</td>\n",
       "    </tr>\n",
       "    <tr>\n",
       "      <th>22</th>\n",
       "      <td>23.</td>\n",
       "      <td>Cocomelon – Nursery Rhymes</td>\n",
       "      <td>June 25, 2018</td>\n",
       "      <td>3.29</td>\n",
       "    </tr>\n",
       "    <tr>\n",
       "      <th>23</th>\n",
       "      <td>24.</td>\n",
       "      <td>Passenger</td>\n",
       "      <td>July 25, 2012</td>\n",
       "      <td>3.26</td>\n",
       "    </tr>\n",
       "    <tr>\n",
       "      <th>24</th>\n",
       "      <td>25.</td>\n",
       "      <td>Enrique Iglesias</td>\n",
       "      <td>April 11, 2014</td>\n",
       "      <td>3.23</td>\n",
       "    </tr>\n",
       "    <tr>\n",
       "      <th>25</th>\n",
       "      <td>26.</td>\n",
       "      <td>Major Lazer</td>\n",
       "      <td>March 22, 2015</td>\n",
       "      <td>3.23</td>\n",
       "    </tr>\n",
       "    <tr>\n",
       "      <th>26</th>\n",
       "      <td>27.</td>\n",
       "      <td>Ed Sheeran</td>\n",
       "      <td>November 9, 2017</td>\n",
       "      <td>3.20</td>\n",
       "    </tr>\n",
       "    <tr>\n",
       "      <th>27</th>\n",
       "      <td>28.</td>\n",
       "      <td>Shakira</td>\n",
       "      <td>June 4, 2010</td>\n",
       "      <td>3.19</td>\n",
       "    </tr>\n",
       "    <tr>\n",
       "      <th>28</th>\n",
       "      <td>29.</td>\n",
       "      <td>Taylor Swift</td>\n",
       "      <td>August 18, 2014</td>\n",
       "      <td>3.19</td>\n",
       "    </tr>\n",
       "    <tr>\n",
       "      <th>29</th>\n",
       "      <td>30.</td>\n",
       "      <td>J Balvin</td>\n",
       "      <td>June 29, 2017</td>\n",
       "      <td>3.10</td>\n",
       "    </tr>\n",
       "  </tbody>\n",
       "</table>\n",
       "</div>"
      ],
      "text/plain": [
       "   Rank                                       Artist        Upload_Date  \\\n",
       "0    1.  Pinkfong Baby Shark - Kids' Songs & Stories      June 17, 2016   \n",
       "1    2.                                   Luis Fonsi   January 12, 2017   \n",
       "2    3.                                  LooLoo Kids    October 8, 2016   \n",
       "3    4.                                   Ed Sheeran   January 30, 2017   \n",
       "4    5.                                  Wiz Khalifa      April 6, 2015   \n",
       "5    6.                   Cocomelon – Nursery Rhymes        May 2, 2018   \n",
       "6    7.                                    ChuChu TV      March 6, 2014   \n",
       "7    8.                                  Mark Ronson  November 19, 2014   \n",
       "8    9.                                  Miroshka TV  February 27, 2018   \n",
       "9   10.                                   Get Movies   January 31, 2012   \n",
       "10  11.                                          Psy      July 15, 2012   \n",
       "11  12.                   Cocomelon – Nursery Rhymes       May 24, 2018   \n",
       "12  13.                                    El Chombo      April 5, 2018   \n",
       "13  14.                                     Maroon 5   January 14, 2015   \n",
       "14  15.                                   Katy Perry  September 5, 2013   \n",
       "15  16.                                  OneRepublic       May 31, 2013   \n",
       "16  17.                                Justin Bieber   October 22, 2015   \n",
       "17  18.                                   Ed Sheeran    October 7, 2014   \n",
       "18  19.                                   Crazy Frog      June 16, 2009   \n",
       "19  20.                                     Maroon 5       May 31, 2018   \n",
       "20  21.                                  Alan Walker   December 3, 2015   \n",
       "21  22.                                   Katy Perry  February 20, 2014   \n",
       "22  23.                   Cocomelon – Nursery Rhymes      June 25, 2018   \n",
       "23  24.                                    Passenger      July 25, 2012   \n",
       "24  25.                             Enrique Iglesias     April 11, 2014   \n",
       "25  26.                                  Major Lazer     March 22, 2015   \n",
       "26  27.                                   Ed Sheeran   November 9, 2017   \n",
       "27  28.                                      Shakira       June 4, 2010   \n",
       "28  29.                                 Taylor Swift    August 18, 2014   \n",
       "29  30.                                     J Balvin      June 29, 2017   \n",
       "\n",
       "   Views In Bllion  \n",
       "0            10.95  \n",
       "1             7.90  \n",
       "2             6.39  \n",
       "3             5.76  \n",
       "4             5.57  \n",
       "5             5.51  \n",
       "6             4.72  \n",
       "7             4.63  \n",
       "8             4.59  \n",
       "9             4.50  \n",
       "10            4.48  \n",
       "11            4.20  \n",
       "12            3.98  \n",
       "13            3.72  \n",
       "14            3.61  \n",
       "15            3.61  \n",
       "16            3.56  \n",
       "17            3.47  \n",
       "18            3.42  \n",
       "19            3.31  \n",
       "20            3.31  \n",
       "21            3.30  \n",
       "22            3.29  \n",
       "23            3.26  \n",
       "24            3.23  \n",
       "25            3.23  \n",
       "26            3.20  \n",
       "27            3.19  \n",
       "28            3.19  \n",
       "29            3.10  "
      ]
     },
     "execution_count": 14,
     "metadata": {},
     "output_type": "execute_result"
    }
   ],
   "source": [
    "Youtube_Video=pd.DataFrame([])\n",
    "Youtube_Video['Rank']=Rank\n",
    "#Youtube_Video['Name']=Name\n",
    "Youtube_Video['Artist']=Artist\n",
    "Youtube_Video['Upload_Date']=Upload_Date\n",
    "Youtube_Video['Views In Bllion']=Views\n",
    "Youtube_Video"
   ]
  },
  {
   "cell_type": "markdown",
   "metadata": {},
   "source": [
    "# 4. Scrape the details of State-wise GDP of India from statisticstime.com. "
   ]
  },
  {
   "cell_type": "code",
   "execution_count": null,
   "metadata": {},
   "outputs": [],
   "source": []
  },
  {
   "cell_type": "code",
   "execution_count": 56,
   "metadata": {},
   "outputs": [],
   "source": [
    "url_4=\"http://statisticstimes.com/\""
   ]
  },
  {
   "cell_type": "code",
   "execution_count": 57,
   "metadata": {},
   "outputs": [],
   "source": [
    "driver.get(url_4)"
   ]
  },
  {
   "cell_type": "code",
   "execution_count": 58,
   "metadata": {},
   "outputs": [],
   "source": [
    "Rank=[]\n",
    "State =[]\n",
    "GDP=[]\n",
    "GSDP_Current=[]\n",
    "GSDP_Previous=[]\n",
    "Share=[]"
   ]
  },
  {
   "cell_type": "code",
   "execution_count": 59,
   "metadata": {},
   "outputs": [
    {
     "name": "stderr",
     "output_type": "stream",
     "text": [
      "C:\\Users\\ASUS\\AppData\\Local\\Temp\\ipykernel_14780\\4159988646.py:1: DeprecationWarning: find_element_by_xpath is deprecated. Please use find_element(by=By.XPATH, value=xpath) instead\n",
      "  economy = driver.find_element_by_xpath('//*[@id=\"top\"]/div[2]/div[2]/button')       # Locating page foe top videos by xpath\n"
     ]
    }
   ],
   "source": [
    "economy = driver.find_element_by_xpath('//*[@id=\"top\"]/div[2]/div[2]/button')       # Locating page foe top videos by xpath\n",
    "economy.click()"
   ]
  },
  {
   "cell_type": "code",
   "execution_count": 60,
   "metadata": {},
   "outputs": [
    {
     "name": "stderr",
     "output_type": "stream",
     "text": [
      "C:\\Users\\ASUS\\AppData\\Local\\Temp\\ipykernel_14780\\3476680932.py:1: DeprecationWarning: find_element_by_xpath is deprecated. Please use find_element(by=By.XPATH, value=xpath) instead\n",
      "  ind = driver.find_element_by_xpath('//*[@id=\"top\"]/div[2]/div[2]/div/a[3]')       # Locating page foe top videos by xpath\n"
     ]
    }
   ],
   "source": [
    "ind = driver.find_element_by_xpath('//*[@id=\"top\"]/div[2]/div[2]/div/a[3]')       # Locating page foe top videos by xpath\n",
    "ind.click()"
   ]
  },
  {
   "cell_type": "code",
   "execution_count": 61,
   "metadata": {},
   "outputs": [
    {
     "name": "stderr",
     "output_type": "stream",
     "text": [
      "C:\\Users\\ASUS\\AppData\\Local\\Temp\\ipykernel_14780\\3701968769.py:1: DeprecationWarning: find_element_by_xpath is deprecated. Please use find_element(by=By.XPATH, value=xpath) instead\n",
      "  gdp = driver.find_element_by_xpath('/html/body/div[2]/div[2]/div[2]/ul/li[1]/a')       # Locating page foe top videos by xpath\n"
     ]
    }
   ],
   "source": [
    "gdp = driver.find_element_by_xpath('/html/body/div[2]/div[2]/div[2]/ul/li[1]/a')       # Locating page foe top videos by xpath\n",
    "gdp.click()"
   ]
  },
  {
   "cell_type": "code",
   "execution_count": 62,
   "metadata": {},
   "outputs": [
    {
     "name": "stderr",
     "output_type": "stream",
     "text": [
      "C:\\Users\\ASUS\\AppData\\Local\\Temp\\ipykernel_14780\\3106250382.py:2: DeprecationWarning: find_elements_by_xpath is deprecated. Please use find_elements(by=By.XPATH, value=xpath) instead\n",
      "  r=driver.find_elements_by_xpath(\"//td[@class='data1']\")\n"
     ]
    },
    {
     "name": "stdout",
     "output_type": "stream",
     "text": [
      "68 ['1', '2', '3', '4', '5', '6', '7', '8', '9', '10', '11', '12', '13', '14', '15', '16', '17', '18', '19', '20', '21', '22', '23', '24', '25', '26', '27', '28', '29', '30', '31', '32', '33', '', '1', '2', '3', '4', '5', '6', '7', '8', '9', '10', '11', '12', '13', '14', '15', '16', '17', '18', '19', '20', '21', '22', '23', '24', '25', '26', '27', '28', '29', '30', '31', '32', '33', '']\n"
     ]
    }
   ],
   "source": [
    "#scraping the Rank \n",
    "r=driver.find_elements_by_xpath(\"//td[@class='data1']\")\n",
    "for i in r:\n",
    "    if i.text is None :\n",
    "        Rank.append(\"--\") \n",
    "    else:\n",
    "        Rank.append(i.text)\n",
    "print(len(Rank),Rank)"
   ]
  },
  {
   "cell_type": "code",
   "execution_count": 63,
   "metadata": {},
   "outputs": [
    {
     "name": "stderr",
     "output_type": "stream",
     "text": [
      "C:\\Users\\ASUS\\AppData\\Local\\Temp\\ipykernel_14780\\635153688.py:2: DeprecationWarning: find_elements_by_xpath is deprecated. Please use find_elements(by=By.XPATH, value=xpath) instead\n",
      "  St=driver.find_elements_by_xpath(\"//td[@class='name']\")\n"
     ]
    },
    {
     "name": "stdout",
     "output_type": "stream",
     "text": [
      "68 ['Maharashtra', 'Tamil Nadu', 'Uttar Pradesh', 'Gujarat', 'Karnataka', 'West Bengal', 'Rajasthan', 'Andhra Pradesh', 'Telangana', 'Madhya Pradesh', 'Kerala', 'Delhi', 'Haryana', 'Bihar', 'Punjab', 'Odisha', 'Assam', 'Chhattisgarh', 'Jharkhand', 'Uttarakhand', 'Jammu & Kashmir', 'Himachal Pradesh', 'Goa', 'Tripura', 'Chandigarh', 'Puducherry', 'Meghalaya', 'Sikkim', 'Manipur', 'Nagaland', 'Arunachal Pradesh', 'Mizoram', 'Andaman & Nicobar Islands', 'India', 'Maharashtra', 'Tamil Nadu', 'Uttar Pradesh', 'Karnataka', 'Gujarat', 'West Bengal', 'Rajasthan', 'Telangana', 'Andhra Pradesh', 'Madhya Pradesh', 'Kerala', 'Delhi', 'Haryana', 'Bihar', 'Punjab', 'Odisha', 'Assam', 'Jharkhand', 'Chhattisgarh', 'Uttarakhand', 'Himachal Pradesh', 'Jammu & Kashmir', 'Goa', 'Tripura', 'Chandigarh', 'Puducherry', 'Meghalaya', 'Manipur', 'Sikkim', 'Nagaland', 'Arunachal Pradesh', 'Mizoram', 'Andaman & Nicobar Islands', 'India']\n"
     ]
    }
   ],
   "source": [
    "#scraping the State \n",
    "St=driver.find_elements_by_xpath(\"//td[@class='name']\")\n",
    "for i in St:\n",
    "    if i.text is None :\n",
    "        State.append(\"--\") \n",
    "    else:\n",
    "        State.append(i.text)\n",
    "print(len(State),State)"
   ]
  },
  {
   "cell_type": "code",
   "execution_count": 64,
   "metadata": {},
   "outputs": [
    {
     "name": "stderr",
     "output_type": "stream",
     "text": [
      "C:\\Users\\ASUS\\AppData\\Local\\Temp\\ipykernel_14780\\2357754037.py:2: DeprecationWarning: find_elements_by_xpath is deprecated. Please use find_elements(by=By.XPATH, value=xpath) instead\n",
      "  gdp=driver.find_elements_by_xpath(\"//*[@id='table_id']/tbody/tr/td[6]\")\n"
     ]
    },
    {
     "name": "stdout",
     "output_type": "stream",
     "text": [
      "33 ['399.921', '247.629', '240.726', '228.290', '226.806', '165.556', '143.179', '131.083', '130.791', '122.977', '118.733', '117.703', '111.519', '80.562', '79.957', '74.098', '47.982', '46.187', '45.145', '37.351', '23.690', '23.369', '11.115', '7.571', '6.397', '5.230', '5.086', '4.363', '4.233', '4.144', '3.737', '3.385', '-']\n"
     ]
    }
   ],
   "source": [
    "#scraping the GDP \n",
    "gdp=driver.find_elements_by_xpath(\"//*[@id='table_id']/tbody/tr/td[6]\")\n",
    "for i in gdp:\n",
    "    if i.text is None :\n",
    "        GDP.append(\"--\") \n",
    "    else:\n",
    "        GDP.append(i.text)\n",
    "print(len(GDP),GDP)"
   ]
  },
  {
   "cell_type": "code",
   "execution_count": 65,
   "metadata": {},
   "outputs": [
    {
     "name": "stderr",
     "output_type": "stream",
     "text": [
      "C:\\Users\\ASUS\\AppData\\Local\\Temp\\ipykernel_14780\\2140809476.py:2: DeprecationWarning: find_elements_by_xpath is deprecated. Please use find_elements(by=By.XPATH, value=xpath) instead\n",
      "  shr=driver.find_elements_by_xpath(\"//*[@id='table_id']/tbody/tr/td[5]\")\n"
     ]
    },
    {
     "name": "stdout",
     "output_type": "stream",
     "text": [
      "33 ['13.94%', '8.63%', '8.39%', '7.96%', '7.91%', '5.77%', '4.99%', '4.57%', '4.56%', '4.29%', '4.14%', '4.10%', '3.89%', '2.81%', '2.79%', '2.58%', '1.67%', '1.61%', '1.57%', '1.30%', '0.83%', '0.81%', '0.39%', '0.26%', '0.22%', '0.18%', '0.18%', '0.15%', '0.15%', '0.14%', '0.13%', '0.12%', '-']\n"
     ]
    }
   ],
   "source": [
    "#scraping the Share \n",
    "shr=driver.find_elements_by_xpath(\"//*[@id='table_id']/tbody/tr/td[5]\")\n",
    "for i in shr:\n",
    "    if i.text is None :\n",
    "        Share.append(\"--\") \n",
    "    else:\n",
    "        Share.append(i.text)\n",
    "print(len(Share),Share)"
   ]
  },
  {
   "cell_type": "code",
   "execution_count": 66,
   "metadata": {},
   "outputs": [
    {
     "name": "stderr",
     "output_type": "stream",
     "text": [
      "C:\\Users\\ASUS\\AppData\\Local\\Temp\\ipykernel_14780\\3491790803.py:2: DeprecationWarning: find_elements_by_xpath is deprecated. Please use find_elements(by=By.XPATH, value=xpath) instead\n",
      "  shr=driver.find_elements_by_xpath(\"//*[@id='table_id']/tbody/tr/td[4]\")\n"
     ]
    },
    {
     "name": "stdout",
     "output_type": "stream",
     "text": [
      "33 ['2,632,792', '1,630,208', '1,584,764', '1,502,899', '1,493,127', '1,089,898', '942,586', '862,957', '861,031', '809,592', '781,653', '774,870', '734,163', '530,363', '526,376', '487,805', '315,881', '304,063', '297,204', '245,895', '155,956', '153,845', '73,170', '49,845', '42,114', '34,433', '33,481', '28,723', '27,870', '27,283', '24,603', '22,287', '-']\n"
     ]
    }
   ],
   "source": [
    "#scraping the GSDP_Current \n",
    "shr=driver.find_elements_by_xpath(\"//*[@id='table_id']/tbody/tr/td[4]\")\n",
    "for i in shr:\n",
    "    if i.text is None :\n",
    "        GSDP_Current.append(\"--\") \n",
    "    else:\n",
    "        GSDP_Current.append(i.text)\n",
    "print(len(GSDP_Current),GSDP_Current)"
   ]
  },
  {
   "cell_type": "code",
   "execution_count": 67,
   "metadata": {},
   "outputs": [
    {
     "name": "stderr",
     "output_type": "stream",
     "text": [
      "C:\\Users\\ASUS\\AppData\\Local\\Temp\\ipykernel_14780\\3936307155.py:2: DeprecationWarning: find_elements_by_xpath is deprecated. Please use find_elements(by=By.XPATH, value=xpath) instead\n",
      "  shr=driver.find_elements_by_xpath(\"//*[@id='table_id']/tbody/tr/td[8]\")\n"
     ]
    },
    {
     "name": "stdout",
     "output_type": "stream",
     "text": [
      "33 ['2,039,074', '1,215,307', '1,123,982', '1,186,379', '1,091,077', '739,525', '677,428', '621,301', '612,828', '522,009', '559,412', '590,569', '531,085', '375,651', '397,669', '376,877', '234,048', '231,182', '224,986', '193,273', '112,755', '117,851', '57,787', '36,963', '31,192', '23,013', '24,682', '18,722', '19,300', '17,647', '16,676', '16,478', '-']\n"
     ]
    }
   ],
   "source": [
    "#scraping the GSDP_Previous \n",
    "shr=driver.find_elements_by_xpath(\"//*[@id='table_id']/tbody/tr/td[8]\")\n",
    "for i in shr:\n",
    "    if i.text is None :\n",
    "        GSDP_Previous.append(\"--\") \n",
    "    else:\n",
    "        GSDP_Previous.append(i.text)\n",
    "print(len(GSDP_Previous),GSDP_Previous)"
   ]
  },
  {
   "cell_type": "code",
   "execution_count": 68,
   "metadata": {},
   "outputs": [
    {
     "data": {
      "text/html": [
       "<div>\n",
       "<style scoped>\n",
       "    .dataframe tbody tr th:only-of-type {\n",
       "        vertical-align: middle;\n",
       "    }\n",
       "\n",
       "    .dataframe tbody tr th {\n",
       "        vertical-align: top;\n",
       "    }\n",
       "\n",
       "    .dataframe thead th {\n",
       "        text-align: right;\n",
       "    }\n",
       "</style>\n",
       "<table border=\"1\" class=\"dataframe\">\n",
       "  <thead>\n",
       "    <tr style=\"text-align: right;\">\n",
       "      <th></th>\n",
       "      <th>Rank</th>\n",
       "      <th>State</th>\n",
       "      <th>Share In GDP</th>\n",
       "      <th>GDP of State</th>\n",
       "      <th>GSDP_Current</th>\n",
       "      <th>GSDP_Previous</th>\n",
       "    </tr>\n",
       "  </thead>\n",
       "  <tbody>\n",
       "    <tr>\n",
       "      <th>0</th>\n",
       "      <td>1</td>\n",
       "      <td>Maharashtra</td>\n",
       "      <td>13.94%</td>\n",
       "      <td>399.921</td>\n",
       "      <td>2,632,792</td>\n",
       "      <td>2,039,074</td>\n",
       "    </tr>\n",
       "    <tr>\n",
       "      <th>1</th>\n",
       "      <td>2</td>\n",
       "      <td>Tamil Nadu</td>\n",
       "      <td>8.63%</td>\n",
       "      <td>247.629</td>\n",
       "      <td>1,630,208</td>\n",
       "      <td>1,215,307</td>\n",
       "    </tr>\n",
       "    <tr>\n",
       "      <th>2</th>\n",
       "      <td>3</td>\n",
       "      <td>Uttar Pradesh</td>\n",
       "      <td>8.39%</td>\n",
       "      <td>240.726</td>\n",
       "      <td>1,584,764</td>\n",
       "      <td>1,123,982</td>\n",
       "    </tr>\n",
       "    <tr>\n",
       "      <th>3</th>\n",
       "      <td>4</td>\n",
       "      <td>Gujarat</td>\n",
       "      <td>7.96%</td>\n",
       "      <td>228.290</td>\n",
       "      <td>1,502,899</td>\n",
       "      <td>1,186,379</td>\n",
       "    </tr>\n",
       "    <tr>\n",
       "      <th>4</th>\n",
       "      <td>5</td>\n",
       "      <td>Karnataka</td>\n",
       "      <td>7.91%</td>\n",
       "      <td>226.806</td>\n",
       "      <td>1,493,127</td>\n",
       "      <td>1,091,077</td>\n",
       "    </tr>\n",
       "    <tr>\n",
       "      <th>5</th>\n",
       "      <td>6</td>\n",
       "      <td>West Bengal</td>\n",
       "      <td>5.77%</td>\n",
       "      <td>165.556</td>\n",
       "      <td>1,089,898</td>\n",
       "      <td>739,525</td>\n",
       "    </tr>\n",
       "    <tr>\n",
       "      <th>6</th>\n",
       "      <td>7</td>\n",
       "      <td>Rajasthan</td>\n",
       "      <td>4.99%</td>\n",
       "      <td>143.179</td>\n",
       "      <td>942,586</td>\n",
       "      <td>677,428</td>\n",
       "    </tr>\n",
       "    <tr>\n",
       "      <th>7</th>\n",
       "      <td>8</td>\n",
       "      <td>Andhra Pradesh</td>\n",
       "      <td>4.57%</td>\n",
       "      <td>131.083</td>\n",
       "      <td>862,957</td>\n",
       "      <td>621,301</td>\n",
       "    </tr>\n",
       "    <tr>\n",
       "      <th>8</th>\n",
       "      <td>9</td>\n",
       "      <td>Telangana</td>\n",
       "      <td>4.56%</td>\n",
       "      <td>130.791</td>\n",
       "      <td>861,031</td>\n",
       "      <td>612,828</td>\n",
       "    </tr>\n",
       "    <tr>\n",
       "      <th>9</th>\n",
       "      <td>10</td>\n",
       "      <td>Madhya Pradesh</td>\n",
       "      <td>4.29%</td>\n",
       "      <td>122.977</td>\n",
       "      <td>809,592</td>\n",
       "      <td>522,009</td>\n",
       "    </tr>\n",
       "    <tr>\n",
       "      <th>10</th>\n",
       "      <td>11</td>\n",
       "      <td>Kerala</td>\n",
       "      <td>4.14%</td>\n",
       "      <td>118.733</td>\n",
       "      <td>781,653</td>\n",
       "      <td>559,412</td>\n",
       "    </tr>\n",
       "    <tr>\n",
       "      <th>11</th>\n",
       "      <td>12</td>\n",
       "      <td>Delhi</td>\n",
       "      <td>4.10%</td>\n",
       "      <td>117.703</td>\n",
       "      <td>774,870</td>\n",
       "      <td>590,569</td>\n",
       "    </tr>\n",
       "    <tr>\n",
       "      <th>12</th>\n",
       "      <td>13</td>\n",
       "      <td>Haryana</td>\n",
       "      <td>3.89%</td>\n",
       "      <td>111.519</td>\n",
       "      <td>734,163</td>\n",
       "      <td>531,085</td>\n",
       "    </tr>\n",
       "    <tr>\n",
       "      <th>13</th>\n",
       "      <td>14</td>\n",
       "      <td>Bihar</td>\n",
       "      <td>2.81%</td>\n",
       "      <td>80.562</td>\n",
       "      <td>530,363</td>\n",
       "      <td>375,651</td>\n",
       "    </tr>\n",
       "    <tr>\n",
       "      <th>14</th>\n",
       "      <td>15</td>\n",
       "      <td>Punjab</td>\n",
       "      <td>2.79%</td>\n",
       "      <td>79.957</td>\n",
       "      <td>526,376</td>\n",
       "      <td>397,669</td>\n",
       "    </tr>\n",
       "    <tr>\n",
       "      <th>15</th>\n",
       "      <td>16</td>\n",
       "      <td>Odisha</td>\n",
       "      <td>2.58%</td>\n",
       "      <td>74.098</td>\n",
       "      <td>487,805</td>\n",
       "      <td>376,877</td>\n",
       "    </tr>\n",
       "    <tr>\n",
       "      <th>16</th>\n",
       "      <td>17</td>\n",
       "      <td>Assam</td>\n",
       "      <td>1.67%</td>\n",
       "      <td>47.982</td>\n",
       "      <td>315,881</td>\n",
       "      <td>234,048</td>\n",
       "    </tr>\n",
       "    <tr>\n",
       "      <th>17</th>\n",
       "      <td>18</td>\n",
       "      <td>Chhattisgarh</td>\n",
       "      <td>1.61%</td>\n",
       "      <td>46.187</td>\n",
       "      <td>304,063</td>\n",
       "      <td>231,182</td>\n",
       "    </tr>\n",
       "    <tr>\n",
       "      <th>18</th>\n",
       "      <td>19</td>\n",
       "      <td>Jharkhand</td>\n",
       "      <td>1.57%</td>\n",
       "      <td>45.145</td>\n",
       "      <td>297,204</td>\n",
       "      <td>224,986</td>\n",
       "    </tr>\n",
       "    <tr>\n",
       "      <th>19</th>\n",
       "      <td>20</td>\n",
       "      <td>Uttarakhand</td>\n",
       "      <td>1.30%</td>\n",
       "      <td>37.351</td>\n",
       "      <td>245,895</td>\n",
       "      <td>193,273</td>\n",
       "    </tr>\n",
       "    <tr>\n",
       "      <th>20</th>\n",
       "      <td>21</td>\n",
       "      <td>Jammu &amp; Kashmir</td>\n",
       "      <td>0.83%</td>\n",
       "      <td>23.690</td>\n",
       "      <td>155,956</td>\n",
       "      <td>112,755</td>\n",
       "    </tr>\n",
       "    <tr>\n",
       "      <th>21</th>\n",
       "      <td>22</td>\n",
       "      <td>Himachal Pradesh</td>\n",
       "      <td>0.81%</td>\n",
       "      <td>23.369</td>\n",
       "      <td>153,845</td>\n",
       "      <td>117,851</td>\n",
       "    </tr>\n",
       "    <tr>\n",
       "      <th>22</th>\n",
       "      <td>23</td>\n",
       "      <td>Goa</td>\n",
       "      <td>0.39%</td>\n",
       "      <td>11.115</td>\n",
       "      <td>73,170</td>\n",
       "      <td>57,787</td>\n",
       "    </tr>\n",
       "    <tr>\n",
       "      <th>23</th>\n",
       "      <td>24</td>\n",
       "      <td>Tripura</td>\n",
       "      <td>0.26%</td>\n",
       "      <td>7.571</td>\n",
       "      <td>49,845</td>\n",
       "      <td>36,963</td>\n",
       "    </tr>\n",
       "    <tr>\n",
       "      <th>24</th>\n",
       "      <td>25</td>\n",
       "      <td>Chandigarh</td>\n",
       "      <td>0.22%</td>\n",
       "      <td>6.397</td>\n",
       "      <td>42,114</td>\n",
       "      <td>31,192</td>\n",
       "    </tr>\n",
       "    <tr>\n",
       "      <th>25</th>\n",
       "      <td>26</td>\n",
       "      <td>Puducherry</td>\n",
       "      <td>0.18%</td>\n",
       "      <td>5.230</td>\n",
       "      <td>34,433</td>\n",
       "      <td>23,013</td>\n",
       "    </tr>\n",
       "    <tr>\n",
       "      <th>26</th>\n",
       "      <td>27</td>\n",
       "      <td>Meghalaya</td>\n",
       "      <td>0.18%</td>\n",
       "      <td>5.086</td>\n",
       "      <td>33,481</td>\n",
       "      <td>24,682</td>\n",
       "    </tr>\n",
       "    <tr>\n",
       "      <th>27</th>\n",
       "      <td>28</td>\n",
       "      <td>Sikkim</td>\n",
       "      <td>0.15%</td>\n",
       "      <td>4.363</td>\n",
       "      <td>28,723</td>\n",
       "      <td>18,722</td>\n",
       "    </tr>\n",
       "    <tr>\n",
       "      <th>28</th>\n",
       "      <td>29</td>\n",
       "      <td>Manipur</td>\n",
       "      <td>0.15%</td>\n",
       "      <td>4.233</td>\n",
       "      <td>27,870</td>\n",
       "      <td>19,300</td>\n",
       "    </tr>\n",
       "    <tr>\n",
       "      <th>29</th>\n",
       "      <td>30</td>\n",
       "      <td>Nagaland</td>\n",
       "      <td>0.14%</td>\n",
       "      <td>4.144</td>\n",
       "      <td>27,283</td>\n",
       "      <td>17,647</td>\n",
       "    </tr>\n",
       "    <tr>\n",
       "      <th>30</th>\n",
       "      <td>31</td>\n",
       "      <td>Arunachal Pradesh</td>\n",
       "      <td>0.13%</td>\n",
       "      <td>3.737</td>\n",
       "      <td>24,603</td>\n",
       "      <td>16,676</td>\n",
       "    </tr>\n",
       "    <tr>\n",
       "      <th>31</th>\n",
       "      <td>32</td>\n",
       "      <td>Mizoram</td>\n",
       "      <td>0.12%</td>\n",
       "      <td>3.385</td>\n",
       "      <td>22,287</td>\n",
       "      <td>16,478</td>\n",
       "    </tr>\n",
       "    <tr>\n",
       "      <th>32</th>\n",
       "      <td>33</td>\n",
       "      <td>Andaman &amp; Nicobar Islands</td>\n",
       "      <td>-</td>\n",
       "      <td>-</td>\n",
       "      <td>-</td>\n",
       "      <td>-</td>\n",
       "    </tr>\n",
       "  </tbody>\n",
       "</table>\n",
       "</div>"
      ],
      "text/plain": [
       "   Rank                      State Share In GDP GDP of State GSDP_Current  \\\n",
       "0     1                Maharashtra       13.94%      399.921    2,632,792   \n",
       "1     2                 Tamil Nadu        8.63%      247.629    1,630,208   \n",
       "2     3              Uttar Pradesh        8.39%      240.726    1,584,764   \n",
       "3     4                    Gujarat        7.96%      228.290    1,502,899   \n",
       "4     5                  Karnataka        7.91%      226.806    1,493,127   \n",
       "5     6                West Bengal        5.77%      165.556    1,089,898   \n",
       "6     7                  Rajasthan        4.99%      143.179      942,586   \n",
       "7     8             Andhra Pradesh        4.57%      131.083      862,957   \n",
       "8     9                  Telangana        4.56%      130.791      861,031   \n",
       "9    10             Madhya Pradesh        4.29%      122.977      809,592   \n",
       "10   11                     Kerala        4.14%      118.733      781,653   \n",
       "11   12                      Delhi        4.10%      117.703      774,870   \n",
       "12   13                    Haryana        3.89%      111.519      734,163   \n",
       "13   14                      Bihar        2.81%       80.562      530,363   \n",
       "14   15                     Punjab        2.79%       79.957      526,376   \n",
       "15   16                     Odisha        2.58%       74.098      487,805   \n",
       "16   17                      Assam        1.67%       47.982      315,881   \n",
       "17   18               Chhattisgarh        1.61%       46.187      304,063   \n",
       "18   19                  Jharkhand        1.57%       45.145      297,204   \n",
       "19   20                Uttarakhand        1.30%       37.351      245,895   \n",
       "20   21            Jammu & Kashmir        0.83%       23.690      155,956   \n",
       "21   22           Himachal Pradesh        0.81%       23.369      153,845   \n",
       "22   23                        Goa        0.39%       11.115       73,170   \n",
       "23   24                    Tripura        0.26%        7.571       49,845   \n",
       "24   25                 Chandigarh        0.22%        6.397       42,114   \n",
       "25   26                 Puducherry        0.18%        5.230       34,433   \n",
       "26   27                  Meghalaya        0.18%        5.086       33,481   \n",
       "27   28                     Sikkim        0.15%        4.363       28,723   \n",
       "28   29                    Manipur        0.15%        4.233       27,870   \n",
       "29   30                   Nagaland        0.14%        4.144       27,283   \n",
       "30   31          Arunachal Pradesh        0.13%        3.737       24,603   \n",
       "31   32                    Mizoram        0.12%        3.385       22,287   \n",
       "32   33  Andaman & Nicobar Islands            -            -            -   \n",
       "\n",
       "   GSDP_Previous  \n",
       "0      2,039,074  \n",
       "1      1,215,307  \n",
       "2      1,123,982  \n",
       "3      1,186,379  \n",
       "4      1,091,077  \n",
       "5        739,525  \n",
       "6        677,428  \n",
       "7        621,301  \n",
       "8        612,828  \n",
       "9        522,009  \n",
       "10       559,412  \n",
       "11       590,569  \n",
       "12       531,085  \n",
       "13       375,651  \n",
       "14       397,669  \n",
       "15       376,877  \n",
       "16       234,048  \n",
       "17       231,182  \n",
       "18       224,986  \n",
       "19       193,273  \n",
       "20       112,755  \n",
       "21       117,851  \n",
       "22        57,787  \n",
       "23        36,963  \n",
       "24        31,192  \n",
       "25        23,013  \n",
       "26        24,682  \n",
       "27        18,722  \n",
       "28        19,300  \n",
       "29        17,647  \n",
       "30        16,676  \n",
       "31        16,478  \n",
       "32             -  "
      ]
     },
     "execution_count": 68,
     "metadata": {},
     "output_type": "execute_result"
    }
   ],
   "source": [
    "State_GDP=pd.DataFrame([])\n",
    "State_GDP['Rank']=Rank[:33]\n",
    "State_GDP['State']=State[:33]\n",
    "State_GDP['Share In GDP']=Share[:33]\n",
    "State_GDP['GDP of State']=GDP[:33]\n",
    "State_GDP['GSDP_Current']=GSDP_Current[:33]\n",
    "State_GDP['GSDP_Previous']=GSDP_Previous[:33]\n",
    "State_GDP"
   ]
  },
  {
   "cell_type": "code",
   "execution_count": null,
   "metadata": {},
   "outputs": [],
   "source": []
  },
  {
   "cell_type": "markdown",
   "metadata": {},
   "source": [
    "# 7. Scrape the details of Data science recruiters from naukri.com. "
   ]
  },
  {
   "cell_type": "code",
   "execution_count": null,
   "metadata": {},
   "outputs": [],
   "source": []
  },
  {
   "cell_type": "code",
   "execution_count": 91,
   "metadata": {},
   "outputs": [],
   "source": [
    "url_7=\"https://www.naukri.com/data-science-jobs?k=data%20science\""
   ]
  },
  {
   "cell_type": "code",
   "execution_count": 92,
   "metadata": {},
   "outputs": [],
   "source": [
    "driver.get(url_7)"
   ]
  },
  {
   "cell_type": "code",
   "execution_count": 93,
   "metadata": {},
   "outputs": [],
   "source": [
    "Job_Title =[]\n",
    "Company_Name=[]\n",
    "Skill=[]\n",
    "Salary=[]\n",
    "Location=[]"
   ]
  },
  {
   "cell_type": "code",
   "execution_count": 94,
   "metadata": {},
   "outputs": [
    {
     "name": "stderr",
     "output_type": "stream",
     "text": [
      "C:\\Users\\ASUS\\AppData\\Local\\Temp\\ipykernel_14780\\3751051282.py:2: DeprecationWarning: find_elements_by_xpath is deprecated. Please use find_elements(by=By.XPATH, value=xpath) instead\n",
      "  jt=driver.find_elements_by_xpath(\"//a[@class='title fw500 ellipsis']\")\n"
     ]
    },
    {
     "name": "stdout",
     "output_type": "stream",
     "text": [
      "20 ['Data Science / Data Engineer / Business Analyst / Full Stack Developer', 'Intern, Data Science', 'Senior Data Science Analyst (From FMCG Ind.)', 'Product Analyst, Data Science, Engineering', 'Principal, Quantitative Analytics and Data Science', 'Data Science/Analysis Expert - Machine Learning', 'India Market Unit - Data Science Analyst - 11', 'Senior Analyst - Data Science - IIT/NIT/IIM/XLRI/FMS', 'Team Lead/Consultant-Data Science', 'Hiring For Data Science-2 To 7Years', 'Senior Analyst-Data Science', 'Data Science Engineer - IIT/NIT/BITS', 'Data Analyst/Data Science Lead & Consultant (3-8 yrs of experience)', 'Data Science Analyst - 11', 'Data Science Associate', 'Lead , Data Science', 'Senior Scientist , QbD & Data Science', 'Analyst - Data Science', 'Senior Data Science Analyst (From FMCG Ind.)', 'Team Lead/Consultant-Data Science']\n"
     ]
    }
   ],
   "source": [
    "#scraping the Job_Title \n",
    "jt=driver.find_elements_by_xpath(\"//a[@class='title fw500 ellipsis']\")\n",
    "for i in jt:\n",
    "    if i.text is None :\n",
    "        Job_Title.append(\"--\") \n",
    "    else:\n",
    "        Job_Title.append(i.text)\n",
    "print(len(Job_Title),Job_Title)"
   ]
  },
  {
   "cell_type": "code",
   "execution_count": 95,
   "metadata": {},
   "outputs": [
    {
     "name": "stderr",
     "output_type": "stream",
     "text": [
      "C:\\Users\\ASUS\\AppData\\Local\\Temp\\ipykernel_14780\\1550667092.py:2: DeprecationWarning: find_elements_by_xpath is deprecated. Please use find_elements(by=By.XPATH, value=xpath) instead\n",
      "  cn=driver.find_elements_by_xpath(\"//a[@class='subTitle ellipsis fleft']\")\n"
     ]
    },
    {
     "name": "stdout",
     "output_type": "stream",
     "text": [
      "20 ['NETWORTH DATA PRODUCTS PRIVATE LIMITED', 'GOGOVAN INDIA Pvt. Ltd.', 'H K Jewels', 'Google', 'Gartner', 'Catalyst', 'Accenture', 'HuQuo', 'Accenture', 'PwC', 'Accenture', 'TalentStack', 'Sapwood Ventures Pvt. Ltd.', 'Accenture', 'Kreate Energy', 'Madhi Foundation', 'Novartis Healthcare', 'MilliporeSigma', 'H K Jewels', 'Accenture']\n"
     ]
    }
   ],
   "source": [
    "#scraping the Company_Name \n",
    "cn=driver.find_elements_by_xpath(\"//a[@class='subTitle ellipsis fleft']\")\n",
    "for i in cn:\n",
    "    if i.text is None :\n",
    "        Company_Name.append(\"--\") \n",
    "    else:\n",
    "        Company_Name.append(i.text)\n",
    "print(len(Company_Name),Company_Name)"
   ]
  },
  {
   "cell_type": "code",
   "execution_count": 96,
   "metadata": {},
   "outputs": [
    {
     "name": "stderr",
     "output_type": "stream",
     "text": [
      "C:\\Users\\ASUS\\AppData\\Local\\Temp\\ipykernel_14780\\3646654104.py:2: DeprecationWarning: find_elements_by_xpath is deprecated. Please use find_elements(by=By.XPATH, value=xpath) instead\n",
      "  sal=driver.find_elements_by_xpath(\"//li[@class='fleft grey-text br2 placeHolderLi salary']/span\")\n"
     ]
    },
    {
     "name": "stdout",
     "output_type": "stream",
     "text": [
      "20 ['4,00,000 - 6,50,000 PA.', 'Not disclosed', '12,00,000 - 15,00,000 PA.', 'Not disclosed', 'Not disclosed', 'Not disclosed', 'Not disclosed', 'Not disclosed', 'Not disclosed', 'Not disclosed', 'Not disclosed', 'Not disclosed', 'Not disclosed', 'Not disclosed', '4,00,000 - 8,00,000 PA.', 'Not disclosed', 'Not disclosed', 'Not disclosed', '12,00,000 - 15,00,000 PA.', 'Not disclosed']\n"
     ]
    }
   ],
   "source": [
    "#scraping the Salary \n",
    "sal=driver.find_elements_by_xpath(\"//li[@class='fleft grey-text br2 placeHolderLi salary']/span\")\n",
    "for i in sal:\n",
    "    if i.text is None :\n",
    "        Salary.append(\"--\") \n",
    "    else:\n",
    "        Salary.append(i.text)\n",
    "print(len(Salary),Salary)"
   ]
  },
  {
   "cell_type": "code",
   "execution_count": 97,
   "metadata": {},
   "outputs": [
    {
     "name": "stderr",
     "output_type": "stream",
     "text": [
      "C:\\Users\\ASUS\\AppData\\Local\\Temp\\ipykernel_14780\\1101328231.py:2: DeprecationWarning: find_elements_by_xpath is deprecated. Please use find_elements(by=By.XPATH, value=xpath) instead\n",
      "  loc=driver.find_elements_by_xpath(\"//li[@class='fleft grey-text br2 placeHolderLi location']/span\")\n"
     ]
    },
    {
     "name": "stdout",
     "output_type": "stream",
     "text": [
      "20 ['Bangalore/Bengaluru', 'remote', 'Mumbai', 'Bangalore/Bengaluru', 'Gurgaon/Gurugram', 'Bangalore/Bengaluru', 'Mumbai, New Delhi, Bangalore/Bengaluru', 'Gurgaon/Gurugram', 'Bangalore/Bengaluru', 'Kolkata, Pune, Gurgaon/Gurugram, Chennai, Bangalore/Bengaluru, Mumbai (All Areas)', 'Bangalore/Bengaluru', 'Bangalore/Bengaluru', 'Hyderabad/Secunderabad, Ahmedabad', 'Mumbai', 'Delhi / NCR(Vaishali)', 'Chennai', 'Hyderabad/Secunderabad', 'Bangalore/Bengaluru', 'Mumbai', 'Bangalore/Bengaluru']\n"
     ]
    }
   ],
   "source": [
    "#scraping the Location \n",
    "loc=driver.find_elements_by_xpath(\"//li[@class='fleft grey-text br2 placeHolderLi location']/span\")\n",
    "for i in loc:\n",
    "    if i.text is None :\n",
    "        Location.append(\"--\") \n",
    "    else:\n",
    "        Location.append(i.text)\n",
    "print(len(Location),Location)"
   ]
  },
  {
   "cell_type": "code",
   "execution_count": 98,
   "metadata": {},
   "outputs": [
    {
     "name": "stderr",
     "output_type": "stream",
     "text": [
      "C:\\Users\\ASUS\\AppData\\Local\\Temp\\ipykernel_14780\\1073525547.py:2: DeprecationWarning: find_elements_by_xpath is deprecated. Please use find_elements(by=By.XPATH, value=xpath) instead\n",
      "  sk=driver.find_elements_by_xpath(\"//ul[@class='tags has-description']\")\n"
     ]
    },
    {
     "name": "stdout",
     "output_type": "stream",
     "text": [
      "20 ['data science\\ndata engineering\\nwritten\\nIT Skills\\nDevOps\\nfull stack developer\\nCicd Pipeline\\nbusiness analyst', 'Data analysis\\nMIS\\nAnalytical\\nMachine learning\\nManager Technology\\nContinuous improvement\\nSQL\\nLogistics', 'SAP\\nData Management\\nData Analysis\\nData Analytics\\nPredictive Analytics\\nData Mining\\nMarket Research', 'Product management\\nComputer science\\nData analysis\\nPrototype\\nSAS\\nMATLAB\\nForecasting\\nAnalytics', 'SOC\\nDebugging\\nAndroid\\nLinux\\nCoding\\nweb scraping\\npython\\ndata analysis', 'NLP\\nData Scientist\\nArtificial Intelligence\\nPython\\nTableau\\nanalytics\\nPostgress\\nMongo', 'Strategy consulting\\nMachine learning\\nprofessional services\\nPredictive analytics\\nPython\\nIT Skills\\nData Science\\nCloud', 'Data Science\\nPython\\nTableau\\nverbal communications\\nanalysis\\nSAS\\nQlik\\nR Shiny', 'Publishing\\ndata science\\nConsulting\\nNatural language processing\\nPython\\nArchitecture\\nArtificial Intelligence\\nMachine learning', 'Data Science\\nIT Skills\\nPython\\nMachine Learning\\nartificial neural networks\\nR\\nDeep Learning', 'Publishing\\nData modeling\\nConsulting\\nAnalytics\\nPython\\nArchitecture\\ndata science\\nArtificial Intelligence', 'Data Science\\nTensorflow\\nPower BI\\nPowerBi\\nMachine Learning\\nanalytical\\nnumpy\\nwritten', 'python\\ndata analytics\\npredictive modeling\\nFinancial Statement Analysis\\nsql\\nsas\\nmarketing analytics\\nmachine learning', 'Strategy consulting\\nMachine learning\\nprofessional services\\nPredictive analytics\\nPython\\nIT Skills\\nData Science\\nCloud', 'Data Science\\nAlgorithms\\nLogistic Regression\\nPython\\nR\\nCoding\\nTime Series Analysis\\nData Analysis', 'IT Skills\\nSoftware Development\\nProject Management\\nTableau\\nPower BI\\nBPO\\nproject management\\nData analysis', 'Computer science\\nData analysis\\ndata science\\nSimulation\\nFormulation\\nHealthcare\\nHSE\\nGMP', 'Business process\\ncustomer analytics\\nData analysis\\nPharma\\nHealthcare\\nInformation management\\nData mining\\nBusiness solutions', 'SAP\\nData Management\\nData Analysis\\nData Analytics\\nPredictive Analytics\\nData Mining\\nMarket Research', 'Publishing\\nExcel\\nConsulting\\nAnalytics\\nSQL\\nArchitecture\\ndata science\\ndata visualization']\n"
     ]
    }
   ],
   "source": [
    "#scraping the Skill \n",
    "sk=driver.find_elements_by_xpath(\"//ul[@class='tags has-description']\")\n",
    "for i in sk:\n",
    "    if i.text is None :\n",
    "        Skill.append(\"--\") \n",
    "    else:\n",
    "        Skill.append(i.text)\n",
    "print(len(Skill),Skill)"
   ]
  },
  {
   "cell_type": "code",
   "execution_count": 99,
   "metadata": {},
   "outputs": [
    {
     "data": {
      "text/html": [
       "<div>\n",
       "<style scoped>\n",
       "    .dataframe tbody tr th:only-of-type {\n",
       "        vertical-align: middle;\n",
       "    }\n",
       "\n",
       "    .dataframe tbody tr th {\n",
       "        vertical-align: top;\n",
       "    }\n",
       "\n",
       "    .dataframe thead th {\n",
       "        text-align: right;\n",
       "    }\n",
       "</style>\n",
       "<table border=\"1\" class=\"dataframe\">\n",
       "  <thead>\n",
       "    <tr style=\"text-align: right;\">\n",
       "      <th></th>\n",
       "      <th>Job_Title</th>\n",
       "      <th>Skill</th>\n",
       "      <th>Company_Name</th>\n",
       "      <th>Salary</th>\n",
       "      <th>Location</th>\n",
       "    </tr>\n",
       "  </thead>\n",
       "  <tbody>\n",
       "    <tr>\n",
       "      <th>0</th>\n",
       "      <td>Data Science / Data Engineer / Business Analys...</td>\n",
       "      <td>data science\\ndata engineering\\nwritten\\nIT Sk...</td>\n",
       "      <td>NETWORTH DATA PRODUCTS PRIVATE LIMITED</td>\n",
       "      <td>4,00,000 - 6,50,000 PA.</td>\n",
       "      <td>Bangalore/Bengaluru</td>\n",
       "    </tr>\n",
       "    <tr>\n",
       "      <th>1</th>\n",
       "      <td>Intern, Data Science</td>\n",
       "      <td>Data analysis\\nMIS\\nAnalytical\\nMachine learni...</td>\n",
       "      <td>GOGOVAN INDIA Pvt. Ltd.</td>\n",
       "      <td>Not disclosed</td>\n",
       "      <td>remote</td>\n",
       "    </tr>\n",
       "    <tr>\n",
       "      <th>2</th>\n",
       "      <td>Senior Data Science Analyst (From FMCG Ind.)</td>\n",
       "      <td>SAP\\nData Management\\nData Analysis\\nData Anal...</td>\n",
       "      <td>H K Jewels</td>\n",
       "      <td>12,00,000 - 15,00,000 PA.</td>\n",
       "      <td>Mumbai</td>\n",
       "    </tr>\n",
       "    <tr>\n",
       "      <th>3</th>\n",
       "      <td>Product Analyst, Data Science, Engineering</td>\n",
       "      <td>Product management\\nComputer science\\nData ana...</td>\n",
       "      <td>Google</td>\n",
       "      <td>Not disclosed</td>\n",
       "      <td>Bangalore/Bengaluru</td>\n",
       "    </tr>\n",
       "    <tr>\n",
       "      <th>4</th>\n",
       "      <td>Principal, Quantitative Analytics and Data Sci...</td>\n",
       "      <td>SOC\\nDebugging\\nAndroid\\nLinux\\nCoding\\nweb sc...</td>\n",
       "      <td>Gartner</td>\n",
       "      <td>Not disclosed</td>\n",
       "      <td>Gurgaon/Gurugram</td>\n",
       "    </tr>\n",
       "    <tr>\n",
       "      <th>5</th>\n",
       "      <td>Data Science/Analysis Expert - Machine Learning</td>\n",
       "      <td>NLP\\nData Scientist\\nArtificial Intelligence\\n...</td>\n",
       "      <td>Catalyst</td>\n",
       "      <td>Not disclosed</td>\n",
       "      <td>Bangalore/Bengaluru</td>\n",
       "    </tr>\n",
       "    <tr>\n",
       "      <th>6</th>\n",
       "      <td>India Market Unit - Data Science Analyst - 11</td>\n",
       "      <td>Strategy consulting\\nMachine learning\\nprofess...</td>\n",
       "      <td>Accenture</td>\n",
       "      <td>Not disclosed</td>\n",
       "      <td>Mumbai, New Delhi, Bangalore/Bengaluru</td>\n",
       "    </tr>\n",
       "    <tr>\n",
       "      <th>7</th>\n",
       "      <td>Senior Analyst - Data Science - IIT/NIT/IIM/XL...</td>\n",
       "      <td>Data Science\\nPython\\nTableau\\nverbal communic...</td>\n",
       "      <td>HuQuo</td>\n",
       "      <td>Not disclosed</td>\n",
       "      <td>Gurgaon/Gurugram</td>\n",
       "    </tr>\n",
       "    <tr>\n",
       "      <th>8</th>\n",
       "      <td>Team Lead/Consultant-Data Science</td>\n",
       "      <td>Publishing\\ndata science\\nConsulting\\nNatural ...</td>\n",
       "      <td>Accenture</td>\n",
       "      <td>Not disclosed</td>\n",
       "      <td>Bangalore/Bengaluru</td>\n",
       "    </tr>\n",
       "    <tr>\n",
       "      <th>9</th>\n",
       "      <td>Hiring For Data Science-2 To 7Years</td>\n",
       "      <td>Data Science\\nIT Skills\\nPython\\nMachine Learn...</td>\n",
       "      <td>PwC</td>\n",
       "      <td>Not disclosed</td>\n",
       "      <td>Kolkata, Pune, Gurgaon/Gurugram, Chennai, Bang...</td>\n",
       "    </tr>\n",
       "    <tr>\n",
       "      <th>10</th>\n",
       "      <td>Senior Analyst-Data Science</td>\n",
       "      <td>Publishing\\nData modeling\\nConsulting\\nAnalyti...</td>\n",
       "      <td>Accenture</td>\n",
       "      <td>Not disclosed</td>\n",
       "      <td>Bangalore/Bengaluru</td>\n",
       "    </tr>\n",
       "    <tr>\n",
       "      <th>11</th>\n",
       "      <td>Data Science Engineer - IIT/NIT/BITS</td>\n",
       "      <td>Data Science\\nTensorflow\\nPower BI\\nPowerBi\\nM...</td>\n",
       "      <td>TalentStack</td>\n",
       "      <td>Not disclosed</td>\n",
       "      <td>Bangalore/Bengaluru</td>\n",
       "    </tr>\n",
       "    <tr>\n",
       "      <th>12</th>\n",
       "      <td>Data Analyst/Data Science Lead &amp; Consultant (3...</td>\n",
       "      <td>python\\ndata analytics\\npredictive modeling\\nF...</td>\n",
       "      <td>Sapwood Ventures Pvt. Ltd.</td>\n",
       "      <td>Not disclosed</td>\n",
       "      <td>Hyderabad/Secunderabad, Ahmedabad</td>\n",
       "    </tr>\n",
       "    <tr>\n",
       "      <th>13</th>\n",
       "      <td>Data Science Analyst - 11</td>\n",
       "      <td>Strategy consulting\\nMachine learning\\nprofess...</td>\n",
       "      <td>Accenture</td>\n",
       "      <td>Not disclosed</td>\n",
       "      <td>Mumbai</td>\n",
       "    </tr>\n",
       "    <tr>\n",
       "      <th>14</th>\n",
       "      <td>Data Science Associate</td>\n",
       "      <td>Data Science\\nAlgorithms\\nLogistic Regression\\...</td>\n",
       "      <td>Kreate Energy</td>\n",
       "      <td>4,00,000 - 8,00,000 PA.</td>\n",
       "      <td>Delhi / NCR(Vaishali)</td>\n",
       "    </tr>\n",
       "    <tr>\n",
       "      <th>15</th>\n",
       "      <td>Lead , Data Science</td>\n",
       "      <td>IT Skills\\nSoftware Development\\nProject Manag...</td>\n",
       "      <td>Madhi Foundation</td>\n",
       "      <td>Not disclosed</td>\n",
       "      <td>Chennai</td>\n",
       "    </tr>\n",
       "    <tr>\n",
       "      <th>16</th>\n",
       "      <td>Senior Scientist , QbD &amp; Data Science</td>\n",
       "      <td>Computer science\\nData analysis\\ndata science\\...</td>\n",
       "      <td>Novartis Healthcare</td>\n",
       "      <td>Not disclosed</td>\n",
       "      <td>Hyderabad/Secunderabad</td>\n",
       "    </tr>\n",
       "    <tr>\n",
       "      <th>17</th>\n",
       "      <td>Analyst - Data Science</td>\n",
       "      <td>Business process\\ncustomer analytics\\nData ana...</td>\n",
       "      <td>MilliporeSigma</td>\n",
       "      <td>Not disclosed</td>\n",
       "      <td>Bangalore/Bengaluru</td>\n",
       "    </tr>\n",
       "    <tr>\n",
       "      <th>18</th>\n",
       "      <td>Senior Data Science Analyst (From FMCG Ind.)</td>\n",
       "      <td>SAP\\nData Management\\nData Analysis\\nData Anal...</td>\n",
       "      <td>H K Jewels</td>\n",
       "      <td>12,00,000 - 15,00,000 PA.</td>\n",
       "      <td>Mumbai</td>\n",
       "    </tr>\n",
       "    <tr>\n",
       "      <th>19</th>\n",
       "      <td>Team Lead/Consultant-Data Science</td>\n",
       "      <td>Publishing\\nExcel\\nConsulting\\nAnalytics\\nSQL\\...</td>\n",
       "      <td>Accenture</td>\n",
       "      <td>Not disclosed</td>\n",
       "      <td>Bangalore/Bengaluru</td>\n",
       "    </tr>\n",
       "  </tbody>\n",
       "</table>\n",
       "</div>"
      ],
      "text/plain": [
       "                                            Job_Title  \\\n",
       "0   Data Science / Data Engineer / Business Analys...   \n",
       "1                                Intern, Data Science   \n",
       "2        Senior Data Science Analyst (From FMCG Ind.)   \n",
       "3          Product Analyst, Data Science, Engineering   \n",
       "4   Principal, Quantitative Analytics and Data Sci...   \n",
       "5     Data Science/Analysis Expert - Machine Learning   \n",
       "6       India Market Unit - Data Science Analyst - 11   \n",
       "7   Senior Analyst - Data Science - IIT/NIT/IIM/XL...   \n",
       "8                   Team Lead/Consultant-Data Science   \n",
       "9                 Hiring For Data Science-2 To 7Years   \n",
       "10                        Senior Analyst-Data Science   \n",
       "11               Data Science Engineer - IIT/NIT/BITS   \n",
       "12  Data Analyst/Data Science Lead & Consultant (3...   \n",
       "13                          Data Science Analyst - 11   \n",
       "14                             Data Science Associate   \n",
       "15                                Lead , Data Science   \n",
       "16              Senior Scientist , QbD & Data Science   \n",
       "17                             Analyst - Data Science   \n",
       "18       Senior Data Science Analyst (From FMCG Ind.)   \n",
       "19                  Team Lead/Consultant-Data Science   \n",
       "\n",
       "                                                Skill  \\\n",
       "0   data science\\ndata engineering\\nwritten\\nIT Sk...   \n",
       "1   Data analysis\\nMIS\\nAnalytical\\nMachine learni...   \n",
       "2   SAP\\nData Management\\nData Analysis\\nData Anal...   \n",
       "3   Product management\\nComputer science\\nData ana...   \n",
       "4   SOC\\nDebugging\\nAndroid\\nLinux\\nCoding\\nweb sc...   \n",
       "5   NLP\\nData Scientist\\nArtificial Intelligence\\n...   \n",
       "6   Strategy consulting\\nMachine learning\\nprofess...   \n",
       "7   Data Science\\nPython\\nTableau\\nverbal communic...   \n",
       "8   Publishing\\ndata science\\nConsulting\\nNatural ...   \n",
       "9   Data Science\\nIT Skills\\nPython\\nMachine Learn...   \n",
       "10  Publishing\\nData modeling\\nConsulting\\nAnalyti...   \n",
       "11  Data Science\\nTensorflow\\nPower BI\\nPowerBi\\nM...   \n",
       "12  python\\ndata analytics\\npredictive modeling\\nF...   \n",
       "13  Strategy consulting\\nMachine learning\\nprofess...   \n",
       "14  Data Science\\nAlgorithms\\nLogistic Regression\\...   \n",
       "15  IT Skills\\nSoftware Development\\nProject Manag...   \n",
       "16  Computer science\\nData analysis\\ndata science\\...   \n",
       "17  Business process\\ncustomer analytics\\nData ana...   \n",
       "18  SAP\\nData Management\\nData Analysis\\nData Anal...   \n",
       "19  Publishing\\nExcel\\nConsulting\\nAnalytics\\nSQL\\...   \n",
       "\n",
       "                              Company_Name                     Salary  \\\n",
       "0   NETWORTH DATA PRODUCTS PRIVATE LIMITED    4,00,000 - 6,50,000 PA.   \n",
       "1                  GOGOVAN INDIA Pvt. Ltd.              Not disclosed   \n",
       "2                               H K Jewels  12,00,000 - 15,00,000 PA.   \n",
       "3                                   Google              Not disclosed   \n",
       "4                                  Gartner              Not disclosed   \n",
       "5                                 Catalyst              Not disclosed   \n",
       "6                                Accenture              Not disclosed   \n",
       "7                                    HuQuo              Not disclosed   \n",
       "8                                Accenture              Not disclosed   \n",
       "9                                      PwC              Not disclosed   \n",
       "10                               Accenture              Not disclosed   \n",
       "11                             TalentStack              Not disclosed   \n",
       "12              Sapwood Ventures Pvt. Ltd.              Not disclosed   \n",
       "13                               Accenture              Not disclosed   \n",
       "14                           Kreate Energy    4,00,000 - 8,00,000 PA.   \n",
       "15                        Madhi Foundation              Not disclosed   \n",
       "16                     Novartis Healthcare              Not disclosed   \n",
       "17                          MilliporeSigma              Not disclosed   \n",
       "18                              H K Jewels  12,00,000 - 15,00,000 PA.   \n",
       "19                               Accenture              Not disclosed   \n",
       "\n",
       "                                             Location  \n",
       "0                                 Bangalore/Bengaluru  \n",
       "1                                              remote  \n",
       "2                                              Mumbai  \n",
       "3                                 Bangalore/Bengaluru  \n",
       "4                                    Gurgaon/Gurugram  \n",
       "5                                 Bangalore/Bengaluru  \n",
       "6              Mumbai, New Delhi, Bangalore/Bengaluru  \n",
       "7                                    Gurgaon/Gurugram  \n",
       "8                                 Bangalore/Bengaluru  \n",
       "9   Kolkata, Pune, Gurgaon/Gurugram, Chennai, Bang...  \n",
       "10                                Bangalore/Bengaluru  \n",
       "11                                Bangalore/Bengaluru  \n",
       "12                  Hyderabad/Secunderabad, Ahmedabad  \n",
       "13                                             Mumbai  \n",
       "14                              Delhi / NCR(Vaishali)  \n",
       "15                                            Chennai  \n",
       "16                             Hyderabad/Secunderabad  \n",
       "17                                Bangalore/Bengaluru  \n",
       "18                                             Mumbai  \n",
       "19                                Bangalore/Bengaluru  "
      ]
     },
     "execution_count": 99,
     "metadata": {},
     "output_type": "execute_result"
    }
   ],
   "source": [
    "JOB=pd.DataFrame([])\n",
    "JOB['Job_Title']=Job_Title\n",
    "JOB['Skill']=Skill\n",
    "JOB['Company_Name']=Company_Name\n",
    "JOB['Salary']=Salary\n",
    "JOB['Location']=Location\n",
    "JOB"
   ]
  },
  {
   "cell_type": "markdown",
   "metadata": {},
   "source": [
    "# 8. Scrape the details of Highest selling novels."
   ]
  },
  {
   "cell_type": "code",
   "execution_count": null,
   "metadata": {},
   "outputs": [],
   "source": []
  },
  {
   "cell_type": "code",
   "execution_count": 100,
   "metadata": {},
   "outputs": [],
   "source": [
    "url_8=\"https://www.theguardian.com/news/datablog/2012/aug/09/best-selling-books-all-time-fifty-shades-grey-compare\""
   ]
  },
  {
   "cell_type": "code",
   "execution_count": 101,
   "metadata": {},
   "outputs": [],
   "source": [
    "driver.get(url_8)"
   ]
  },
  {
   "cell_type": "code",
   "execution_count": 102,
   "metadata": {},
   "outputs": [],
   "source": [
    "Book_name=[]\n",
    "Author_name=[]\n",
    "Volumes_sold=[]\n",
    "Publisher=[]\n",
    "Genre=[]\n"
   ]
  },
  {
   "cell_type": "code",
   "execution_count": 103,
   "metadata": {},
   "outputs": [
    {
     "name": "stderr",
     "output_type": "stream",
     "text": [
      "C:\\Users\\ASUS\\AppData\\Local\\Temp\\ipykernel_14780\\3824362853.py:2: DeprecationWarning: find_elements_by_xpath is deprecated. Please use find_elements(by=By.XPATH, value=xpath) instead\n",
      "  bname=driver.find_elements_by_xpath(\"/html/body/div/div[2]/div[2]/div/div[2]/div/table/tbody/tr/td[2]\")\n"
     ]
    },
    {
     "name": "stdout",
     "output_type": "stream",
     "text": [
      "100 ['Da Vinci Code,The', 'Harry Potter and the Deathly Hallows', \"Harry Potter and the Philosopher's Stone\", 'Harry Potter and the Order of the Phoenix', 'Fifty Shades of Grey', 'Harry Potter and the Goblet of Fire', 'Harry Potter and the Chamber of Secrets', 'Harry Potter and the Prisoner of Azkaban', 'Angels and Demons', \"Harry Potter and the Half-blood Prince:Children's Edition\", 'Fifty Shades Darker', 'Twilight', 'Girl with the Dragon Tattoo,The:Millennium Trilogy', 'Fifty Shades Freed', 'Lost Symbol,The', 'New Moon', 'Deception Point', 'Eclipse', 'Lovely Bones,The', 'Curious Incident of the Dog in the Night-time,The', 'Digital Fortress', 'Short History of Nearly Everything,A', 'Girl Who Played with Fire,The:Millennium Trilogy', 'Breaking Dawn', 'Very Hungry Caterpillar,The:The Very Hungry Caterpillar', 'Gruffalo,The', \"Jamie's 30-Minute Meals\", 'Kite Runner,The', 'One Day', 'Thousand Splendid Suns,A', \"Girl Who Kicked the Hornets' Nest,The:Millennium Trilogy\", \"Time Traveler's Wife,The\", 'Atonement', \"Bridget Jones's Diary:A Novel\", 'World According to Clarkson,The', \"Captain Corelli's Mandolin\", 'Sound of Laughter,The', 'Life of Pi', 'Billy Connolly', 'Child Called It,A', \"Gruffalo's Child,The\", \"Angela's Ashes:A Memoir of a Childhood\", 'Birdsong', 'Northern Lights:His Dark Materials S.', 'Labyrinth', 'Harry Potter and the Half-blood Prince', 'Help,The', 'Man and Boy', 'Memoirs of a Geisha', \"No.1 Ladies' Detective Agency,The:No.1 Ladies' Detective Agency S.\", 'Island,The', 'PS, I Love You', 'You are What You Eat:The Plan That Will Change Your Life', 'Shadow of the Wind,The', 'Tales of Beedle the Bard,The', 'Broker,The', \"Dr. Atkins' New Diet Revolution:The No-hunger, Luxurious Weight Loss P\", 'Subtle Knife,The:His Dark Materials S.', 'Eats, Shoots and Leaves:The Zero Tolerance Approach to Punctuation', \"Delia's How to Cook:(Bk.1)\", 'Chocolat', 'Boy in the Striped Pyjamas,The', \"My Sister's Keeper\", 'Amber Spyglass,The:His Dark Materials S.', 'To Kill a Mockingbird', 'Men are from Mars, Women are from Venus:A Practical Guide for Improvin', 'Dear Fatty', 'Short History of Tractors in Ukrainian,A', 'Hannibal', 'Lord of the Rings,The', 'Stupid White Men:...and Other Sorry Excuses for the State of the Natio', 'Interpretation of Murder,The', 'Sharon Osbourne Extreme:My Autobiography', 'Alchemist,The:A Fable About Following Your Dream', \"At My Mother's Knee ...:and Other Low Joints\", 'Notes from a Small Island', 'Return of the Naked Chef,The', 'Bridget Jones: The Edge of Reason', \"Jamie's Italy\", 'I Can Make You Thin', 'Down Under', 'Summons,The', 'Small Island', 'Nigella Express', 'Brick Lane', \"Memory Keeper's Daughter,The\", 'Room on the Broom', 'About a Boy', 'My Booky Wook', 'God Delusion,The', '\"Beano\" Annual,The', 'White Teeth', 'House at Riverton,The', 'Book Thief,The', 'Nights of Rain and Stars', 'Ghost,The', 'Happy Days with the Naked Chef', 'Hunger Games,The:Hunger Games Trilogy', \"Lost Boy,The:A Foster Child's Search for the Love of a Family\", \"Jamie's Ministry of Food:Anyone Can Learn to Cook in 24 Hours\"]\n"
     ]
    }
   ],
   "source": [
    "#scraping the Book_name \n",
    "bname=driver.find_elements_by_xpath(\"/html/body/div/div[2]/div[2]/div/div[2]/div/table/tbody/tr/td[2]\")\n",
    "for i in bname:\n",
    "    if i.text is None :\n",
    "        Book_name.append(\"--\") \n",
    "    else:\n",
    "        Book_name.append(i.text)\n",
    "print(len(Book_name),Book_name)"
   ]
  },
  {
   "cell_type": "code",
   "execution_count": 104,
   "metadata": {},
   "outputs": [
    {
     "name": "stderr",
     "output_type": "stream",
     "text": [
      "C:\\Users\\ASUS\\AppData\\Local\\Temp\\ipykernel_14780\\543818455.py:2: DeprecationWarning: find_elements_by_xpath is deprecated. Please use find_elements(by=By.XPATH, value=xpath) instead\n",
      "  Auth=driver.find_elements_by_xpath(\"/html/body/div/div[2]/div[2]/div/div[2]/div/table/tbody/tr/td[3]\")\n"
     ]
    },
    {
     "name": "stdout",
     "output_type": "stream",
     "text": [
      "100 ['Brown, Dan', 'Rowling, J.K.', 'Rowling, J.K.', 'Rowling, J.K.', 'James, E. L.', 'Rowling, J.K.', 'Rowling, J.K.', 'Rowling, J.K.', 'Brown, Dan', 'Rowling, J.K.', 'James, E. L.', 'Meyer, Stephenie', 'Larsson, Stieg', 'James, E. L.', 'Brown, Dan', 'Meyer, Stephenie', 'Brown, Dan', 'Meyer, Stephenie', 'Sebold, Alice', 'Haddon, Mark', 'Brown, Dan', 'Bryson, Bill', 'Larsson, Stieg', 'Meyer, Stephenie', 'Carle, Eric', 'Donaldson, Julia', 'Oliver, Jamie', 'Hosseini, Khaled', 'Nicholls, David', 'Hosseini, Khaled', 'Larsson, Stieg', 'Niffenegger, Audrey', 'McEwan, Ian', 'Fielding, Helen', 'Clarkson, Jeremy', 'Bernieres, Louis de', 'Kay, Peter', 'Martel, Yann', 'Stephenson, Pamela', 'Pelzer, Dave', 'Donaldson, Julia', 'McCourt, Frank', 'Faulks, Sebastian', 'Pullman, Philip', 'Mosse, Kate', 'Rowling, J.K.', 'Stockett, Kathryn', 'Parsons, Tony', 'Golden, Arthur', 'McCall Smith, Alexander', 'Hislop, Victoria', 'Ahern, Cecelia', 'McKeith, Gillian', 'Zafon, Carlos Ruiz', 'Rowling, J.K.', 'Grisham, John', 'Atkins, Robert C.', 'Pullman, Philip', 'Truss, Lynne', 'Smith, Delia', 'Harris, Joanne', 'Boyne, John', 'Picoult, Jodi', 'Pullman, Philip', 'Lee, Harper', 'Gray, John', 'French, Dawn', 'Lewycka, Marina', 'Harris, Thomas', 'Tolkien, J. R. R.', 'Moore, Michael', 'Rubenfeld, Jed', 'Osbourne, Sharon', 'Coelho, Paulo', \"O'Grady, Paul\", 'Bryson, Bill', 'Oliver, Jamie', 'Fielding, Helen', 'Oliver, Jamie', 'McKenna, Paul', 'Bryson, Bill', 'Grisham, John', 'Levy, Andrea', 'Lawson, Nigella', 'Ali, Monica', 'Edwards, Kim', 'Donaldson, Julia', 'Hornby, Nick', 'Brand, Russell', 'Dawkins, Richard', '0', 'Smith, Zadie', 'Morton, Kate', 'Zusak, Markus', 'Binchy, Maeve', 'Harris, Robert', 'Oliver, Jamie', 'Collins, Suzanne', 'Pelzer, Dave', 'Oliver, Jamie']\n"
     ]
    }
   ],
   "source": [
    "#scraping the Author_name \n",
    "Auth=driver.find_elements_by_xpath(\"/html/body/div/div[2]/div[2]/div/div[2]/div/table/tbody/tr/td[3]\")\n",
    "for i in Auth:\n",
    "    if i.text is None :\n",
    "        Author_name.append(\"--\") \n",
    "    else:\n",
    "        Author_name.append(i.text)\n",
    "print(len(Author_name),Author_name)"
   ]
  },
  {
   "cell_type": "code",
   "execution_count": 105,
   "metadata": {},
   "outputs": [
    {
     "name": "stderr",
     "output_type": "stream",
     "text": [
      "C:\\Users\\ASUS\\AppData\\Local\\Temp\\ipykernel_14780\\550822993.py:2: DeprecationWarning: find_elements_by_xpath is deprecated. Please use find_elements(by=By.XPATH, value=xpath) instead\n",
      "  gen=driver.find_elements_by_xpath(\"/html/body/div/div[2]/div[2]/div/div[2]/div/table/tbody/tr/td[6]\")\n"
     ]
    },
    {
     "name": "stdout",
     "output_type": "stream",
     "text": [
      "100 ['Crime, Thriller & Adventure', \"Children's Fiction\", \"Children's Fiction\", \"Children's Fiction\", 'Romance & Sagas', \"Children's Fiction\", \"Children's Fiction\", \"Children's Fiction\", 'Crime, Thriller & Adventure', \"Children's Fiction\", 'Romance & Sagas', 'Young Adult Fiction', 'Crime, Thriller & Adventure', 'Romance & Sagas', 'Crime, Thriller & Adventure', 'Young Adult Fiction', 'Crime, Thriller & Adventure', 'Young Adult Fiction', 'General & Literary Fiction', 'General & Literary Fiction', 'Crime, Thriller & Adventure', 'Popular Science', 'Crime, Thriller & Adventure', 'Young Adult Fiction', 'Picture Books', 'Picture Books', 'Food & Drink: General', 'General & Literary Fiction', 'General & Literary Fiction', 'General & Literary Fiction', 'Crime, Thriller & Adventure', 'General & Literary Fiction', 'General & Literary Fiction', 'General & Literary Fiction', 'Humour: Collections & General', 'General & Literary Fiction', 'Autobiography: General', 'General & Literary Fiction', 'Biography: The Arts', 'Autobiography: General', 'Picture Books', 'Autobiography: General', 'General & Literary Fiction', 'Young Adult Fiction', 'General & Literary Fiction', 'Science Fiction & Fantasy', 'General & Literary Fiction', 'General & Literary Fiction', 'General & Literary Fiction', 'Crime, Thriller & Adventure', 'General & Literary Fiction', 'General & Literary Fiction', 'Fitness & Diet', 'General & Literary Fiction', \"Children's Fiction\", 'Crime, Thriller & Adventure', 'Fitness & Diet', 'Young Adult Fiction', 'Usage & Writing Guides', 'Food & Drink: General', 'General & Literary Fiction', 'Young Adult Fiction', 'General & Literary Fiction', 'Young Adult Fiction', 'General & Literary Fiction', 'Popular Culture & Media: General Interest', 'Autobiography: The Arts', 'General & Literary Fiction', 'Crime, Thriller & Adventure', 'Science Fiction & Fantasy', 'Current Affairs & Issues', 'Crime, Thriller & Adventure', 'Autobiography: The Arts', 'General & Literary Fiction', 'Autobiography: The Arts', 'Travel Writing', 'Food & Drink: General', 'General & Literary Fiction', 'National & Regional Cuisine', 'Fitness & Diet', 'Travel Writing', 'Crime, Thriller & Adventure', 'General & Literary Fiction', 'Food & Drink: General', 'General & Literary Fiction', 'General & Literary Fiction', 'Picture Books', 'General & Literary Fiction', 'Autobiography: The Arts', 'Popular Science', \"Children's Annuals\", 'General & Literary Fiction', 'General & Literary Fiction', 'General & Literary Fiction', 'General & Literary Fiction', 'General & Literary Fiction', 'Food & Drink: General', 'Young Adult Fiction', 'Biography: General', 'Food & Drink: General']\n"
     ]
    }
   ],
   "source": [
    "#scraping the Genre \n",
    "gen=driver.find_elements_by_xpath(\"/html/body/div/div[2]/div[2]/div/div[2]/div/table/tbody/tr/td[6]\")\n",
    "for i in gen:\n",
    "    if i.text is None :\n",
    "        Genre.append(\"--\") \n",
    "    else:\n",
    "        Genre.append(i.text)\n",
    "print(len(Genre),Genre)"
   ]
  },
  {
   "cell_type": "code",
   "execution_count": 106,
   "metadata": {},
   "outputs": [
    {
     "name": "stderr",
     "output_type": "stream",
     "text": [
      "C:\\Users\\ASUS\\AppData\\Local\\Temp\\ipykernel_14780\\2745861046.py:2: DeprecationWarning: find_elements_by_xpath is deprecated. Please use find_elements(by=By.XPATH, value=xpath) instead\n",
      "  pub=driver.find_elements_by_xpath(\"/html/body/div/div[2]/div[2]/div/div[2]/div/table/tbody/tr/td[5]\")\n"
     ]
    },
    {
     "name": "stdout",
     "output_type": "stream",
     "text": [
      "100 ['Transworld', 'Bloomsbury', 'Bloomsbury', 'Bloomsbury', 'Random House', 'Bloomsbury', 'Bloomsbury', 'Bloomsbury', 'Transworld', 'Bloomsbury', 'Random House', 'Little, Brown Book', 'Quercus', 'Random House', 'Transworld', 'Little, Brown Book', 'Transworld', 'Little, Brown Book', 'Pan Macmillan', 'Random House', 'Transworld', 'Transworld', 'Quercus', 'Little, Brown Book', 'Penguin', 'Pan Macmillan', 'Penguin', 'Bloomsbury', 'Hodder & Stoughton', 'Bloomsbury', 'Quercus', 'Random House', 'Random House', 'Pan Macmillan', 'Penguin', 'Random House', 'Random House', 'Canongate', 'HarperCollins', 'Orion', 'Pan Macmillan', 'HarperCollins', 'Random House', 'Scholastic Ltd.', 'Orion', 'Bloomsbury', 'Penguin', 'HarperCollins', 'Random House', 'Little, Brown Book', 'Headline', 'HarperCollins', 'Penguin', 'Orion', 'Bloomsbury', 'Random House', 'Random House', 'Scholastic Ltd.', 'Profile Books Group', 'Random House', 'Transworld', 'Random House Childrens Books G', 'Hodder & Stoughton', 'Scholastic Ltd.', 'Random House', 'HarperCollins', 'Random House', 'Penguin', 'Random House', 'HarperCollins', 'Penguin', 'Headline', 'Little, Brown Book', 'HarperCollins', 'Transworld', 'Transworld', 'Penguin', 'Pan Macmillan', 'Penguin', 'Transworld', 'Transworld', 'Random House', 'Headline', 'Random House', 'Transworld', 'Penguin', 'Pan Macmillan', 'Penguin', 'Hodder & Stoughton', 'Transworld', 'D.C. Thomson', 'Penguin', 'Pan Macmillan', 'Transworld', 'Orion', 'Random House', 'Penguin', 'Scholastic Ltd.', 'Orion', 'Penguin']\n"
     ]
    }
   ],
   "source": [
    "#scraping the Publisher \n",
    "pub=driver.find_elements_by_xpath(\"/html/body/div/div[2]/div[2]/div/div[2]/div/table/tbody/tr/td[5]\")\n",
    "for i in pub:\n",
    "    if i.text is None :\n",
    "        Publisher.append(\"--\") \n",
    "    else:\n",
    "        Publisher.append(i.text)\n",
    "print(len(Publisher),Publisher)"
   ]
  },
  {
   "cell_type": "code",
   "execution_count": 107,
   "metadata": {},
   "outputs": [
    {
     "name": "stderr",
     "output_type": "stream",
     "text": [
      "C:\\Users\\ASUS\\AppData\\Local\\Temp\\ipykernel_14780\\3658262928.py:2: DeprecationWarning: find_elements_by_xpath is deprecated. Please use find_elements(by=By.XPATH, value=xpath) instead\n",
      "  vs=driver.find_elements_by_xpath(\"/html/body/div/div[2]/div[2]/div/div[2]/div/table/tbody/tr/td[4]\")\n"
     ]
    },
    {
     "name": "stdout",
     "output_type": "stream",
     "text": [
      "100 ['5,094,805', '4,475,152', '4,200,654', '4,179,479', '3,758,936', '3,583,215', '3,484,047', '3,377,906', '3,193,946', '2,950,264', '2,479,784', '2,315,405', '2,233,570', '2,193,928', '2,183,031', '2,152,737', '2,062,145', '2,052,876', '2,005,598', '1,979,552', '1,928,900', '1,852,919', '1,814,784', '1,787,118', '1,783,535', '1,781,269', '1,743,266', '1,629,119', '1,616,068', '1,583,992', '1,555,135', '1,546,886', '1,539,428', '1,508,205', '1,489,403', '1,352,318', '1,310,207', '1,310,176', '1,231,957', '1,217,712', '1,208,711', '1,204,058', '1,184,967', '1,181,503', '1,181,093', '1,153,181', '1,132,336', '1,130,802', '1,126,337', '1,115,549', '1,108,328', '1,107,379', '1,104,403', '1,092,349', '1,090,847', '1,087,262', '1,054,196', '1,037,160', '1,023,688', '1,015,956', '1,009,873', '1,004,414', '1,003,780', '1,002,314', '998,213', '992,846', '986,753', '986,115', '970,509', '967,466', '963,353', '962,515', '959,496', '956,114', '945,640', '931,312', '925,425', '924,695', '906,968', '905,086', '890,847', '869,671', '869,659', '862,602', '856,540', '845,858', '842,535', '828,215', '820,563', '816,907', '816,585', '815,586', '814,370', '809,641', '808,900', '807,311', '794,201', '792,187', '791,507', '791,095']\n"
     ]
    }
   ],
   "source": [
    "#scraping the Volumes_sold \n",
    "vs=driver.find_elements_by_xpath(\"/html/body/div/div[2]/div[2]/div/div[2]/div/table/tbody/tr/td[4]\")\n",
    "for i in vs:\n",
    "    if i.text is None :\n",
    "        Volumes_sold.append(\"--\") \n",
    "    else:\n",
    "        Volumes_sold.append(i.text)\n",
    "print(len(Volumes_sold),Volumes_sold)"
   ]
  },
  {
   "cell_type": "code",
   "execution_count": 108,
   "metadata": {},
   "outputs": [
    {
     "data": {
      "text/html": [
       "<div>\n",
       "<style scoped>\n",
       "    .dataframe tbody tr th:only-of-type {\n",
       "        vertical-align: middle;\n",
       "    }\n",
       "\n",
       "    .dataframe tbody tr th {\n",
       "        vertical-align: top;\n",
       "    }\n",
       "\n",
       "    .dataframe thead th {\n",
       "        text-align: right;\n",
       "    }\n",
       "</style>\n",
       "<table border=\"1\" class=\"dataframe\">\n",
       "  <thead>\n",
       "    <tr style=\"text-align: right;\">\n",
       "      <th></th>\n",
       "      <th>Book_name</th>\n",
       "      <th>Author_name</th>\n",
       "      <th>Genre</th>\n",
       "      <th>Publisher</th>\n",
       "      <th>Volumes_sold</th>\n",
       "    </tr>\n",
       "  </thead>\n",
       "  <tbody>\n",
       "    <tr>\n",
       "      <th>0</th>\n",
       "      <td>Da Vinci Code,The</td>\n",
       "      <td>Brown, Dan</td>\n",
       "      <td>Crime, Thriller &amp; Adventure</td>\n",
       "      <td>Transworld</td>\n",
       "      <td>5,094,805</td>\n",
       "    </tr>\n",
       "    <tr>\n",
       "      <th>1</th>\n",
       "      <td>Harry Potter and the Deathly Hallows</td>\n",
       "      <td>Rowling, J.K.</td>\n",
       "      <td>Children's Fiction</td>\n",
       "      <td>Bloomsbury</td>\n",
       "      <td>4,475,152</td>\n",
       "    </tr>\n",
       "    <tr>\n",
       "      <th>2</th>\n",
       "      <td>Harry Potter and the Philosopher's Stone</td>\n",
       "      <td>Rowling, J.K.</td>\n",
       "      <td>Children's Fiction</td>\n",
       "      <td>Bloomsbury</td>\n",
       "      <td>4,200,654</td>\n",
       "    </tr>\n",
       "    <tr>\n",
       "      <th>3</th>\n",
       "      <td>Harry Potter and the Order of the Phoenix</td>\n",
       "      <td>Rowling, J.K.</td>\n",
       "      <td>Children's Fiction</td>\n",
       "      <td>Bloomsbury</td>\n",
       "      <td>4,179,479</td>\n",
       "    </tr>\n",
       "    <tr>\n",
       "      <th>4</th>\n",
       "      <td>Fifty Shades of Grey</td>\n",
       "      <td>James, E. L.</td>\n",
       "      <td>Romance &amp; Sagas</td>\n",
       "      <td>Random House</td>\n",
       "      <td>3,758,936</td>\n",
       "    </tr>\n",
       "    <tr>\n",
       "      <th>...</th>\n",
       "      <td>...</td>\n",
       "      <td>...</td>\n",
       "      <td>...</td>\n",
       "      <td>...</td>\n",
       "      <td>...</td>\n",
       "    </tr>\n",
       "    <tr>\n",
       "      <th>95</th>\n",
       "      <td>Ghost,The</td>\n",
       "      <td>Harris, Robert</td>\n",
       "      <td>General &amp; Literary Fiction</td>\n",
       "      <td>Random House</td>\n",
       "      <td>807,311</td>\n",
       "    </tr>\n",
       "    <tr>\n",
       "      <th>96</th>\n",
       "      <td>Happy Days with the Naked Chef</td>\n",
       "      <td>Oliver, Jamie</td>\n",
       "      <td>Food &amp; Drink: General</td>\n",
       "      <td>Penguin</td>\n",
       "      <td>794,201</td>\n",
       "    </tr>\n",
       "    <tr>\n",
       "      <th>97</th>\n",
       "      <td>Hunger Games,The:Hunger Games Trilogy</td>\n",
       "      <td>Collins, Suzanne</td>\n",
       "      <td>Young Adult Fiction</td>\n",
       "      <td>Scholastic Ltd.</td>\n",
       "      <td>792,187</td>\n",
       "    </tr>\n",
       "    <tr>\n",
       "      <th>98</th>\n",
       "      <td>Lost Boy,The:A Foster Child's Search for the L...</td>\n",
       "      <td>Pelzer, Dave</td>\n",
       "      <td>Biography: General</td>\n",
       "      <td>Orion</td>\n",
       "      <td>791,507</td>\n",
       "    </tr>\n",
       "    <tr>\n",
       "      <th>99</th>\n",
       "      <td>Jamie's Ministry of Food:Anyone Can Learn to C...</td>\n",
       "      <td>Oliver, Jamie</td>\n",
       "      <td>Food &amp; Drink: General</td>\n",
       "      <td>Penguin</td>\n",
       "      <td>791,095</td>\n",
       "    </tr>\n",
       "  </tbody>\n",
       "</table>\n",
       "<p>100 rows × 5 columns</p>\n",
       "</div>"
      ],
      "text/plain": [
       "                                            Book_name       Author_name  \\\n",
       "0                                   Da Vinci Code,The        Brown, Dan   \n",
       "1                Harry Potter and the Deathly Hallows     Rowling, J.K.   \n",
       "2            Harry Potter and the Philosopher's Stone     Rowling, J.K.   \n",
       "3           Harry Potter and the Order of the Phoenix     Rowling, J.K.   \n",
       "4                                Fifty Shades of Grey      James, E. L.   \n",
       "..                                                ...               ...   \n",
       "95                                          Ghost,The    Harris, Robert   \n",
       "96                     Happy Days with the Naked Chef     Oliver, Jamie   \n",
       "97              Hunger Games,The:Hunger Games Trilogy  Collins, Suzanne   \n",
       "98  Lost Boy,The:A Foster Child's Search for the L...      Pelzer, Dave   \n",
       "99  Jamie's Ministry of Food:Anyone Can Learn to C...     Oliver, Jamie   \n",
       "\n",
       "                          Genre        Publisher Volumes_sold  \n",
       "0   Crime, Thriller & Adventure       Transworld    5,094,805  \n",
       "1            Children's Fiction       Bloomsbury    4,475,152  \n",
       "2            Children's Fiction       Bloomsbury    4,200,654  \n",
       "3            Children's Fiction       Bloomsbury    4,179,479  \n",
       "4               Romance & Sagas     Random House    3,758,936  \n",
       "..                          ...              ...          ...  \n",
       "95   General & Literary Fiction     Random House      807,311  \n",
       "96        Food & Drink: General          Penguin      794,201  \n",
       "97          Young Adult Fiction  Scholastic Ltd.      792,187  \n",
       "98           Biography: General            Orion      791,507  \n",
       "99        Food & Drink: General          Penguin      791,095  \n",
       "\n",
       "[100 rows x 5 columns]"
      ]
     },
     "execution_count": 108,
     "metadata": {},
     "output_type": "execute_result"
    }
   ],
   "source": [
    "Book=pd.DataFrame([])\n",
    "Book['Book_name']=Book_name\n",
    "Book['Author_name']=Author_name\n",
    "Book['Genre']=Genre\n",
    "Book['Publisher']=Publisher\n",
    "Book['Volumes_sold']=Volumes_sold\n",
    "Book"
   ]
  },
  {
   "cell_type": "code",
   "execution_count": null,
   "metadata": {},
   "outputs": [],
   "source": []
  },
  {
   "cell_type": "markdown",
   "metadata": {},
   "source": [
    "# 9. Scrape the details most watched tv series of all time from imdb.com. "
   ]
  },
  {
   "cell_type": "code",
   "execution_count": null,
   "metadata": {},
   "outputs": [],
   "source": []
  },
  {
   "cell_type": "code",
   "execution_count": 109,
   "metadata": {},
   "outputs": [],
   "source": [
    "url_9=\"https://www.imdb.com/list/ls095964455/\""
   ]
  },
  {
   "cell_type": "code",
   "execution_count": 110,
   "metadata": {},
   "outputs": [],
   "source": [
    "driver.get(url_9)"
   ]
  },
  {
   "cell_type": "code",
   "execution_count": 111,
   "metadata": {},
   "outputs": [],
   "source": [
    "Name=[]\n",
    "Year_span=[]\n",
    "Genres=[]\n",
    "Run_time=[]\n",
    "Ratings=[]\n",
    "Votes=[]\n"
   ]
  },
  {
   "cell_type": "code",
   "execution_count": 112,
   "metadata": {},
   "outputs": [
    {
     "name": "stderr",
     "output_type": "stream",
     "text": [
      "C:\\Users\\ASUS\\AppData\\Local\\Temp\\ipykernel_14780\\2737753761.py:2: DeprecationWarning: find_elements_by_xpath is deprecated. Please use find_elements(by=By.XPATH, value=xpath) instead\n",
      "  mname=driver.find_elements_by_xpath(\"//div[@class='lister-item-content']/h3/a\")\n"
     ]
    },
    {
     "name": "stdout",
     "output_type": "stream",
     "text": [
      "100 ['Game of Thrones', 'Stranger Things', 'The Walking Dead', '13 Reasons Why', 'The 100', 'Orange Is the New Black', 'Riverdale', \"Grey's Anatomy\", 'The Flash', 'Arrow', 'Money Heist', 'The Big Bang Theory', 'Black Mirror', 'Sherlock', 'Vikings', 'Pretty Little Liars', 'The Vampire Diaries', 'American Horror Story', 'Breaking Bad', 'Lucifer', 'Supernatural', 'Prison Break', 'How to Get Away with Murder', 'Teen Wolf', 'The Simpsons', 'Once Upon a Time', 'Narcos', 'Daredevil', 'Friends', 'How I Met Your Mother', 'Suits', 'Mr. Robot', 'The Originals', 'Supergirl', 'Gossip Girl', 'Sense8', 'Gotham', 'Westworld', 'Jessica Jones', 'Modern Family', 'Rick and Morty', 'Shadowhunters', 'The End of the F***ing World', 'House of Cards', 'Dark', 'Elite', 'Sex Education', 'Shameless', 'New Girl', 'Agents of S.H.I.E.L.D.', 'You', 'Dexter', 'Fear the Walking Dead', 'Family Guy', 'The Blacklist', 'Lost', 'Peaky Blinders', 'House', 'Quantico', 'Orphan Black', 'Homeland', 'Blindspot', \"DC's Legends of Tomorrow\", \"The Handmaid's Tale\", 'Chilling Adventures of Sabrina', 'The Good Doctor', 'Jane the Virgin', 'Glee', 'South Park', 'Brooklyn Nine-Nine', 'Under the Dome', 'The Umbrella Academy', 'True Detective', 'The OA', 'Desperate Housewives', 'Better Call Saul', 'Bates Motel', 'The Punisher', 'Atypical', 'Dynasty', 'This Is Us', 'The Good Place', 'Iron Fist', 'The Rain', 'Mindhunter', 'Revenge', 'Luke Cage', 'Scandal', 'The Defenders', 'Big Little Lies', 'Insatiable', 'The Mentalist', 'The Crown', 'Chernobyl', 'iZombie', 'Reign', 'A Series of Unfortunate Events', 'Criminal Minds', 'Scream: The TV Series', 'The Haunting of Hill House']\n"
     ]
    }
   ],
   "source": [
    "#scraping the Name \n",
    "mname=driver.find_elements_by_xpath(\"//div[@class='lister-item-content']/h3/a\")\n",
    "for i in mname:\n",
    "    if i.text is None :\n",
    "        Name.append(\"--\") \n",
    "    else:\n",
    "        Name.append(i.text)\n",
    "print(len(Name),Name)"
   ]
  },
  {
   "cell_type": "code",
   "execution_count": 113,
   "metadata": {},
   "outputs": [
    {
     "name": "stderr",
     "output_type": "stream",
     "text": [
      "C:\\Users\\ASUS\\AppData\\Local\\Temp\\ipykernel_14780\\3126298303.py:2: DeprecationWarning: find_elements_by_xpath is deprecated. Please use find_elements(by=By.XPATH, value=xpath) instead\n",
      "  ys=driver.find_elements_by_xpath(\"//span[@class='lister-item-year text-muted unbold']\")\n"
     ]
    },
    {
     "name": "stdout",
     "output_type": "stream",
     "text": [
      "100 ['(2011–2019)', '(2016– )', '(2010–2022)', '(2017–2020)', '(2014–2020)', '(2013–2019)', '(2017– )', '(2005– )', '(2014– )', '(2012–2020)', '(2017–2021)', '(2007–2019)', '(2011–2019)', '(2010–2017)', '(2013–2020)', '(2010–2017)', '(2009–2017)', '(2011– )', '(2008–2013)', '(2016–2021)', '(2005–2020)', '(2005–2017)', '(2014–2020)', '(2011–2017)', '(1989– )', '(2011–2018)', '(2015–2017)', '(2015–2018)', '(1994–2004)', '(2005–2014)', '(2011–2019)', '(2015–2019)', '(2013–2018)', '(2015–2021)', '(2007–2012)', '(2015–2018)', '(2014–2019)', '(2016– )', '(2015–2019)', '(2009–2020)', '(2013– )', '(2016–2019)', '(2017–2019)', '(2013–2018)', '(2017–2020)', '(2018– )', '(2019– )', '(2011–2021)', '(2011–2018)', '(2013–2020)', '(2018– )', '(2006–2013)', '(2015– )', '(1999– )', '(2013– )', '(2004–2010)', '(2013–2022)', '(2004–2012)', '(2015–2018)', '(2013–2017)', '(2011–2020)', '(2015–2020)', '(2016–2022)', '(2017– )', '(2018–2020)', '(2017– )', '(2014–2019)', '(2009–2015)', '(1997– )', '(2013–2021)', '(2013–2015)', '(2019–2022)', '(2014–2019)', '(2016–2019)', '(2004–2012)', '(2015–2022)', '(2013–2017)', '(2017–2019)', '(2017–2021)', '(2017–2022)', '(2016–2022)', '(2016–2020)', '(2017–2018)', '(2018–2020)', '(2017–2019)', '(2011–2015)', '(2016–2018)', '(2012–2018)', '(2017)', '(2017–2019)', '(2018–2019)', '(2008–2015)', '(2016– )', '(2019)', '(2015–2019)', '(2013–2017)', '(2017–2019)', '(2005–2020)', '(2015–2019)', '(2018)']\n"
     ]
    }
   ],
   "source": [
    "#scraping the Year_span \n",
    "ys=driver.find_elements_by_xpath(\"//span[@class='lister-item-year text-muted unbold']\")\n",
    "for i in ys:\n",
    "    if i.text is None :\n",
    "        Year_span.append(\"--\") \n",
    "    else:\n",
    "        Year_span.append(i.text)\n",
    "print(len(Year_span),Year_span)"
   ]
  },
  {
   "cell_type": "code",
   "execution_count": 114,
   "metadata": {},
   "outputs": [
    {
     "name": "stderr",
     "output_type": "stream",
     "text": [
      "C:\\Users\\ASUS\\AppData\\Local\\Temp\\ipykernel_14780\\2086853519.py:2: DeprecationWarning: find_elements_by_xpath is deprecated. Please use find_elements(by=By.XPATH, value=xpath) instead\n",
      "  gnr=driver.find_elements_by_xpath(\"//p[@class='text-muted text-small']/span[5]\")\n"
     ]
    },
    {
     "name": "stdout",
     "output_type": "stream",
     "text": [
      "100 ['Action, Adventure, Drama', 'Drama, Fantasy, Horror', 'Drama, Horror, Thriller', 'Drama, Mystery, Thriller', 'Drama, Mystery, Sci-Fi', 'Comedy, Crime, Drama', 'Crime, Drama, Mystery', 'Drama, Romance', 'Action, Adventure, Drama', 'Action, Adventure, Crime', 'Action, Crime, Drama', 'Comedy, Romance', 'Drama, Mystery, Sci-Fi', 'Crime, Drama, Mystery', 'Action, Adventure, Drama', 'Drama, Mystery, Romance', 'Drama, Fantasy, Horror', 'Drama, Horror, Sci-Fi', 'Crime, Drama, Thriller', 'Crime, Drama, Fantasy', 'Drama, Fantasy, Horror', 'Action, Crime, Drama', 'Crime, Drama, Mystery', 'Action, Drama, Fantasy', 'Animation, Comedy', 'Adventure, Fantasy, Romance', 'Biography, Crime, Drama', 'Action, Crime, Drama', 'Comedy, Romance', 'Comedy, Romance', 'Comedy, Drama', 'Crime, Drama, Thriller', 'Drama, Fantasy, Horror', 'Action, Adventure, Drama', 'Drama, Romance', 'Drama, Mystery, Sci-Fi', 'Action, Crime, Drama', 'Drama, Mystery, Sci-Fi', 'Action, Crime, Drama', 'Comedy, Drama, Romance', 'Animation, Adventure, Comedy', 'Action, Drama, Fantasy', 'Adventure, Comedy, Crime', 'Drama', 'Crime, Drama, Mystery', 'Crime, Drama, Thriller', 'Comedy, Drama', 'Comedy, Drama', 'Comedy, Romance', 'Action, Adventure, Drama', 'Crime, Drama, Romance', 'Crime, Drama, Mystery', 'Drama, Horror, Sci-Fi', 'Animation, Comedy', 'Crime, Drama, Mystery', 'Adventure, Drama, Fantasy', 'Crime, Drama', 'Drama, Mystery', 'Crime, Drama, Mystery', 'Drama, Sci-Fi, Thriller', 'Crime, Drama, Mystery', 'Action, Crime, Drama', 'Action, Adventure, Drama', 'Drama, Thriller', 'Drama, Fantasy, Horror', 'Drama', 'Comedy', 'Comedy, Drama, Music', 'Animation, Comedy', 'Comedy, Crime', 'Drama, Mystery, Sci-Fi', 'Action, Adventure, Comedy', 'Crime, Drama, Mystery', 'Drama, Fantasy, Mystery', 'Comedy, Drama, Mystery', 'Crime, Drama', 'Drama, Horror, Mystery', 'Action, Crime, Drama', 'Comedy, Drama', 'Drama', 'Comedy, Drama, Romance', 'Comedy, Drama, Fantasy', 'Action, Adventure, Crime', 'Drama, Sci-Fi, Thriller', 'Crime, Drama, Mystery', 'Drama, Mystery, Thriller', 'Action, Crime, Drama', 'Drama, Thriller', 'Action, Adventure, Crime', 'Crime, Drama, Mystery', 'Comedy, Drama, Thriller', 'Crime, Drama, Mystery', 'Biography, Drama, History', 'Drama, History, Thriller', 'Comedy, Crime, Drama', 'Drama', 'Adventure, Comedy, Drama', 'Crime, Drama, Mystery', 'Comedy, Crime, Drama', 'Drama, Horror, Mystery']\n"
     ]
    }
   ],
   "source": [
    "#scraping the Genres \n",
    "gnr=driver.find_elements_by_xpath(\"//p[@class='text-muted text-small']/span[5]\")\n",
    "for i in gnr:\n",
    "    if i.text is None :\n",
    "        Genres.append(\"--\") \n",
    "    else:\n",
    "        Genres.append(i.text)\n",
    "print(len(Genres),Genres)"
   ]
  },
  {
   "cell_type": "code",
   "execution_count": 115,
   "metadata": {},
   "outputs": [
    {
     "name": "stderr",
     "output_type": "stream",
     "text": [
      "C:\\Users\\ASUS\\AppData\\Local\\Temp\\ipykernel_14780\\505823347.py:2: DeprecationWarning: find_elements_by_xpath is deprecated. Please use find_elements(by=By.XPATH, value=xpath) instead\n",
      "  rt=driver.find_elements_by_xpath(\"//p[@class='text-muted text-small']/span[3]\")\n"
     ]
    },
    {
     "name": "stdout",
     "output_type": "stream",
     "text": [
      "100 ['57 min', '51 min', '44 min', '60 min', '43 min', '59 min', '45 min', '41 min', '43 min', '42 min', '70 min', '22 min', '60 min', '88 min', '44 min', '44 min', '43 min', '60 min', '49 min', '42 min', '44 min', '44 min', '43 min', '41 min', '22 min', '60 min', '49 min', '54 min', '22 min', '22 min', '44 min', '49 min', '45 min', '43 min', '42 min', '60 min', '42 min', '62 min', '56 min', '22 min', '23 min', '42 min', '25 min', '51 min', '60 min', '60 min', '45 min', '46 min', '22 min', '45 min', '45 min', '53 min', '44 min', '22 min', '43 min', '44 min', '60 min', '44 min', '42 min', '44 min', '55 min', '42 min', '42 min', '60 min', '60 min', '41 min', '60 min', '44 min', '22 min', '22 min', '43 min', '60 min', '55 min', '60 min', '45 min', '46 min', '45 min', '53 min', '30 min', '42 min', '45 min', '22 min', '55 min', '45 min', '60 min', '44 min', '55 min', '43 min', '50 min', '60 min', '45 min', '43 min', '58 min', '330 min', '42 min', '42 min', '50 min', '42 min', '45 min', '572 min']\n"
     ]
    }
   ],
   "source": [
    "#scraping the Run_time \n",
    "rt=driver.find_elements_by_xpath(\"//p[@class='text-muted text-small']/span[3]\")\n",
    "for i in rt:\n",
    "    if i.text is None :\n",
    "        Run_time.append(\"--\") \n",
    "    else:\n",
    "        Run_time.append(i.text)\n",
    "print(len(Run_time),Run_time)"
   ]
  },
  {
   "cell_type": "code",
   "execution_count": 116,
   "metadata": {},
   "outputs": [
    {
     "name": "stderr",
     "output_type": "stream",
     "text": [
      "C:\\Users\\ASUS\\AppData\\Local\\Temp\\ipykernel_14780\\4226873248.py:2: DeprecationWarning: find_elements_by_xpath is deprecated. Please use find_elements(by=By.XPATH, value=xpath) instead\n",
      "  rate=driver.find_elements_by_xpath(\"//div[@class='ipl-rating-star small']/span[2]\")\n"
     ]
    },
    {
     "name": "stdout",
     "output_type": "stream",
     "text": [
      "100 ['9.2', '8.7', '8.2', '7.5', '7.6', '8.1', '6.6', '7.6', '7.6', '7.5', '8.2', '8.2', '8.8', '9.1', '8.5', '7.4', '7.7', '8', '9.5', '8.1', '8.4', '8.3', '8.1', '7.7', '8.7', '7.7', '8.8', '8.6', '8.9', '8.3', '8.5', '8.6', '8.3', '6.2', '7.4', '8.2', '7.8', '8.6', '7.9', '8.5', '9.2', '6.5', '8.1', '8.7', '8.7', '7.4', '8.4', '8.6', '7.7', '7.5', '7.7', '8.7', '6.8', '8.2', '8', '8.3', '8.8', '8.7', '6.6', '8.3', '8.3', '7.3', '6.7', '8.4', '7.4', '8.1', '7.9', '6.8', '8.7', '8.4', '6.5', '8', '8.9', '7.8', '7.6', '8.8', '8.2', '8.5', '8.3', '7.2', '8.7', '8.2', '6.4', '6.3', '8.6', '7.8', '7.3', '7.7', '7.2', '8.5', '6.5', '8.1', '8.7', '9.4', '7.8', '7.4', '7.8', '8.1', '7.1', '8.6']\n"
     ]
    }
   ],
   "source": [
    "#scraping the Ratings \n",
    "rate=driver.find_elements_by_xpath(\"//div[@class='ipl-rating-star small']/span[2]\")\n",
    "for i in rate:\n",
    "    if i.text is None :\n",
    "        Ratings.append(\"--\") \n",
    "    else:\n",
    "        Ratings.append(i.text)\n",
    "print(len(Ratings),Ratings)"
   ]
  },
  {
   "cell_type": "code",
   "execution_count": 117,
   "metadata": {},
   "outputs": [
    {
     "name": "stderr",
     "output_type": "stream",
     "text": [
      "C:\\Users\\ASUS\\AppData\\Local\\Temp\\ipykernel_14780\\3949430297.py:2: DeprecationWarning: find_elements_by_xpath is deprecated. Please use find_elements(by=By.XPATH, value=xpath) instead\n",
      "  v=driver.find_elements_by_xpath(\"//div[@class='lister-item-content']/p[4]/span[2]\")\n"
     ]
    },
    {
     "name": "stdout",
     "output_type": "stream",
     "text": [
      "100 ['2,009,164', '1,089,496', '955,047', '285,510', '245,175', '297,651', '140,882', '298,466', '340,811', '427,576', '462,316', '789,082', '524,872', '901,401', '515,097', '164,501', '313,902', '309,156', '1,768,865', '312,401', '433,245', '522,202', '148,381', '144,522', '398,575', '221,718', '409,662', '425,261', '962,973', '668,466', '400,225', '377,768', '133,202', '122,786', '171,179', '152,684', '227,537', '484,301', '210,791', '415,605', '484,313', '61,988', '181,679', '497,157', '362,277', '75,060', '266,000', '233,440', '218,693', '214,940', '229,515', '715,787', '128,168', '330,862', '242,198', '541,207', '508,430', '452,600', '60,596', '109,497', '337,053', '73,004', '103,554', '220,056', '91,726', '90,850', '48,758', '146,775', '362,686', '300,019', '105,872', '226,061', '553,400', '102,978', '126,970', '432,653', '106,140', '224,861', '85,038', '21,580', '139,099', '152,326', '128,376', '36,345', '274,387', '119,323', '128,754', '72,984', '104,861', '191,973', '27,913', '181,610', '193,807', '712,816', '67,112', '49,091', '59,890', '192,218', '40,588', '231,191']\n"
     ]
    }
   ],
   "source": [
    "#scraping the Votes \n",
    "v=driver.find_elements_by_xpath(\"//div[@class='lister-item-content']/p[4]/span[2]\")\n",
    "for i in v:\n",
    "    if i.text is None :\n",
    "        Votes.append(\"--\") \n",
    "    else:\n",
    "        Votes.append(i.text)\n",
    "print(len(Votes),Votes)"
   ]
  },
  {
   "cell_type": "code",
   "execution_count": 118,
   "metadata": {},
   "outputs": [
    {
     "data": {
      "text/html": [
       "<div>\n",
       "<style scoped>\n",
       "    .dataframe tbody tr th:only-of-type {\n",
       "        vertical-align: middle;\n",
       "    }\n",
       "\n",
       "    .dataframe tbody tr th {\n",
       "        vertical-align: top;\n",
       "    }\n",
       "\n",
       "    .dataframe thead th {\n",
       "        text-align: right;\n",
       "    }\n",
       "</style>\n",
       "<table border=\"1\" class=\"dataframe\">\n",
       "  <thead>\n",
       "    <tr style=\"text-align: right;\">\n",
       "      <th></th>\n",
       "      <th>Name</th>\n",
       "      <th>Year_span</th>\n",
       "      <th>Run_time</th>\n",
       "      <th>Genres</th>\n",
       "      <th>Ratings</th>\n",
       "      <th>Votes</th>\n",
       "    </tr>\n",
       "  </thead>\n",
       "  <tbody>\n",
       "    <tr>\n",
       "      <th>0</th>\n",
       "      <td>Game of Thrones</td>\n",
       "      <td>(2011–2019)</td>\n",
       "      <td>57 min</td>\n",
       "      <td>Action, Adventure, Drama</td>\n",
       "      <td>9.2</td>\n",
       "      <td>2,009,164</td>\n",
       "    </tr>\n",
       "    <tr>\n",
       "      <th>1</th>\n",
       "      <td>Stranger Things</td>\n",
       "      <td>(2016– )</td>\n",
       "      <td>51 min</td>\n",
       "      <td>Drama, Fantasy, Horror</td>\n",
       "      <td>8.7</td>\n",
       "      <td>1,089,496</td>\n",
       "    </tr>\n",
       "    <tr>\n",
       "      <th>2</th>\n",
       "      <td>The Walking Dead</td>\n",
       "      <td>(2010–2022)</td>\n",
       "      <td>44 min</td>\n",
       "      <td>Drama, Horror, Thriller</td>\n",
       "      <td>8.2</td>\n",
       "      <td>955,047</td>\n",
       "    </tr>\n",
       "    <tr>\n",
       "      <th>3</th>\n",
       "      <td>13 Reasons Why</td>\n",
       "      <td>(2017–2020)</td>\n",
       "      <td>60 min</td>\n",
       "      <td>Drama, Mystery, Thriller</td>\n",
       "      <td>7.5</td>\n",
       "      <td>285,510</td>\n",
       "    </tr>\n",
       "    <tr>\n",
       "      <th>4</th>\n",
       "      <td>The 100</td>\n",
       "      <td>(2014–2020)</td>\n",
       "      <td>43 min</td>\n",
       "      <td>Drama, Mystery, Sci-Fi</td>\n",
       "      <td>7.6</td>\n",
       "      <td>245,175</td>\n",
       "    </tr>\n",
       "    <tr>\n",
       "      <th>...</th>\n",
       "      <td>...</td>\n",
       "      <td>...</td>\n",
       "      <td>...</td>\n",
       "      <td>...</td>\n",
       "      <td>...</td>\n",
       "      <td>...</td>\n",
       "    </tr>\n",
       "    <tr>\n",
       "      <th>95</th>\n",
       "      <td>Reign</td>\n",
       "      <td>(2013–2017)</td>\n",
       "      <td>42 min</td>\n",
       "      <td>Drama</td>\n",
       "      <td>7.4</td>\n",
       "      <td>49,091</td>\n",
       "    </tr>\n",
       "    <tr>\n",
       "      <th>96</th>\n",
       "      <td>A Series of Unfortunate Events</td>\n",
       "      <td>(2017–2019)</td>\n",
       "      <td>50 min</td>\n",
       "      <td>Adventure, Comedy, Drama</td>\n",
       "      <td>7.8</td>\n",
       "      <td>59,890</td>\n",
       "    </tr>\n",
       "    <tr>\n",
       "      <th>97</th>\n",
       "      <td>Criminal Minds</td>\n",
       "      <td>(2005–2020)</td>\n",
       "      <td>42 min</td>\n",
       "      <td>Crime, Drama, Mystery</td>\n",
       "      <td>8.1</td>\n",
       "      <td>192,218</td>\n",
       "    </tr>\n",
       "    <tr>\n",
       "      <th>98</th>\n",
       "      <td>Scream: The TV Series</td>\n",
       "      <td>(2015–2019)</td>\n",
       "      <td>45 min</td>\n",
       "      <td>Comedy, Crime, Drama</td>\n",
       "      <td>7.1</td>\n",
       "      <td>40,588</td>\n",
       "    </tr>\n",
       "    <tr>\n",
       "      <th>99</th>\n",
       "      <td>The Haunting of Hill House</td>\n",
       "      <td>(2018)</td>\n",
       "      <td>572 min</td>\n",
       "      <td>Drama, Horror, Mystery</td>\n",
       "      <td>8.6</td>\n",
       "      <td>231,191</td>\n",
       "    </tr>\n",
       "  </tbody>\n",
       "</table>\n",
       "<p>100 rows × 6 columns</p>\n",
       "</div>"
      ],
      "text/plain": [
       "                              Name    Year_span Run_time  \\\n",
       "0                  Game of Thrones  (2011–2019)   57 min   \n",
       "1                  Stranger Things     (2016– )   51 min   \n",
       "2                 The Walking Dead  (2010–2022)   44 min   \n",
       "3                   13 Reasons Why  (2017–2020)   60 min   \n",
       "4                          The 100  (2014–2020)   43 min   \n",
       "..                             ...          ...      ...   \n",
       "95                           Reign  (2013–2017)   42 min   \n",
       "96  A Series of Unfortunate Events  (2017–2019)   50 min   \n",
       "97                  Criminal Minds  (2005–2020)   42 min   \n",
       "98           Scream: The TV Series  (2015–2019)   45 min   \n",
       "99      The Haunting of Hill House       (2018)  572 min   \n",
       "\n",
       "                      Genres Ratings      Votes  \n",
       "0   Action, Adventure, Drama     9.2  2,009,164  \n",
       "1     Drama, Fantasy, Horror     8.7  1,089,496  \n",
       "2    Drama, Horror, Thriller     8.2    955,047  \n",
       "3   Drama, Mystery, Thriller     7.5    285,510  \n",
       "4     Drama, Mystery, Sci-Fi     7.6    245,175  \n",
       "..                       ...     ...        ...  \n",
       "95                     Drama     7.4     49,091  \n",
       "96  Adventure, Comedy, Drama     7.8     59,890  \n",
       "97     Crime, Drama, Mystery     8.1    192,218  \n",
       "98      Comedy, Crime, Drama     7.1     40,588  \n",
       "99    Drama, Horror, Mystery     8.6    231,191  \n",
       "\n",
       "[100 rows x 6 columns]"
      ]
     },
     "execution_count": 118,
     "metadata": {},
     "output_type": "execute_result"
    }
   ],
   "source": [
    "TV_Series=pd.DataFrame([])\n",
    "TV_Series['Name']=Name\n",
    "TV_Series['Year_span']=Year_span\n",
    "TV_Series['Run_time']=Run_time\n",
    "TV_Series['Genres']=Genres\n",
    "TV_Series['Ratings']=Ratings\n",
    "TV_Series['Votes']=Votes\n",
    "TV_Series"
   ]
  },
  {
   "cell_type": "code",
   "execution_count": null,
   "metadata": {},
   "outputs": [],
   "source": []
  },
  {
   "cell_type": "markdown",
   "metadata": {},
   "source": [
    "# 10. Details of Datasets from UCI machine learning repositories. "
   ]
  },
  {
   "cell_type": "code",
   "execution_count": null,
   "metadata": {},
   "outputs": [],
   "source": []
  },
  {
   "cell_type": "code",
   "execution_count": 119,
   "metadata": {},
   "outputs": [],
   "source": [
    "url_10=\"https://archive.ics.uci.edu/ml/index.php\""
   ]
  },
  {
   "cell_type": "code",
   "execution_count": 120,
   "metadata": {},
   "outputs": [],
   "source": [
    "driver.get(url_10)"
   ]
  },
  {
   "cell_type": "code",
   "execution_count": 121,
   "metadata": {},
   "outputs": [],
   "source": [
    "Dataset_Name=[]\n",
    "Data_Type=[]\n",
    "Task=[]\n",
    "Attribute_Type=[]\n",
    "No_of_Instances=[]\n",
    "No_of_Attribute=[]\n",
    "Year=[]"
   ]
  },
  {
   "cell_type": "code",
   "execution_count": 122,
   "metadata": {},
   "outputs": [
    {
     "name": "stderr",
     "output_type": "stream",
     "text": [
      "C:\\Users\\ASUS\\AppData\\Local\\Temp\\ipykernel_14780\\1392411141.py:1: DeprecationWarning: find_element_by_xpath is deprecated. Please use find_element(by=By.XPATH, value=xpath) instead\n",
      "  search_1 = driver.find_element_by_xpath('/html/body/table[1]/tbody/tr/td[2]/span[2]/a')       # Locating page foe top videos by xpath\n"
     ]
    }
   ],
   "source": [
    "search_1 = driver.find_element_by_xpath('/html/body/table[1]/tbody/tr/td[2]/span[2]/a')       # Locating page foe top videos by xpath\n",
    "search_1.click()"
   ]
  },
  {
   "cell_type": "code",
   "execution_count": 123,
   "metadata": {
    "scrolled": false
   },
   "outputs": [
    {
     "name": "stderr",
     "output_type": "stream",
     "text": [
      "C:\\Users\\ASUS\\AppData\\Local\\Temp\\ipykernel_14780\\3010491415.py:2: DeprecationWarning: find_elements_by_xpath is deprecated. Please use find_elements(by=By.XPATH, value=xpath) instead\n",
      "  dname=driver.find_elements_by_xpath(\"/html/body/table[2]/tbody/tr/td[2]/table[2]/tbody/tr/td[1]/table/tbody/tr/td[2]/p/b/a\")\n"
     ]
    },
    {
     "name": "stdout",
     "output_type": "stream",
     "text": [
      "622 ['Abalone', 'Adult', 'Annealing', 'Anonymous Microsoft Web Data', 'Arrhythmia', 'Artificial Characters', 'Audiology (Original)', 'Audiology (Standardized)', 'Auto MPG', 'Automobile', 'Badges', 'Balance Scale', 'Balloons', 'Breast Cancer', 'Breast Cancer Wisconsin (Original)', 'Breast Cancer Wisconsin (Prognostic)', 'Breast Cancer Wisconsin (Diagnostic)', 'Pittsburgh Bridges', 'Car Evaluation', 'Census Income', 'Chess (King-Rook vs. King-Knight)', 'Chess (King-Rook vs. King-Pawn)', 'Chess (King-Rook vs. King)', 'Chess (Domain Theories)', 'Bach Chorales', 'Connect-4', 'Credit Approval', 'Japanese Credit Screening', 'Computer Hardware', 'Contraceptive Method Choice', 'Covertype', 'Cylinder Bands', 'Dermatology', 'Diabetes', 'DGP2 - The Second Data Generation Program', 'Document Understanding', 'EBL Domain Theories', 'Echocardiogram', 'Ecoli', 'Flags', 'Function Finding', 'Glass Identification', \"Haberman's Survival\", 'Hayes-Roth', 'Heart Disease', 'Hepatitis', 'Horse Colic', 'ICU', 'Image Segmentation', 'Internet Advertisements', 'Ionosphere', 'Iris', 'ISOLET', 'Kinship', 'Labor Relations', 'LED Display Domain', 'Lenses', 'Letter Recognition', 'Liver Disorders', 'Logic Theorist', 'Lung Cancer', 'Lymphography', 'Mechanical Analysis', 'Meta-data', 'Mobile Robots', 'Molecular Biology (Promoter Gene Sequences)', 'Molecular Biology (Protein Secondary Structure)', 'Molecular Biology (Splice-junction Gene Sequences)', \"MONK's Problems\", 'Moral Reasoner', 'Multiple Features', 'Mushroom', 'Musk (Version 1)', 'Musk (Version 2)', 'Nursery', 'Othello Domain Theory', 'Page Blocks Classification', 'Optical Recognition of Handwritten Digits', 'Pen-Based Recognition of Handwritten Digits', 'Post-Operative Patient', 'Primary Tumor', 'Prodigy', 'Qualitative Structure Activity Relationships', 'Quadruped Mammals', 'Servo', 'Shuttle Landing Control', 'Solar Flare', 'Soybean (Large)', 'Soybean (Small)', 'Challenger USA Space Shuttle O-Ring', 'Low Resolution Spectrometer', 'Spambase', 'SPECT Heart', 'SPECTF Heart', 'Sponge', 'Statlog Project', 'Student Loan Relational', 'Teaching Assistant Evaluation', 'Tic-Tac-Toe Endgame', 'Thyroid Disease', 'Trains', 'University', 'Congressional Voting Records', 'Water Treatment Plant', 'Waveform Database Generator (Version 1)', 'Waveform Database Generator (Version 2)', 'Wine', 'Yeast', 'Zoo', 'Undocumented', 'Twenty Newsgroups', 'Australian Sign Language signs', 'Australian Sign Language signs (High Quality)', 'US Census Data (1990)', 'Census-Income (KDD)', 'Coil 1999 Competition Data', 'Corel Image Features', 'E. Coli Genes', 'EEG Database', 'El Nino', 'Entree Chicago Recommendation Data', 'CMU Face Images', 'Insurance Company Benchmark (COIL 2000)', 'Internet Usage Data', 'IPUMS Census Database', 'Japanese Vowels', 'KDD Cup 1998 Data', 'KDD Cup 1999 Data', 'M. Tuberculosis Genes', 'Movie', 'MSNBC.com Anonymous Web Data', 'NSF Research Award Abstracts 1990-2003', 'Pioneer-1 Mobile Robot Data', 'Pseudo Periodic Synthetic Time Series', 'Reuters-21578 Text Categorization Collection', 'Robot Execution Failures', 'Synthetic Control Chart Time Series', 'Syskill and Webert Web Page Ratings', 'UNIX User Data', 'Volcanoes on Venus - JARtool experiment', 'Statlog (Australian Credit Approval)', 'Statlog (German Credit Data)', 'Statlog (Heart)', 'Statlog (Landsat Satellite)', 'Statlog (Image Segmentation)', 'Statlog (Shuttle)', 'Statlog (Vehicle Silhouettes)', 'Connectionist Bench (Nettalk Corpus)', 'Connectionist Bench (Sonar, Mines vs. Rocks)', 'Connectionist Bench (Vowel Recognition - Deterding Data)', 'Economic Sanctions', 'Protein Data', 'Cloud', 'CalIt2 Building People Counts', 'Dodgers Loop Sensor', 'Poker Hand', 'MAGIC Gamma Telescope', 'UJI Pen Characters', 'Mammographic Mass', 'Forest Fires', 'Reuters Transcribed Subset', 'Bag of Words', 'Concrete Compressive Strength', 'Hill-Valley', 'Arcene', 'Dexter', 'Dorothea', 'Gisette', 'Madelon', 'Ozone Level Detection', 'Abscisic Acid Signaling Network', 'Parkinsons', 'Character Trajectories', 'Blood Transfusion Service Center', 'UJI Pen Characters (Version 2)', 'Semeion Handwritten Digit', 'SECOM', 'Plants', 'Libras Movement', 'Concrete Slump Test', 'Communities and Crime', 'Acute Inflammations', 'Wine Quality', 'URL Reputation', 'p53 Mutants', 'Parkinsons Telemonitoring', 'Demospongiae', 'Opinosis Opinion ⁄ Review', 'Breast Tissue', 'Cardiotocography', 'Wall-Following Robot Navigation Data', 'Spoken Arabic Digit', 'Localization Data for Person Activity', 'AutoUniv', 'Steel Plates Faults', 'MiniBooNE particle identification', 'YearPredictionMSD', 'PEMS-SF', 'OpinRank Review Dataset', 'Relative location of CT slices on axial axis', 'Online Handwritten Assamese Characters Dataset', 'PubChem Bioassay Data', 'Record Linkage Comparison Patterns', 'Communities and Crime Unnormalized', 'Vertebral Column', 'EMG Physical Action Data Set', 'Vicon Physical Action Data Set', 'Amazon Commerce reviews set', 'Amazon Access Samples', 'Reuter_50_50', 'Farm Ads', 'DBWorld e-mails', 'KEGG Metabolic Relation Network (Directed)', 'KEGG Metabolic Reaction Network (Undirected)', 'Bank Marketing', 'YouTube Comedy Slam Preference Data', 'Gas Sensor Array Drift Dataset', 'ILPD (Indian Liver Patient Dataset)', 'OPPORTUNITY Activity Recognition', 'Nomao', 'SMS Spam Collection', 'Skin Segmentation', 'Planning Relax', 'PAMAP2 Physical Activity Monitoring', 'Restaurant & consumer data', 'CNAE-9', 'Individual household electric power consumption', 'seeds', 'Northix', 'QtyT40I10D100K', 'Legal Case Reports', 'Human Activity Recognition Using Smartphones', 'One-hundred plant species leaves data set', 'Energy efficiency', 'Yacht Hydrodynamics', 'Fertility', 'Daphnet Freezing of Gait', '3D Road Network (North Jutland, Denmark)', 'ISTANBUL STOCK EXCHANGE', 'Buzz in social media', 'First-order theorem proving', 'Wearable Computing: Classification of Body Postures and Movements (PUC-Rio)', 'Gas sensor arrays in open sampling settings', 'Climate Model Simulation Crashes', 'MicroMass', 'QSAR biodegradation', 'BLOGGER', 'Daily and Sports Activities', 'User Knowledge Modeling', 'Reuters RCV1 RCV2 Multilingual, Multiview Text Categorization Test collection', 'NYSK', 'Turkiye Student Evaluation', \"ser Knowledge Modeling Data (Students' Knowledge Levels on DC Electrical Machines)\", 'EEG Eye State', 'Physicochemical Properties of Protein Tertiary Structure', 'seismic-bumps', 'banknote authentication', 'USPTO Algorithm Challenge, run by NASA-Harvard Tournament Lab and TopCoder Problem: Pat', 'YouTube Multiview Video Games Dataset', 'Gas Sensor Array Drift Dataset at Different Concentrations', 'Activities of Daily Living (ADLs) Recognition Using Binary Sensors', 'SkillCraft1 Master Table Dataset', 'Weight Lifting Exercises monitored with Inertial Measurement Units', 'SML2010', 'Bike Sharing Dataset', 'Predict keywords activities in a online social media', 'Thoracic Surgery Data', 'EMG dataset in Lower Limb', 'SUSY', 'HIGGS', 'Qualitative_Bankruptcy', 'LSVT Voice Rehabilitation', 'Dataset for ADL Recognition with Wrist-worn Accelerometer', 'Wilt', 'User Identification From Walking Activity', 'Activity Recognition from Single Chest-Mounted Accelerometer', 'Leaf', 'Dresses_Attribute_Sales', 'Tamilnadu Electricity Board Hourly Readings', 'Airfoil Self-Noise', 'Wholesale customers', 'Twitter Data set for Arabic Sentiment Analysis', 'Combined Cycle Power Plant', 'Urban Land Cover', 'Diabetes 130-US hospitals for years 1999-2008', 'Bach Choral Harmony', 'StoneFlakes', 'Tennis Major Tournament Match Statistics', 'Parkinson Speech Dataset with Multiple Types of Sound Recordings', 'Gesture Phase Segmentation', 'Perfume Data', 'BlogFeedback', 'REALDISP Activity Recognition Dataset', 'Newspaper and magazine images segmentation dataset', 'AAAI 2014 Accepted Papers', 'Gas sensor array under flow modulation', 'Gas sensor array exposed to turbulent gas mixtures', 'UJIIndoorLoc', 'Sentence Classification', 'Dow Jones Index', 'sEMG for Basic Hand movements', 'AAAI 2013 Accepted Papers', 'Geographical Original of Music', 'Condition Based Maintenance of Naval Propulsion Plants', 'Grammatical Facial Expressions', 'NoisyOffice', 'MHEALTH Dataset', 'Student Performance', 'ElectricityLoadDiagrams20112014', 'Gas sensor array under dynamic gas mixtures', 'microblogPCU', 'Firm-Teacher_Clave-Direction_Classification', 'Dataset for Sensorless Drive Diagnosis', 'TV News Channel Commercial Detection Dataset', 'Phishing Websites', 'Greenhouse Gas Observing Network', 'Diabetic Retinopathy Debrecen Data Set', 'HIV-1 protease cleavage', 'Sentiment Labelled Sentences', 'Online News Popularity', 'Forest type mapping', 'wiki4HE', 'Online Video Characteristics and Transcoding Time Dataset', 'Chronic_Kidney_Disease', 'Machine Learning based ZZAlpha Ltd. Stock Recommendations 2012-2014', 'Folio', 'Taxi Service Trajectory - Prediction Challenge, ECML PKDD 2015', 'Cuff-Less Blood Pressure Estimation', 'Smartphone-Based Recognition of Human Activities and Postural Transitions', 'Mice Protein Expression', 'UJIIndoorLoc-Mag', 'Heterogeneity Activity Recognition', 'Educational Process Mining (EPM): A Learning Analytics Data Set', 'HEPMASS', 'Indoor User Movement Prediction from RSS data', 'Open University Learning Analytics dataset', 'default of credit card clients', 'Mesothelioma’s disease data set', 'Online Retail', 'SIFT10M', 'GPS Trajectories', 'Detect Malacious Executable(AntiVirus)', 'Occupancy Detection', 'Improved Spiral Test Using Digitized Graphics Tablet for Monitoring Parkinson’s Disease', 'News Aggregator', 'Air Quality', 'Twin gas sensor arrays', 'Gas sensors for home activity monitoring', 'Facebook Comment Volume Dataset', 'Smartphone Dataset for Human Activity Recognition (HAR) in Ambient Assisted Living (AAL)', 'Polish companies bankruptcy data', 'Activity Recognition system based on Multisensor data fusion (AReM)', 'Dota2 Games Results', 'Facebook metrics', 'UbiqLog (smartphone lifelogging)', 'NIPS Conference Papers 1987-2015', 'HTRU2', 'Drug consumption (quantified)', 'Appliances energy prediction', 'Miskolc IIS Hybrid IPS', 'KDC-4007 dataset Collection', 'Geo-Magnetic field and WLAN dataset for indoor localisation from wristband and smartphone', 'DrivFace', 'Website Phishing', 'YouTube Spam Collection', 'Beijing PM2.5 Data', 'Cargo 2000 Freight Tracking and Tracing', 'Cervical cancer (Risk Factors)', 'Quality Assessment of Digital Colposcopies', 'KASANDR', 'FMA: A Dataset For Music Analysis', 'Air quality', 'Epileptic Seizure Recognition', 'Devanagari Handwritten Character Dataset', 'Stock portfolio performance', 'MoCap Hand Postures', 'Early biomarkers of Parkinson�s disease based on natural connected speech', 'Data for Software Engineering Teamwork Assessment in Education Setting', 'PM2.5 Data of Five Chinese Cities', 'Parkinson Disease Spiral Drawings Using Digitized Graphics Tablet', 'Sales_Transactions_Dataset_Weekly', 'Las Vegas Strip', 'Eco-hotel', 'MEU-Mobile KSD', 'Crowdsourced Mapping', 'gene expression cancer RNA-Seq', 'Hybrid Indoor Positioning Dataset from WiFi RSSI, Bluetooth and magnetometer', 'chestnut – LARVIC', 'Burst Header Packet (BHP) flooding attack on Optical Burst Switching (OBS) Network', 'Motion Capture Hand Postures', 'Anuran Calls (MFCCs)', 'TTC-3600: Benchmark dataset for Turkish text categorization', 'Gastrointestinal Lesions in Regular Colonoscopy', 'Daily Demand Forecasting Orders', 'Paper Reviews', 'extention of Z-Alizadeh sani dataset', 'Z-Alizadeh Sani', 'Dynamic Features of VirusShare Executables', 'IDA2016Challenge', 'DSRC Vehicle Communications', 'Mturk User-Perceived Clusters over Images', 'Character Font Images', 'DeliciousMIL: A Data Set for Multi-Label Multi-Instance Learning with Instance Labels', 'Autistic Spectrum Disorder Screening Data for Children', 'Autistic Spectrum Disorder Screening Data for Adolescent', 'APS Failure at Scania Trucks', 'Wireless Indoor Localization', 'HCC Survival', 'CSM (Conventional and Social Media Movies) Dataset 2014 and 2015', 'University of Tehran Question Dataset 2016 (UTQD.2016)', 'Autism Screening Adult', 'Activity recognition with healthy older people using a batteryless wearable sensor', 'Immunotherapy Dataset', 'Cryotherapy Dataset', 'OCT data & Color Fundus Images of Left & Right Eyes', 'Discrete Tone Image Dataset', 'News Popularity in Multiple Social Media Platforms', 'Ultrasonic flowmeter diagnostics', 'ICMLA 2014 Accepted Papers Data Set', 'BLE RSSI Dataset for Indoor localization and Navigation', 'Container Crane Controller Data Set', 'Residential Building Data Set', 'Health News in Twitter', 'chipseq', 'SGEMM GPU kernel performance', 'Repeat Consumption Matrices', 'detection_of_IoT_botnet_attacks_N_BaIoT', 'Absenteeism at work', 'SCADI', 'Condition monitoring of hydraulic systems', 'Carbon Nanotubes', 'Optical Interconnection Network', 'Sports articles for objectivity analysis', 'Breast Cancer Coimbra', 'GNFUV Unmanned Surface Vehicles Sensor Data', 'Dishonest Internet users Dataset', 'Victorian Era Authorship Attribution', 'Simulated Falls and Daily Living Activities Data Set', 'Multimodal Damage Identification for Humanitarian Computing', 'EEG Steady-State Visual Evoked Potential Signals', 'Roman Urdu Data Set', 'Avila', 'PANDOR', 'Drug Review Dataset (Druglib.com)', 'Drug Review Dataset (Drugs.com)', 'Physical Unclonable Functions', 'Superconductivty Data', 'WESAD (Wearable Stress and Affect Detection)', 'GNFUV Unmanned Surface Vehicles Sensor Data Set 2', 'Student Academics Performance', 'Online Shoppers Purchasing Intention Dataset', 'PMU-UD', \"Parkinson's Disease Classification\", 'Electrical Grid Stability Simulated Data', 'Caesarian Section Classification Dataset', 'BAUM-1', 'BAUM-2', 'Audit Data', 'BuddyMove Data Set', 'Real estate valuation data set', 'Early biomarkers of Parkinson’s disease based on natural connected speech Data Set', 'Somerville Happiness Survey', '2.4 GHZ Indoor Channel Measurements', 'EMG data for gestures', 'Parking Birmingham', 'Behavior of the urban traffic of the city of Sao Paulo in Brazil', 'Travel Reviews', 'Tarvel Review Ratings', 'Rice Leaf Diseases', 'Gas sensor array temperature modulation', 'Facebook Live Sellers in Thailand', 'Parkinson Dataset with replicated acoustic features', 'Metro Interstate Traffic Volume', 'Query Analytics Workloads Dataset', 'Wave Energy Converters', 'PPG-DaLiA', 'Alcohol QCM Sensor Dataset', 'Divorce Predictors data set', 'Incident management process enriched event log', 'Opinion Corpus for Lebanese Arabic Reviews (OCLAR)', 'MEx', 'Beijing Multi-Site Air-Quality Data', 'Online Retail II', 'Hepatitis C Virus (HCV) for Egyptian patients', 'QSAR fish toxicity', 'QSAR aquatic toxicity', 'Human Activity Recognition from Continuous Ambient Sensor Data', 'WISDM Smartphone and Smartwatch Activity and Biometrics Dataset', 'QSAR oral toxicity', 'QSAR androgen receptor', 'QSAR Bioconcentration classes dataset', 'QSAR fish bioconcentration factor (BCF)', 'A study of Asian Religious and Biblical Texts', 'Real-time Election Results: Portugal 2019', 'Bias correction of numerical prediction model temperature forecast', 'Bar Crawl: Detecting Heavy Drinking', 'Kitsune Network Attack Dataset', 'Shoulder Implant X-Ray Manufacturer Classification', 'Speaker Accent Recognition', 'Heart failure clinical records', 'Deepfakes: Medical Image Tamper Detection', 'selfBACK', 'South German Credit', 'Exasens', 'Swarm Behaviour', 'Crop mapping using fused optical-radar data set', 'BitcoinHeistRansomwareAddressDataset', 'Facebook Large Page-Page Network', 'Amphibians', 'Early stage diabetes risk prediction dataset.', 'Turkish Spam V01', 'Stock keeping units', 'Demand Forecasting for a store', 'Detect Malware Types', 'Wave Energy Converters', 'Youtube cookery channels viewers comments in Hinglish', 'Pedestrian in Traffic Dataset', 'Cervical Cancer Behavior Risk', 'Sattriya_Dance_Single_Hand_Gestures Dataset', 'Divorce Predictors data set', '3W dataset', 'Malware static and dynamic features VxHeaven and Virus Total', 'Internet Firewall Data', 'User Profiling and Abusive Language Detection Dataset', 'Estimation of obesity levels based on eating habits and physical condition', 'Rice (Cammeo and Osmancik)', 'Vehicle routing and scheduling problems', 'Algerian Forest Fires Dataset', 'Breath Metabolomics', 'Horton General Hospital', 'UrbanGB, urban road accidents coordinates labelled by the urban center', 'Gas Turbine CO and NOx Emission Data Set', 'Activity recognition using wearable physiological measurements', 'clickstream data for online shopping', 'CNNpred: CNN-based stock market prediction using a diverse set of variables', 'Apartment for rent classified', ': Simulated Data set of Iraqi tourism places', 'Nasarian CAD Dataset', 'Monolithic Columns in Troad and Mysia Region', 'Bar Crawl: Detecting Heavy Drinking', 'Seoul Bike Sharing Demand', 'Person Classification Gait Data', 'Shill Bidding Dataset', 'Iranian Churn Dataset', 'Unmanned Aerial Vehicle (UAV) Intrusion Detection', 'Bone marrow transplant: children', 'Exasens', 'COVID-19 Surveillance', 'Refractive errors', 'Shoulder Implant X-Ray Manufacturer Classification', 'CLINC150', 'HCV data', 'Taiwanese Bankruptcy Prediction', 'South German Credit (UPDATE)', 'IIWA14-R820-Gazebo-Dataset-10Trajectories', 'Guitar Chords finger positions', 'Russian Corpus of Biographical Texts', 'Codon usage', 'Intelligent Media Accelerometer and Gyroscope (IM-AccGyro) Dataset', 'Myocardial infarction complications', 'Hungarian Chickenpox Cases', 'Simulated data for survival modelling', 'Student Performance on an entrance examination', 'Chemical Composition of Ceramic Samples', 'Labeled Text Forum Threads Dataset', 'Stock keeping units', 'BLE RSSI dataset for Indoor localization', 'Basketball dataset', 'GitHub MUSAE', 'Anticancer peptides', 'Monolithic Columns in Troad and Mysia Region', 'Gender by Name', 'Iranian Churn Dataset', 'Unmanned Aerial Vehicle (UAV) Intrusion Detection', 'Shoulder Implant Manufacture Classification', 'LastFM Asia Social Network', 'Wheat kernels', 'Productivity Prediction of Garment Employees', 'Multi-view Brain Networks', 'LastFM Asia Social Network', 'Wisesight Sentiment Corpus', 'AI4I 2020 Predictive Maintenance Dataset', 'Dry Bean Dataset', 'in-vehicle coupon recommendation', 'Gait Classification', 'Wikipedia Math Essentials', 'Wikipedia Math Essentials', 'Synchronous Machine Data Set', 'Average Localization Error (ALE) in sensor node localization process in WSNs', '9mers from cullpdb', 'TamilSentiMix', 'Accelerometer', 'Synchronous Machine Data Set', 'Pedal Me Bicycle Deliveries', 'Turkish Headlines Dataset', 'Secondary Mushroom Dataset', 'Power consumption of Tetouan city', 'Raisin Dataset', 'Steel Industry Energy Consumption Dataset', 'Gender Gap in Spanish WP', 'Non verbal tourists data', 'Roman Urdu Sentiment Analysis Dataset (RUSAD)', 'TUANDROMD ( Tezpur University Android Malware Dataset)', 'Higher Education Students Performance Evaluation Dataset', 'Risk Factor prediction of Chronic Kidney Disease', 'Lab Test', 'Shoulder Implant Manufacture Classification', 'Rocket League Skillshots Data Set', 'Sepsis survival minimal clinical records', 'Water Quality Prediction', 'Traffic Flow Forecasting', 'sentiment analysis in Saudi Arabia about distance education during Covid-19', 'Kain Tradisional Sambas', 'Image Recognition Task Execution Times in Mobile Edge Computing', 'REWEMA', 'REJAFADA', 'Steel Industry Energy Consumption Dataset', 'Influenza outbreak event prediction via Twitter data', 'Turkish Music Emotion Dataset', 'Maternal Health Risk Data Set', 'Room Occupancy Estimation', 'Image Recognition Task Execution Times in Mobile Edge Computing']\n"
     ]
    }
   ],
   "source": [
    "#scraping the Dataset_Name \n",
    "dname=driver.find_elements_by_xpath(\"/html/body/table[2]/tbody/tr/td[2]/table[2]/tbody/tr/td[1]/table/tbody/tr/td[2]/p/b/a\")\n",
    "for i in dname:\n",
    "    if i.text is None :\n",
    "        Dataset_Name.append(\"--\") \n",
    "    else:\n",
    "        Dataset_Name.append(i.text)\n",
    "print(len(Dataset_Name),Dataset_Name)"
   ]
  },
  {
   "cell_type": "code",
   "execution_count": 124,
   "metadata": {},
   "outputs": [
    {
     "name": "stderr",
     "output_type": "stream",
     "text": [
      "C:\\Users\\ASUS\\AppData\\Local\\Temp\\ipykernel_14780\\271850548.py:2: DeprecationWarning: find_elements_by_xpath is deprecated. Please use find_elements(by=By.XPATH, value=xpath) instead\n",
      "  dtype=driver.find_elements_by_xpath(\"/html/body/table[2]/tbody/tr/td[2]/table[2]/tbody/tr/td[2]\")\n"
     ]
    },
    {
     "name": "stdout",
     "output_type": "stream",
     "text": [
      "623 ['Data Types', 'Multivariate ', 'Multivariate ', 'Multivariate ', ' ', 'Multivariate ', 'Multivariate ', 'Multivariate ', 'Multivariate ', 'Multivariate ', 'Multivariate ', 'Univariate, Text ', 'Multivariate ', 'Multivariate ', 'Multivariate ', 'Multivariate ', 'Multivariate ', 'Multivariate ', 'Multivariate ', 'Multivariate ', 'Multivariate ', 'Multivariate, Data-Generator ', 'Multivariate ', 'Multivariate ', 'Domain-Theory ', 'Univariate, Time-Series ', 'Multivariate, Spatial ', 'Multivariate ', 'Multivariate, Domain-Theory ', 'Multivariate ', 'Multivariate ', 'Multivariate ', 'Multivariate ', 'Multivariate ', 'Multivariate, Time-Series ', 'Data-Generator ', ' ', ' ', 'Multivariate ', 'Multivariate ', 'Multivariate ', ' ', 'Multivariate ', 'Multivariate ', 'Multivariate ', 'Multivariate ', 'Multivariate ', 'Multivariate ', 'Multivariate, Time-Series ', 'Multivariate ', 'Multivariate ', 'Multivariate ', 'Multivariate ', 'Multivariate ', 'Relational ', 'Multivariate ', 'Multivariate, Data-Generator ', 'Multivariate ', 'Multivariate ', 'Multivariate ', 'Domain-Theory ', 'Multivariate ', 'Multivariate ', 'Multivariate ', 'Multivariate ', 'Domain-Theory ', 'Sequential, Domain-Theory ', 'Sequential ', 'Sequential, Domain-Theory ', 'Multivariate ', 'Domain-Theory ', 'Multivariate ', 'Multivariate ', 'Multivariate ', 'Multivariate ', 'Multivariate ', 'Domain-Theory ', 'Multivariate ', 'Multivariate ', 'Multivariate ', 'Multivariate ', 'Multivariate ', 'Domain-Theory ', 'Domain-Theory ', 'Multivariate, Data-Generator ', 'Multivariate ', 'Multivariate ', 'Multivariate ', 'Multivariate ', 'Multivariate ', 'Multivariate ', 'Multivariate ', 'Multivariate ', 'Multivariate ', 'Multivariate ', 'Multivariate ', ' ', 'Domain-Theory ', 'Multivariate ', 'Multivariate ', 'Multivariate, Domain-Theory ', 'Multivariate ', 'Multivariate ', 'Multivariate ', 'Multivariate ', 'Multivariate, Data-Generator ', 'Multivariate, Data-Generator ', 'Multivariate ', 'Multivariate ', 'Multivariate ', ' ', 'Text ', 'Multivariate, Time-Series ', 'Multivariate, Time-Series ', 'Multivariate ', 'Multivariate ', 'Multivariate ', 'Multivariate ', 'Relational ', 'Multivariate, Time-Series ', 'Spatio-temporal ', 'Transactional, Sequential ', 'Image ', 'Multivariate ', 'Multivariate ', 'Multivariate ', 'Multivariate, Time-Series ', 'Multivariate ', 'Multivariate ', 'Relational ', 'Multivariate, Relational ', 'Sequential ', 'Text ', 'Multivariate, Time-Series ', 'Univariate, Time-Series ', 'Text ', 'Multivariate, Time-Series ', 'Time-Series ', 'Multivariate, Text ', 'Text, Sequential ', 'Image ', 'Multivariate ', 'Multivariate ', 'Multivariate ', 'Multivariate ', 'Multivariate ', 'Multivariate ', 'Multivariate ', 'Multivariate ', 'Multivariate ', ' ', 'Domain-Theory ', ' ', 'Multivariate ', 'Multivariate, Time-Series ', 'Multivariate, Time-Series ', 'Multivariate ', 'Multivariate ', 'Multivariate, Sequential ', 'Multivariate ', 'Multivariate ', 'Text ', 'Text ', 'Multivariate ', 'Sequential ', 'Multivariate ', 'Multivariate ', 'Multivariate ', 'Multivariate ', 'Multivariate ', 'Multivariate, Sequential, Time-Series ', 'Multivariate ', 'Multivariate ', 'Time-Series ', 'Multivariate ', 'Multivariate, Sequential ', 'Multivariate ', 'Multivariate ', 'Multivariate ', 'Multivariate, Sequential ', 'Multivariate ', 'Multivariate ', 'Multivariate ', 'Multivariate ', 'Multivariate, Time-Series ', 'Multivariate ', 'Multivariate ', 'Multivariate ', 'Text ', 'Multivariate ', 'Multivariate ', 'Multivariate, Sequential ', 'Multivariate, Time-Series ', 'Univariate, Sequential, Time-Series ', 'Multivariate ', 'Multivariate ', 'Multivariate ', 'Multivariate ', 'Multivariate, Time-Series ', 'Text ', 'Domain-Theory ', 'Multivariate, Sequential ', 'Multivariate ', 'Multivariate ', 'Multivariate ', 'Multivariate ', 'Time-Series ', 'Time-Series ', 'Multivariate, Text, Domain-Theory ', 'Time-Series, Domain-Theory ', 'Multivariate, Text, Domain-Theory ', 'Text ', 'Text ', 'Multivariate, Univariate, Text ', 'Multivariate, Univariate, Text ', 'Multivariate ', 'Text ', 'Multivariate ', 'Multivariate ', 'Multivariate, Time-Series ', 'Univariate ', 'Multivariate, Text, Domain-Theory ', 'Univariate ', 'Univariate ', 'Multivariate, Time-Series ', 'Multivariate ', 'Multivariate, Text ', 'Multivariate, Time-Series ', 'Multivariate ', 'Multivariate, Univariate, Text ', 'Sequential ', 'Text ', 'Multivariate, Time-Series ', ' ', 'Multivariate ', 'Multivariate ', 'Multivariate ', 'Multivariate, Time-Series ', 'Sequential, Text ', 'Multivariate, Univariate, Time-Series ', 'Time-Series, Multivariate ', 'Multivariate ', 'Sequential ', 'Multivariate, Time-Series ', 'Multivariate ', 'Multivariate ', 'Multivariate ', 'Multivariate ', 'Multivariate, Time-Series ', 'Multivariate ', 'Multivariate ', 'Multivariate, Sequential, Text ', 'Multivariate ', 'Multivariate ', 'Multivariate, Sequential, Time-Series ', 'Multivariate ', 'Multivariate ', 'Multivariate ', 'Domain-Theory ', 'Multivariate, Text ', 'Multivariate, Time-Series ', 'Multivariate, Sequential, Time-Series ', 'Multivariate ', 'Multivariate ', 'Multivariate, Sequential, Time-Series, Text ', 'Univariate ', 'Multivariate, Sequential, Time-Series ', 'Multivariate ', 'Multivariate, Time-Series ', ' ', ' ', 'Multivariate ', 'Multivariate ', 'Multivariate, Time-Series ', 'Multivariate ', 'Univariate, Sequential, Time-Series ', 'Univariate, Sequential, Time-Series ', 'Multivariate ', 'Text ', 'Multivariate ', 'Multivariate ', 'Multivariate ', 'Text ', 'Multivariate ', 'Multivariate ', 'Multivariate ', 'Sequential ', 'Multivariate ', 'Multivariate ', 'Multivariate ', 'Multivariate, Sequential, Time-Series ', 'Univariate, Domain-Theory ', 'Multivariate ', 'Multivariate, Time-Series ', ' ', 'Multivariate ', 'Multivariate, Time-Series ', 'Multivariate, Time-Series ', 'Multivariate ', 'Text ', 'Time-Series ', 'Time-Series ', 'Multivariate ', 'Multivariate ', 'Multivariate ', 'Multivariate, Sequential ', 'Multivariate ', 'Multivariate, Time-Series ', 'Multivariate ', 'Time-Series ', 'Multivariate, Time-Series ', 'Multivariate, Univariate, Sequential, Text ', 'Multivariate ', 'Multivariate ', 'Multivariate ', ' ', 'Multivariate, Time-Series ', 'Multivariate ', 'Multivariate ', 'Text ', 'Multivariate ', 'Multivariate ', 'Multivariate ', 'Multivariate ', 'Multivariate ', 'Sequential, Time-Series ', 'Multivariate ', 'Multivariate, Sequential, Time-Series, Domain-Theory ', 'Multivariate ', 'Multivariate, Time-Series ', 'Multivariate ', 'Multivariate, Sequential, Time-Series ', 'Multivariate, Time-Series ', 'Multivariate, Sequential, Time-Series ', 'Multivariate ', 'Multivariate, Sequential, Time-Series ', 'Multivariate, Sequential, Time-Series ', 'Multivariate ', 'Multivariate ', 'Multivariate, Sequential, Time-Series ', 'Multivariate ', 'Multivariate ', 'Multivariate ', 'Multivariate, Time-Series ', 'Multivariate ', 'Multivariate ', 'Multivariate, Time-Series ', 'Multivariate, Time-Series, Domain-Theory ', 'Multivariate, Time-Series ', 'Multivariate ', 'Time-Series ', 'Multivariate ', 'Multivariate, Sequential, Time-Series ', 'Multivariate ', 'Multivariate ', 'Multivariate ', 'Text ', 'Multivariate ', 'Multivariate ', 'Multivariate, Time-Series ', 'Text ', 'Multivariate, Text ', 'Multivariate, Sequential, Time-Series ', 'Multivariate ', 'Multivariate ', 'Text ', 'Multivariate, Time-Series ', 'Multivariate, Sequential ', 'Multivariate ', 'Multivariate ', 'Multivariate ', 'Multivariate, Time-Series ', 'Multivariate, Time-Series ', 'Multivariate, Time-Series ', ' ', 'Multivariate ', 'Multivariate ', 'Multivariate ', 'Sequential, Time-Series ', 'Multivariate, Time-Series ', 'Multivariate ', 'Multivariate, Time-Series ', ' ', 'Text ', 'Multivariate ', 'Multivariate ', 'Multivariate ', 'Multivariate, Sequential, Time-Series ', ' ', 'Text ', 'Multivariate ', 'Multivariate ', 'Text ', 'Multivariate ', 'Time-Series ', 'Text ', ' ', ' ', 'Multivariate, Time-Series ', 'Multivariate ', 'Sequential, Text ', 'Multivariate, Text ', 'Multivariate ', 'Text ', 'Multivariate ', 'Multivariate ', 'Multivariate ', 'Multivariate ', 'Multivariate ', 'Multivariate ', 'Text ', ' ', 'Sequential ', 'Univariate ', 'Univariate ', 'Multivariate ', 'Multivariate ', 'Multivariate, Time-Series, Text ', 'Multivariate ', 'Multivariate ', 'Multivariate, Sequential, Time-Series ', 'Univariate, Domain-Theory ', 'Multivariate ', 'Text ', 'Sequential ', 'Multivariate ', 'Multivariate ', 'Multivariate, Sequential ', 'Multivariate, Time-Series ', 'Multivariate ', 'Multivariate, Time-Series ', 'Univariate ', 'Multivariate ', 'Multivariate, Text ', 'Multivariate ', 'Multivariate, Time-Series ', 'Multivariate ', 'Text ', 'Time-Series ', 'Multivariate, Text ', 'Multivariate, Time-Series ', 'Text ', 'Multivariate ', 'Multivariate ', 'Multivariate, Text ', 'Multivariate, Text ', 'Multivariate ', 'Multivariate ', 'Multivariate, Time-Series ', 'Multivariate, Sequential, Time-Series ', 'Multivariate ', 'Multivariate ', 'Univariate ', 'Multivariate ', 'Multivariate ', 'Univariate ', 'Time-Series ', 'Time-Series ', 'Multivariate ', 'Multivariate, Text ', 'Multivariate ', 'Multivariate ', ' ', 'Multivariate ', 'Time-Series ', 'Multivariate, Univariate, Sequential, Time-Series ', 'Multivariate, Time-Series ', 'Multivariate, Text ', 'Multivariate, Text ', 'Multivariate ', 'Multivariate, Time-Series ', 'Multivariate ', 'Multivariate ', 'Multivariate, Sequential, Time-Series ', 'Multivariate ', 'Multivariate ', 'Multivariate, Time-Series ', 'Multivariate ', 'Multivariate, Univariate ', 'Multivariate, Sequential ', 'Text ', 'Time-Series ', 'Multivariate, Time-Series ', 'Multivariate, Sequential, Time-Series, Text ', 'Multivariate ', 'Multivariate ', 'Multivariate ', 'Multivariate, Sequential, Time-Series ', 'Multivariate, Time-Series ', 'Multivariate ', 'Multivariate ', 'Multivariate ', 'Multivariate ', 'Multivariate, Text ', 'Multivariate, Time-Series, Text ', 'Multivariate ', 'Multivariate, Time-Series ', 'Multivariate, Sequential, Time-Series ', 'Multivariate ', 'Multivariate ', 'Multivariate ', 'Multivariate ', 'Time-Series ', 'Multivariate ', 'Multivariate ', 'Multivariate ', 'Multivariate, Time-Series ', 'Multivariate, Time-Series ', 'Multivariate ', 'Multivariate ', 'Multivariate ', 'Text ', 'Multivariate ', 'Multivariate ', 'Multivariate, Time-Series, Text ', 'Multivariate ', 'Multivariate, Text ', 'Multivariate, Sequential, Time-Series ', 'Multivariate, Univariate ', 'Multivariate ', 'Multivariate, Univariate ', 'Multivariate, Time-Series ', 'Multivariate ', 'Multivariate ', ' ', 'Multivariate ', 'Multivariate ', 'Multivariate ', 'Multivariate ', 'Multivariate, Time-Series ', 'Multivariate, Time-Series ', 'Univariate ', 'Multivariate ', 'Multivariate ', 'Multivariate, Sequential ', 'Sequential, Time-Series ', 'Multivariate ', 'Multivariate ', 'Multivariate ', 'Multivariate ', 'Multivariate, Time-Series ', 'Multivariate ', 'Multivariate ', 'Multivariate ', 'Multivariate ', 'Multivariate ', 'Multivariate ', 'Multivariate ', 'Multivariate ', 'Multivariate ', 'Multivariate ', 'Text ', 'Multivariate ', 'Multivariate ', 'Multivariate ', ' ', 'Text ', 'Text ', 'Multivariate ', 'Time-Series ', 'Multivariate ', 'Time-Series ', 'Multivariate, Time-Series ', 'Multivariate ', 'Multivariate ', 'Text ', 'Multivariate ', 'Sequential, Time-Series ', 'Time-Series ', 'Multivariate ', 'Sequential ', 'Multivariate ', 'Text ', 'Multivariate ', 'Multivariate ', 'Multivariate ', 'Multivariate ', 'Multivariate ', 'Multivariate, Time-Series ', 'Multivariate ', 'Multivariate ', 'Multivariate, Text ', 'Multivariate, Time-Series ', 'Multivariate ', 'Multivariate ', 'Multivariate ', 'Time-Series ', 'Time-Series ', 'Multivariate ', 'Multivariate ', 'Sequential ', ' ', 'Multivariate ', 'Multivariate ', 'Time-Series ', 'Text ', 'Univariate ', 'Multivariate, Time-Series ', 'Multivariate ', 'Multivariate ', 'Multivariate ', 'Multivariate ', 'Text ', 'Multivariate ', 'Multivariate ', 'Multivariate ', 'Multivariate ', 'Multivariate ', 'Multivariate, Time-Series ', 'Multivariate ', 'Multivariate ', 'Multivariate ', 'Text ', 'Multivariate ', 'Univariate, Sequential, Time-Series ', 'Multivariate ', 'Multivariate ', 'Multivariate ', 'Multivariate ', 'Multivariate ', ' ', 'Multivariate, Time-Series ', 'Univariate ']\n"
     ]
    }
   ],
   "source": [
    "#scraping the Data_Type \n",
    "dtype=driver.find_elements_by_xpath(\"/html/body/table[2]/tbody/tr/td[2]/table[2]/tbody/tr/td[2]\")\n",
    "for i in dtype:\n",
    "    if i.text is None :\n",
    "        Data_Type.append(\"--\") \n",
    "    else:\n",
    "        Data_Type.append(i.text)\n",
    "print(len(Data_Type),Data_Type)"
   ]
  },
  {
   "cell_type": "code",
   "execution_count": null,
   "metadata": {},
   "outputs": [],
   "source": []
  },
  {
   "cell_type": "code",
   "execution_count": 125,
   "metadata": {},
   "outputs": [
    {
     "name": "stderr",
     "output_type": "stream",
     "text": [
      "C:\\Users\\ASUS\\AppData\\Local\\Temp\\ipykernel_14780\\3500473624.py:2: DeprecationWarning: find_elements_by_xpath is deprecated. Please use find_elements(by=By.XPATH, value=xpath) instead\n",
      "  t=driver.find_elements_by_xpath(\"/html/body/table[2]/tbody/tr/td[2]/table[2]/tbody/tr/td[3]\")\n"
     ]
    },
    {
     "name": "stdout",
     "output_type": "stream",
     "text": [
      "623 ['Default Task', 'Classification ', 'Classification ', 'Classification ', 'Recommender-Systems ', 'Classification ', 'Classification ', 'Classification ', 'Classification ', 'Regression ', 'Regression ', 'Classification ', 'Classification ', 'Classification ', 'Classification ', 'Classification ', 'Classification, Regression ', 'Classification ', 'Classification ', 'Classification ', 'Classification ', 'Classification ', 'Classification ', 'Classification ', ' ', ' ', 'Classification ', 'Classification ', 'Classification ', 'Regression ', 'Classification ', 'Classification ', 'Classification ', 'Classification ', ' ', ' ', ' ', ' ', 'Classification ', 'Classification ', 'Classification ', 'Function-Learning ', 'Classification ', 'Classification ', 'Classification ', 'Classification ', 'Classification ', 'Classification ', ' ', 'Classification ', 'Classification ', 'Classification ', 'Classification ', 'Classification ', 'Relational-Learning ', ' ', 'Classification ', 'Classification ', 'Classification ', ' ', ' ', 'Classification ', 'Classification ', 'Classification ', 'Classification ', ' ', 'Classification ', 'Classification ', 'Classification ', 'Classification ', ' ', 'Classification ', 'Classification ', 'Classification ', 'Classification ', 'Classification ', ' ', 'Classification ', 'Classification ', 'Classification ', 'Classification ', 'Classification ', ' ', ' ', 'Classification ', 'Regression ', 'Classification ', 'Regression ', 'Classification ', 'Classification ', 'Regression ', 'Classification ', 'Classification ', 'Classification ', 'Classification ', 'Clustering ', ' ', ' ', 'Classification ', 'Classification ', 'Classification ', 'Classification ', 'Classification ', 'Classification ', 'Clustering ', 'Classification ', 'Classification ', 'Classification ', 'Classification ', 'Classification ', ' ', ' ', 'Classification ', 'Classification ', 'Clustering ', 'Classification ', ' ', ' ', ' ', ' ', ' ', 'Recommender-Systems ', 'Classification ', 'Regression, Description ', ' ', ' ', 'Classification ', 'Regression ', 'Classification ', ' ', ' ', ' ', ' ', ' ', ' ', 'Classification ', 'Classification ', 'Classification, Clustering ', 'Classification ', ' ', 'Classification ', 'Classification ', 'Classification ', 'Classification ', 'Classification ', 'Classification ', 'Classification ', 'Classification ', ' ', 'Classification ', 'Classification ', ' ', ' ', ' ', ' ', ' ', 'Classification ', 'Classification ', 'Classification ', 'Classification ', 'Regression ', 'Classification ', 'Clustering ', 'Regression ', 'Classification ', 'Classification ', 'Classification ', 'Classification ', 'Classification ', 'Classification ', 'Classification ', 'Causal-Discovery ', 'Classification ', 'Classification, Clustering ', 'Classification ', 'Classification ', 'Classification ', 'Classification, Causal-Discovery ', 'Clustering ', 'Classification, Clustering ', 'Regression ', 'Regression ', 'Classification ', 'Classification, Regression ', 'Classification ', 'Classification ', 'Regression ', 'Classification ', ' ', 'Classification ', 'Classification ', 'Classification ', 'Classification ', 'Classification ', 'Classification ', 'Classification ', 'Classification ', 'Regression ', 'Classification ', ' ', 'Regression ', 'Classification ', 'Classification ', 'Classification ', 'Regression ', 'Classification ', 'Classification ', 'Classification ', 'Classification ', 'Regression, Clustering, Causal-Discovery ', 'Classification, Clustering ', 'Classification ', 'Classification ', 'Classification, Regression, Clustering ', 'Classification, Regression, Clustering ', 'Classification ', 'Classification ', 'Classification ', 'Classification ', 'Classification ', 'Classification ', 'Classification, Clustering ', 'Classification ', 'Classification ', 'Classification ', ' ', 'Classification ', 'Regression, Clustering ', 'Classification, Clustering ', 'Classification ', ' ', 'Classification ', 'Classification, Clustering ', 'Classification ', 'Classification, Regression ', 'Regression ', 'Classification, Regression ', 'Classification ', 'Regression, Clustering ', 'Classification, Regression ', 'Regression, Classification ', 'Classification ', 'Classification ', 'Classification ', 'Classification ', 'Classification ', 'Classification ', 'Classification ', 'Classification, Clustering ', 'Classification, Clustering ', 'Classification ', 'Clustering ', 'Classification, Clustering ', 'Classification ', 'Classification ', 'Regression ', 'Classification ', 'Classification ', 'Classification ', 'Classification, Clustering ', 'Classification, Regression, Clustering, Causa ', 'Classification, Clustering ', 'Regression ', 'Classification ', 'Regression ', 'Regression ', ' ', 'Classification ', ' ', 'Classification ', 'Classification ', 'Classification ', 'Classification ', 'Classification, Clustering ', 'Classification ', 'Classification, Clustering ', 'Classification, Clustering ', 'Classification ', 'Classification, Clustering ', 'Classification, Regression, Clustering ', 'Regression ', 'Classification, Clustering ', 'Classification ', 'Regression ', 'Classification ', 'Classification, Clustering ', 'Classification ', 'Classification, Clustering, Causal-Discovery ', 'Classification, Regression, Clustering ', 'Classification, Regression ', 'Classification, Clustering ', 'Classification, Clustering ', 'Regression ', 'Classification ', 'Classification ', 'Clustering ', 'Classification, Regression ', 'Classification, Regression ', 'Classification, Regression ', 'Classification ', 'Classification, Clustering ', 'Classification ', 'Clustering ', 'Classification, Regression ', 'Regression ', 'Classification, Clustering ', 'Classification, Regression ', 'Classification ', 'Classification, Regression ', 'Regression, Clustering ', 'Classification, Regression ', 'Classification, Causal-Discovery ', 'Classification ', 'Classification ', 'Classification, Clustering ', 'Classification ', 'Regression ', 'Classification ', 'Classification ', 'Classification ', 'Classification, Regression ', 'Classification ', 'Regression, Clustering, Causal-Discovery ', 'Regression ', 'Classification ', 'Classification ', 'Classification, Clustering ', 'Clustering, Causal-Discovery ', 'Classification, Regression ', 'Classification ', 'Classification, Clustering ', 'Classification, Regression, Clustering ', 'Classification, Clustering ', 'Classification, Regression, Clustering ', 'Classification ', 'Classification ', 'Classification, Regression, Clustering ', 'Classification ', 'Classification ', 'Classification, Clustering ', 'Causal-Discovery ', 'Classification, Regression ', 'Classification ', 'Classification ', 'Classification, Regression, Clustering ', 'Classification, Clustering ', 'Regression ', 'Classification, Regression ', 'Classification ', 'Regression ', 'Classification ', 'Classification ', 'Classification ', 'Classification ', 'Regression ', 'Causal-Discovery ', 'Clustering ', 'Classification, Clustering ', 'Classification ', 'Regression ', 'Classification, Clustering, Causal-Discovery ', 'Classification, Regression ', 'Classification, Regression, Clustering ', 'Classification, Regression, Clustering ', 'Classification ', 'Classification ', 'Regression ', 'Classification, Regression ', 'Classification ', 'Classification ', 'Causal-Discovery ', 'Classification, Clustering ', 'Regression ', 'Classification, Clustering ', 'Classification ', 'Regression ', 'Classification, Clustering ', 'Classification, Regression ', 'Classification ', 'Regression ', 'Classification, Regression, Clustering ', 'Clustering ', 'Classification, Regression ', ' ', 'Classification ', 'Classification ', 'Classification, Clustering ', 'Classification ', 'Classification, Clustering ', 'Classification ', 'Classification, Clustering ', 'Classification, Clustering ', 'Classification, Clustering ', 'Classification ', 'Regression ', 'Classification, Regression ', 'Classification ', 'Classification ', 'Classification, Regression ', 'Classification ', 'Clustering ', 'Clustering ', 'Classification ', 'Classification ', 'Classification ', 'Classification ', 'Classification ', 'Classification ', 'Classification ', 'Classification, Regression ', 'Classification ', 'Classification ', 'Classification ', 'Classification ', 'Classification ', 'Classification ', 'Classification ', 'Regression ', 'Classification ', 'Classification, Clustering ', 'Classification, Clustering ', 'Classification, Regression ', 'Regression ', 'Clustering ', 'Classification ', 'Regression ', 'Clustering ', 'Classification, Clustering ', 'Classification, Clustering ', 'Classification, Clustering ', 'Classification, Regression ', 'Regression ', 'Classification, Regression ', 'Classification ', 'Classification ', 'Regression ', 'Classification, Clustering ', 'Classification ', 'Classification ', 'Classification ', 'Classification, Regression ', 'Classification ', 'Classification ', 'Recommendation ', 'Classification, Regression, Clustering ', 'Classification, Regression, Clustering ', 'Classification ', 'Regression ', 'Classification, Regression ', 'Regression ', 'Classification ', 'Classification, Clustering ', 'Classification ', 'Classification ', 'Classification, Regression ', 'Classification ', 'Classification ', 'Classification ', 'Classification ', 'Classification, Clustering ', 'Regression ', 'Classification ', 'Classification ', 'Classification ', 'Classification ', 'Classification, Regression, Clustering ', 'Classification, Regression ', 'Classification, Clustering ', 'Classification, Clustering ', 'Classification ', 'Classification, Regression ', 'Clustering ', 'Classification ', 'Regression ', 'Regression, Clustering ', 'Regression ', 'Regression ', 'Classification, Regression, Clustering ', 'Classification ', 'Regression, Clustering ', 'Classification ', 'Classification, Clustering ', 'Regression ', 'Classification, Regression, Clustering ', 'Classification ', 'Regression ', 'Regression ', 'Classification ', 'Classification ', 'Classification ', 'Classification ', 'Classification, Regression ', 'Regression ', 'Classification, Clustering ', 'Regression ', 'Regression ', 'Classification, Regression ', 'Classification, Clustering, Causal-Discovery ', 'Classification ', 'Classification ', 'Classification, Regression, Clustering ', 'Classification ', 'Classification, Clustering ', 'Classification, Regression, Clustering ', 'Classification, Clustering ', 'Classification ', 'Classification ', 'Classification, Clustering ', 'Classification ', 'Classification ', 'Classification ', 'Classification ', 'Clustering ', 'Regression ', 'Classification ', 'Regression ', 'Classification ', 'Classification, Regression, Causal-Discovery ', 'Classification, Clustering ', 'Classification ', 'Classification ', 'Classification, Clustering ', 'Classification ', 'Classification ', 'Classification ', 'Classification, Regression, Clustering ', 'Classification ', 'Clustering ', 'Classification, Regression ', 'Classification, Clustering ', 'Causal-Discovery ', 'Clustering ', 'Regression, Clustering ', 'Classification ', 'Classification, Regression, Clustering ', 'Classification, Regression ', 'Classification, Regression, Clustering ', 'Classification, Clustering ', 'Classification ', 'Classification ', 'Classification, Regression ', 'Regression ', 'Classification ', 'Classification, Clustering ', 'Classification, Regression ', 'Classification ', 'Classification, Regression ', 'Classification, Clustering ', 'Classification ', 'Classification ', 'Classification ', 'Classification ', 'Classification, Clustering ', 'Classification ', 'Classification, Regression, Clustering ', 'Regression ', 'Classification ', 'Classification ', 'Classification, Clustering ', 'Classification ', 'Classification ', 'Regression ', 'Regression ', 'Classification ', 'Classification, Clustering ', 'Classification ', 'Clustering ', 'Classification ', 'Classification ', 'Classification ', 'Classification ', 'Classification ', 'Classification, Clustering ', 'Classification, Regression ', 'Classification ', 'Classification ', 'Classification ', 'Classification ', 'Classification, Regression ', 'Classification, Clustering ', 'Classification ', 'Classification ', 'Classification, Regression, Causal-Discovery ', 'Classification ', 'Classification ', 'Classification ', 'Regression ', 'Regression ', 'Regression ', 'Regression ', 'Classification, Regression ', 'Classification ', 'Classification, Regression ', 'Regression ', 'Regression ', 'Classification, Clustering ', 'Classification ', 'Regression ', 'Classification ', 'Regression ', 'Classification ', 'Classification, Clustering ', 'Classification ', 'Classification ', 'Classification ', 'Classification, Regression ', 'Classification, Regression, Clustering ', 'Classification ', 'Classification ', 'Classification ', 'Regression ', 'Regression ', 'Classification ', 'Classification, Clustering ', 'Regression ', 'Classification ', 'Classification ', 'Regression ', 'Classification ', 'Classification ', 'Classification ', 'Classification ', 'Regression ']\n"
     ]
    }
   ],
   "source": [
    "#scraping the Task \n",
    "t=driver.find_elements_by_xpath(\"/html/body/table[2]/tbody/tr/td[2]/table[2]/tbody/tr/td[3]\")\n",
    "for i in t:\n",
    "    if i.text is None :\n",
    "        Task.append(\"--\") \n",
    "    else:\n",
    "        Task.append(i.text)\n",
    "print(len(Task),Task)"
   ]
  },
  {
   "cell_type": "code",
   "execution_count": 126,
   "metadata": {},
   "outputs": [
    {
     "name": "stderr",
     "output_type": "stream",
     "text": [
      "C:\\Users\\ASUS\\AppData\\Local\\Temp\\ipykernel_14780\\2660405716.py:2: DeprecationWarning: find_elements_by_xpath is deprecated. Please use find_elements(by=By.XPATH, value=xpath) instead\n",
      "  att=driver.find_elements_by_xpath(\"/html/body/table[2]/tbody/tr/td[2]/table[2]/tbody/tr/td[4]\")\n"
     ]
    },
    {
     "name": "stdout",
     "output_type": "stream",
     "text": [
      "623 ['Attribute Types', 'Categorical, Integer, Real ', 'Categorical, Integer ', 'Categorical, Integer, Real ', 'Categorical ', 'Categorical, Integer, Real ', 'Categorical, Integer, Real ', 'Categorical ', 'Categorical ', 'Categorical, Real ', 'Categorical, Integer, Real ', ' ', 'Categorical ', 'Categorical ', 'Categorical ', 'Integer ', 'Real ', 'Real ', 'Categorical, Integer ', 'Categorical ', 'Categorical, Integer ', 'Categorical, Integer ', 'Categorical ', 'Categorical, Integer ', ' ', 'Categorical, Integer ', 'Categorical ', 'Categorical, Integer, Real ', 'Categorical, Real, Integer ', 'Integer ', 'Categorical, Integer ', 'Categorical, Integer ', 'Categorical, Integer, Real ', 'Categorical, Integer ', 'Categorical, Integer ', 'Real ', ' ', ' ', 'Categorical, Integer, Real ', 'Real ', 'Categorical, Integer ', 'Real ', 'Real ', 'Integer ', 'Categorical ', 'Categorical, Integer, Real ', 'Categorical, Integer, Real ', 'Categorical, Integer, Real ', 'Real ', 'Real ', 'Categorical, Integer, Real ', 'Integer, Real ', 'Real ', 'Real ', 'Categorical ', 'Categorical, Integer, Real ', 'Categorical ', 'Categorical ', 'Integer ', 'Categorical, Integer, Real ', ' ', 'Integer ', 'Categorical ', 'Categorical, Integer, Real ', 'Categorical, Integer, Real ', 'Categorical, Integer, Real ', 'Categorical ', 'Categorical ', 'Categorical ', 'Categorical ', ' ', 'Integer, Real ', 'Categorical ', 'Integer ', 'Integer ', 'Categorical ', ' ', 'Integer, Real ', 'Integer ', 'Integer ', 'Categorical, Integer ', 'Categorical ', ' ', ' ', 'Real ', 'Categorical, Integer ', 'Categorical ', 'Categorical ', 'Categorical ', 'Categorical ', 'Integer ', 'Integer, Real ', 'Integer, Real ', 'Categorical ', 'Integer ', 'Categorical, Integer ', ' ', ' ', 'Categorical, Integer ', 'Categorical ', 'Categorical, Real ', 'Categorical ', 'Categorical, Integer ', 'Categorical ', 'Integer, Real ', 'Real ', 'Real ', 'Integer, Real ', 'Real ', 'Categorical, Integer ', ' ', ' ', 'Categorical, Real ', 'Real ', 'Categorical ', 'Categorical, Integer ', 'Categorical, Real ', 'Real ', ' ', 'Categorical, Integer, Real ', 'Integer, Real ', 'Categorical ', 'Integer ', 'Categorical, Integer ', 'Categorical, Integer ', 'Categorical, Integer ', 'Real ', 'Categorical, Integer ', 'Categorical, Integer ', ' ', ' ', 'Categorical ', ' ', 'Categorical, Real ', ' ', 'Categorical ', 'Integer ', 'Real ', 'Categorical ', ' ', ' ', 'Categorical, Integer, Real ', 'Categorical, Integer ', 'Categorical, Real ', 'Integer ', 'Real ', 'Integer ', 'Integer ', 'Categorical ', 'Real ', 'Real ', ' ', ' ', 'Real ', 'Categorical, Integer ', 'Categorical, Integer ', 'Categorical, Integer ', 'Real ', 'Integer ', 'Integer ', 'Real ', ' ', 'Integer ', 'Real ', 'Real ', 'Real ', 'Integer ', 'Integer ', 'Integer ', 'Real ', 'Real ', 'Integer ', 'Real ', 'Real ', 'Real ', 'Integer ', 'Integer ', 'Real ', 'Categorical ', 'Real ', 'Real ', 'Real ', 'Categorical, Integer ', 'Real ', 'Integer, Real ', 'Real ', 'Integer, Real ', 'Integer ', ' ', 'Real ', 'Real ', 'Real ', 'Real ', 'Real ', 'Categorical, Integer, Real ', 'Integer, Real ', 'Real ', 'Real ', 'Real ', ' ', 'Real ', 'Integer ', 'Integer, Real ', 'Real ', 'Real ', 'Real ', 'Real ', 'Real ', 'Real ', ' ', 'Real ', ' ', ' ', 'Integer, Real ', 'Integer, Real ', 'Real ', ' ', 'Real ', 'Integer, Real ', 'Real ', 'Real ', 'Real ', 'Real ', 'Real ', 'Real ', ' ', 'Integer ', 'Real ', 'Real ', 'Integer, Real ', 'Integer ', ' ', ' ', 'Real ', 'Integer, Real ', 'Real ', 'Real ', 'Real ', 'Real ', 'Real ', 'Integer, Real ', 'Real ', 'Integer, Real ', 'Real ', 'Real ', 'Real ', 'Integer, Real ', ' ', 'Real ', 'Integer ', 'Real ', ' ', ' ', 'Real ', 'Integer, Real ', 'Real ', 'Real ', 'Real ', 'Integer ', 'Integer, Real ', 'Real ', ' ', 'Integer, Real ', 'Real ', 'Real ', 'Integer, Real ', 'Integer, Real ', 'Integer, Real ', 'Real ', 'Real ', 'Real ', ' ', 'Real ', ' ', ' ', 'Real ', 'Real ', 'Real ', ' ', 'Real ', 'Real ', 'Integer ', ' ', 'Real ', ' ', 'Integer ', ' ', 'Real ', 'Integer, Real ', 'Integer, Real ', 'Real ', 'Integer ', 'Integer, Real ', 'Real ', ' ', ' ', 'Real ', 'Real ', 'Integer, Real ', 'Integer ', 'Integer, Real ', 'Real ', ' ', 'Real ', 'Real ', 'Real ', 'Real ', 'Real ', 'Integer ', 'Real ', 'Real ', 'Integer, Real ', ' ', 'Real ', 'Real ', 'Integer ', 'Real ', 'Integer, Real ', 'Categorical ', ' ', 'Integer, Real ', ' ', ' ', 'Integer, Real ', 'Real ', 'Real ', ' ', 'Real ', 'Real ', 'Real ', 'Real ', 'Integer, Real ', 'Real ', 'Integer ', 'Real ', 'Real ', 'Integer ', 'Integer, Real ', 'Real ', 'Integer, Real ', 'Integer ', 'Real ', 'Real ', 'Real ', 'Real ', ' ', 'Real ', 'Real ', 'Real ', 'Integer, Real ', 'Real ', 'Real ', 'Real ', ' ', 'Integer ', ' ', 'Integer ', 'Real ', 'Real ', 'Real ', 'Integer ', 'Integer ', 'Integer, Real ', 'Real ', 'Integer ', ' ', 'Integer, Real ', 'Integer ', 'Integer, Real ', 'Real ', 'Integer ', 'Real ', 'Real ', 'Integer, Real ', 'Integer ', 'Real ', 'Integer, Real ', 'Integer, Real ', 'Integer, Real ', 'Integer, Real ', 'Integer ', 'Integer, Real ', 'Integer ', ' ', 'Integer, Real ', ' ', 'Real ', 'Real ', ' ', 'Integer ', 'Real ', 'Real ', 'Integer ', 'Real ', 'Integer ', 'Integer ', 'Integer, Real ', 'Integer, Real ', 'Integer ', 'Integer ', 'Real ', 'Integer ', 'Integer, Real ', 'Integer ', 'Integer ', 'Integer ', 'Integer, Real ', 'Real ', 'Integer, Real ', 'Integer ', ' ', 'Integer ', 'Real ', 'Integer, Real ', 'Integer, Real ', 'Real ', ' ', 'Integer, Real ', 'Real ', ' ', 'Integer ', 'Real ', 'Real ', 'Real ', 'Integer ', 'Integer ', 'Real ', 'Real ', 'Integer, Real ', ' ', 'Real ', 'Real ', 'Integer, Real ', 'Integer ', 'Integer ', 'Real ', ' ', ' ', 'Integer ', 'Integer ', 'Integer ', ' ', 'Real ', 'Categorical ', 'Integer ', 'Integer ', 'Integer ', 'Real ', 'Real ', 'Real ', ' ', 'Integer, Real ', ' ', 'Integer, Real ', 'Real ', 'Integer ', ' ', ' ', 'Real ', 'Real ', 'Integer, Real ', 'Real ', 'Integer ', 'Real ', 'Real ', 'Real ', 'Integer, Real ', 'Real ', 'Real ', 'Integer ', 'Real ', 'Integer ', ' ', 'Integer, Real ', 'Real ', 'Real ', 'Real ', 'Real ', 'Integer ', 'Integer ', 'Integer ', 'Real ', 'Integer, Real ', 'Integer, Real ', 'Integer, Real ', 'Real ', 'Real ', 'Integer, Real ', 'Real ', ' ', ' ', ' ', 'Integer, Real ', 'Integer ', 'Integer, Real ', 'Real ', 'Real ', 'Real ', 'Real ', 'Real ', 'Integer, Real ', 'Real ', 'Real ', 'Integer, Real ', 'Integer ', 'Real ', 'Real ', 'Integer, Real ', ' ', 'Integer, Real ', ' ', ' ', 'Integer, Real ', 'Integer ', ' ', 'Real ', ' ', 'Real ', 'Integer ', ' ', 'Integer ', 'Integer, Real ', 'Integer, Real ', ' ', ' ', 'Integer ', 'Real ', 'Integer, Real ', 'Real ', 'Real ', 'Integer ', 'Real ', 'Real ', 'Real ', 'Integer, Real ', 'Real ', ' ', ' ', ' ', 'Real ', 'Real ', 'Integer, Real ', 'Real ', ' ', 'Integer ', 'Real ', 'Integer, Real ', 'Integer ', ' ', 'Integer ', 'Real ', ' ', 'Integer, Real ', 'Integer ', 'Integer, Real ', 'Integer ', ' ', ' ', ' ', 'Real ', 'Real ', 'Real ', 'Integer, Real ', ' ', 'Real ', 'Integer ', 'Integer, Real ', 'Integer ', 'Integer ', ' ', ' ', 'Real ', ' ', 'Integer ', 'Real ', ' ', ' ', 'Real ', 'Integer, Real ', 'Integer ', ' ', ' ', 'Real ', 'Integer, Real ', ' ', 'Real ', 'Real ', 'Real ', 'Real ', 'Real ', 'Real ', ' ', 'Integer, Real ', 'Real ', 'Real ', ' ', 'Real ', 'Integer, Real ', 'Integer, Real ', ' ', 'Integer, Real ', 'Integer, Real ', ' ', 'Integer ', 'Integer ', 'Real ', ' ', ' ', 'Real ', 'Integer ', 'Real ', 'Real ', 'Integer ', ' ', 'Real ', 'Integer ', 'Integer ', 'Integer ', 'Integer, Real ', 'Integer, Real ', ' ', 'Real ', 'Real ']\n"
     ]
    }
   ],
   "source": [
    "#scraping the Attribute_Type \n",
    "att=driver.find_elements_by_xpath(\"/html/body/table[2]/tbody/tr/td[2]/table[2]/tbody/tr/td[4]\")\n",
    "for i in att:\n",
    "    if i.text is None :\n",
    "        Attribute_Type.append(\"--\") \n",
    "    else:\n",
    "        Attribute_Type.append(i.text)\n",
    "print(len(Attribute_Type),Attribute_Type)"
   ]
  },
  {
   "cell_type": "code",
   "execution_count": 127,
   "metadata": {},
   "outputs": [
    {
     "name": "stderr",
     "output_type": "stream",
     "text": [
      "C:\\Users\\ASUS\\AppData\\Local\\Temp\\ipykernel_14780\\2511177193.py:2: DeprecationWarning: find_elements_by_xpath is deprecated. Please use find_elements(by=By.XPATH, value=xpath) instead\n",
      "  noi=driver.find_elements_by_xpath(\"/html/body/table[2]/tbody/tr/td[2]/table[2]/tbody/tr/td[5]\")\n"
     ]
    },
    {
     "name": "stdout",
     "output_type": "stream",
     "text": [
      "623 ['# Instances', '4177 ', '48842 ', '798 ', '37711 ', '452 ', '6000 ', '226 ', '226 ', '398 ', '205 ', '294 ', '625 ', '16 ', '286 ', '699 ', '198 ', '569 ', '108 ', '1728 ', '48842 ', ' ', '3196 ', '28056 ', ' ', '100 ', '67557 ', '690 ', '125 ', '209 ', '1473 ', '581012 ', '512 ', '366 ', ' ', ' ', ' ', ' ', '132 ', '336 ', '194 ', '352 ', '214 ', '306 ', '160 ', '303 ', '155 ', '368 ', ' ', '2310 ', '3279 ', '351 ', '150 ', '7797 ', '104 ', '57 ', ' ', '24 ', '20000 ', '345 ', ' ', '32 ', '148 ', '209 ', '528 ', ' ', '106 ', '128 ', '3190 ', '432 ', '202 ', '2000 ', '8124 ', '476 ', '6598 ', '12960 ', ' ', '5473 ', '5620 ', '10992 ', '90 ', '339 ', ' ', ' ', ' ', '167 ', '15 ', '1389 ', '307 ', '47 ', '23 ', '531 ', '4601 ', '267 ', '267 ', '76 ', ' ', '1000 ', '151 ', '958 ', '7200 ', '10 ', '285 ', '435 ', '527 ', '5000 ', '5000 ', '178 ', '1484 ', '101 ', ' ', '20000 ', '6650 ', '2565 ', '2458285 ', '299285 ', '340 ', '68040 ', ' ', '122 ', '178080 ', '50672 ', '640 ', '9000 ', '10104 ', '256932 ', '640 ', '191779 ', '4000000 ', ' ', '10000 ', '989818 ', '129000 ', ' ', '100000 ', '21578 ', '463 ', '600 ', '332 ', ' ', ' ', '690 ', '1000 ', '270 ', '6435 ', '2310 ', '58000 ', '946 ', '20008 ', '208 ', '528 ', ' ', ' ', '1024 ', '10080 ', '50400 ', '1025010 ', '19020 ', '1364 ', '961 ', '517 ', '200 ', '8000000 ', '1030 ', '606 ', '900 ', '2600 ', '1950 ', '13500 ', '4400 ', '2536 ', '300 ', '197 ', '2858 ', '748 ', '11640 ', '1593 ', '1567 ', '22632 ', '360 ', '103 ', '1994 ', '120 ', '4898 ', '2396130 ', '16772 ', '5875 ', '503 ', '51 ', '106 ', '2126 ', '5456 ', '8800 ', '164860 ', ' ', '1941 ', '130065 ', '515345 ', '440 ', ' ', '53500 ', '8235 ', ' ', '5749132 ', '2215 ', '310 ', '10000 ', '3000 ', '1500 ', '30000 ', '2500 ', '4143 ', '64 ', '53414 ', '65554 ', '45211 ', '1138562 ', '13910 ', '583 ', '2551 ', '34465 ', '5574 ', '245057 ', '182 ', '3850505 ', '138 ', '1080 ', '2075259 ', '210 ', '115 ', '3960456 ', ' ', '10299 ', '1600 ', '768 ', '308 ', '100 ', '237 ', '434874 ', '536 ', '140000 ', '6118 ', '165632 ', '18000 ', '540 ', '931 ', '1055 ', '100 ', '9120 ', '403 ', '111740 ', '10421 ', '5820 ', '403 ', '14980 ', '45730 ', '2584 ', '1372 ', '306 ', '120000 ', '13910 ', '2747 ', '3395 ', '39242 ', '4137 ', '17389 ', '51 ', '470 ', '132 ', '5000000 ', '11000000 ', '250 ', '126 ', ' ', '4889 ', ' ', ' ', '340 ', '501 ', '45781 ', '1503 ', '440 ', '2000 ', '9568 ', '168 ', '100000 ', '5665 ', '79 ', '127 ', '1040 ', '9900 ', '560 ', '60021 ', '1419 ', '101 ', '399 ', '58 ', '180 ', '21048 ', ' ', '750 ', '3000 ', '150 ', '1059 ', '11934 ', '27965 ', '216 ', '120 ', '649 ', '370 ', '4178504 ', '221579 ', '10800 ', '58509 ', '129685 ', '2456 ', '2921 ', '1151 ', '6590 ', '3000 ', '39797 ', '326 ', '913 ', '168286 ', '400 ', '314080 ', '637 ', '1710671 ', '12000 ', '10929 ', '1080 ', '40000 ', '43930257 ', '230318 ', '10500000 ', '13197 ', ' ', '30000 ', '324 ', '541909 ', '11164866 ', '163 ', '373 ', '20560 ', '40 ', '422937 ', '9358 ', '640 ', '919438 ', '40949 ', '5744 ', '10503 ', '42240 ', '102944 ', '500 ', '9782222 ', '11463 ', '17898 ', '1885 ', '19735 ', '1540 ', '4007 ', '153540 ', '606 ', '1353 ', '1956 ', '43824 ', '3942 ', '858 ', '287 ', '17764280 ', '106574 ', '9358 ', '11500 ', '92000 ', '315 ', '78095 ', '130 ', '74 ', '52854 ', '77 ', '811 ', '504 ', '401 ', '2856 ', '10546 ', '801 ', '1540 ', '1451 ', '1075 ', '78095 ', '7195 ', '3600 ', '76 ', '60 ', '405 ', '303 ', '303 ', '107888 ', '76000 ', '10000 ', '180 ', '745000 ', '12234 ', '292 ', '104 ', '60000 ', '2000 ', '165 ', '217 ', '1175 ', '704 ', '75128 ', '90 ', '90 ', '50 ', '71 ', '93239 ', '540 ', '105 ', '6611 ', '15 ', '372 ', '58000 ', '4960 ', '241600 ', '130000 ', '7062606 ', '740 ', '70 ', '2205 ', '10721 ', '640 ', '1000 ', '116 ', '1672 ', '322 ', '93600 ', '3060 ', '5879 ', '9200 ', '20000 ', '20867 ', ' ', '4143 ', '215063 ', '6000000 ', '21263 ', '63000000 ', '10190 ', '300 ', '12330 ', '5180 ', '756 ', '10000 ', '80 ', '1184 ', '1047 ', '777 ', '249 ', '414 ', ' ', '143 ', '7840 ', '30000 ', '35717 ', '135 ', '980 ', '5456 ', '120 ', '4095000 ', '7051 ', '240 ', '48204 ', '260000 ', '288000 ', '8300000 ', '125 ', '170 ', '141712 ', '3916 ', '6262 ', '420768 ', '1067371 ', '1385 ', '908 ', '546 ', '13956534 ', '15630426 ', '8992 ', '1687 ', '779 ', '1056 ', '590 ', '21643 ', '7750 ', '14057567 ', '27170754 ', '597 ', '329 ', '299 ', '20000 ', '26136 ', '1000 ', '399 ', '24017 ', '325834 ', '2916697 ', '22470 ', '189 ', '520 ', '826 ', '2279 ', '28764 ', '7107 ', '288000 ', '9800 ', '4760 ', '72 ', '1450 ', '170 ', '1984 ', '2955 ', '65532 ', '65919 ', '2111 ', '3810 ', '18 ', '244 ', '104 ', '139 ', '360177 ', '36733 ', '4480 ', '165474 ', '1985 ', '10000 ', '232 ', '150 ', '11 ', '14057567 ', '8760 ', '48 ', '6321 ', '3150 ', '17256 ', '187 ', '399 ', '14 ', '467 ', '597 ', '23700 ', '615 ', '6819 ', '1000 ', ' ', '2633 ', '200 ', '13028 ', '800 ', '1700 ', '521 ', '120000 ', '666 ', '88 ', '200 ', '2279 ', '23570 ', '10000 ', '37700 ', '1850 ', '11 ', '147270 ', '3150 ', '17256 ', '597 ', '7624 ', '314 ', '1197 ', '70 ', '7624 ', '26737 ', '10000 ', '13611 ', '12684 ', '48 ', '731 ', '731 ', '557 ', '107 ', '158716 ', '15744 ', '153000 ', '557 ', '36 ', '4200 ', '61069 ', '52417 ', '900 ', '35040 ', '4746 ', '73 ', '11000 ', '4465 ', '145 ', '202 ', '221 ', '597 ', '298 ', '110341 ', '705 ', '2101 ', '1765 ', '150 ', '4000 ', '6272 ', '1996 ', '35040 ', '75840 ', '400 ', '1014 ', '10129 ', '4000 ']\n"
     ]
    }
   ],
   "source": [
    "#scraping the No_of_Instances \n",
    "noi=driver.find_elements_by_xpath(\"/html/body/table[2]/tbody/tr/td[2]/table[2]/tbody/tr/td[5]\")\n",
    "for i in noi:\n",
    "    if i.text is None :\n",
    "        No_of_Instances.append(\"--\") \n",
    "    else:\n",
    "        No_of_Instances.append(i.text)\n",
    "print(len(No_of_Instances),No_of_Instances)"
   ]
  },
  {
   "cell_type": "code",
   "execution_count": 128,
   "metadata": {},
   "outputs": [
    {
     "name": "stderr",
     "output_type": "stream",
     "text": [
      "C:\\Users\\ASUS\\AppData\\Local\\Temp\\ipykernel_14780\\16824934.py:2: DeprecationWarning: find_elements_by_xpath is deprecated. Please use find_elements(by=By.XPATH, value=xpath) instead\n",
      "  noa=driver.find_elements_by_xpath(\"/html/body/table[2]/tbody/tr/td[2]/table[2]/tbody/tr/td[6]\")\n"
     ]
    },
    {
     "name": "stdout",
     "output_type": "stream",
     "text": [
      "623 ['# Attributes', '8 ', '14 ', '38 ', '294 ', '279 ', '7 ', ' ', '69 ', '8 ', '26 ', '1 ', '4 ', '4 ', '9 ', '10 ', '34 ', '32 ', '13 ', '6 ', '14 ', '22 ', '36 ', '6 ', ' ', '6 ', '42 ', '15 ', ' ', '9 ', '9 ', '54 ', '39 ', '33 ', '20 ', ' ', ' ', ' ', '12 ', '8 ', '30 ', ' ', '10 ', '3 ', '5 ', '75 ', '19 ', '27 ', ' ', '19 ', '1558 ', '34 ', '4 ', '617 ', '12 ', '16 ', '7 ', '4 ', '16 ', '7 ', ' ', '56 ', '18 ', '8 ', '22 ', ' ', '58 ', ' ', '61 ', '7 ', ' ', '649 ', '22 ', '168 ', '168 ', '8 ', ' ', '10 ', '64 ', '16 ', '8 ', '17 ', ' ', ' ', '72 ', '4 ', '6 ', '10 ', '35 ', '35 ', '4 ', '102 ', '57 ', '22 ', '44 ', '45 ', ' ', ' ', '5 ', '9 ', '21 ', '32 ', '17 ', '16 ', '38 ', '21 ', '40 ', '13 ', '8 ', '17 ', ' ', ' ', '15 ', '22 ', '68 ', '40 ', '17 ', '89 ', ' ', '4 ', '12 ', ' ', ' ', '86 ', '72 ', '61 ', '12 ', '481 ', '42 ', ' ', ' ', ' ', ' ', ' ', ' ', '5 ', '90 ', ' ', '5 ', ' ', ' ', '14 ', '20 ', '13 ', '36 ', '19 ', '9 ', '18 ', '4 ', '60 ', '10 ', ' ', ' ', '10 ', '4 ', '3 ', '11 ', '11 ', ' ', '6 ', '13 ', ' ', '100000 ', '9 ', '101 ', '10000 ', '20000 ', '100000 ', '5000 ', '500 ', '73 ', '43 ', '23 ', '3 ', '5 ', ' ', '256 ', '591 ', '70 ', '91 ', '10 ', '128 ', '6 ', '12 ', '3231961 ', '5409 ', '26 ', ' ', ' ', '10 ', '23 ', '24 ', '13 ', '8 ', ' ', '27 ', '50 ', '90 ', '138672 ', ' ', '386 ', ' ', ' ', '12 ', '147 ', '6 ', '8 ', '27 ', '10000 ', '20000 ', '10000 ', '54877 ', '4702 ', '24 ', '29 ', '17 ', '3 ', '128 ', '10 ', '242 ', '120 ', ' ', '4 ', '13 ', '52 ', '47 ', '857 ', '9 ', '7 ', '200 ', '4 ', ' ', '561 ', '64 ', '8 ', '7 ', '10 ', '9 ', '4 ', '8 ', '77 ', '51 ', '18 ', '1950000 ', '18 ', '1300 ', '41 ', '6 ', '5625 ', '5 ', ' ', '7 ', '33 ', '5 ', '15 ', '9 ', '19 ', '5 ', '5 ', '1000000 ', '129 ', ' ', '20 ', '152 ', '24 ', '16 ', '35 ', '17 ', '5 ', '18 ', '28 ', '7 ', '309 ', '3 ', '6 ', ' ', ' ', '16 ', '13 ', '5 ', '6 ', '8 ', '2 ', '4 ', '148 ', '55 ', '17 ', '8 ', '42 ', '26 ', '50 ', '2 ', '281 ', '120 ', ' ', '6 ', '120432 ', '150000 ', '529 ', ' ', '16 ', '2500 ', '5 ', '68 ', '16 ', '100 ', '216 ', '23 ', '33 ', '140256 ', '19 ', '20 ', '20 ', '49 ', '12 ', '30 ', '5232 ', '20 ', '1 ', ' ', '61 ', '27 ', '53 ', '11 ', '25 ', '0 ', '20 ', '9 ', '3 ', '561 ', '82 ', '13 ', '16 ', '13 ', '28 ', '4 ', ' ', '24 ', '34 ', '8 ', '128 ', '15 ', '513 ', '7 ', '7 ', '5 ', '15 ', '480000 ', '11 ', '54 ', '561 ', '64 ', '6 ', '116 ', '19 ', ' ', '5812 ', '9 ', '32 ', '29 ', '67 ', ' ', '25 ', '6400 ', '10 ', '5 ', '13 ', '98 ', '36 ', '69 ', '2158859 ', '518 ', '15 ', '179 ', ' ', '12 ', '38 ', '65 ', '102 ', '86 ', '7 ', '53 ', '20 ', '1 ', '71 ', '29 ', '20531 ', '65 ', '3 ', '22 ', '38 ', '22 ', '4814 ', '698 ', '13 ', '10 ', '59 ', '56 ', '482 ', '171 ', '5 ', '500 ', '411 ', '8519 ', '21 ', '21 ', '171 ', '7 ', '49 ', '12 ', '3 ', '21 ', '9 ', '8 ', '7 ', '2 ', '11 ', '11 ', '173 ', '5 ', '15 ', '3 ', '105 ', '25000 ', ' ', '18 ', '21000 ', '115 ', '21 ', '206 ', '43680 ', '8 ', '10 ', '59 ', '10 ', '5 ', '5 ', '1000 ', '138 ', ' ', '16 ', '2 ', '10 ', ' ', '8 ', '6 ', '129 ', '81 ', '12 ', '6 ', '22 ', '18 ', '9 ', '754 ', '14 ', '5 ', ' ', ' ', '18 ', '7 ', '7 ', ' ', '7 ', '5 ', '6 ', '4 ', '18 ', '11 ', '25 ', ' ', '20 ', '12 ', '46 ', '9 ', '8 ', '49 ', '11 ', '8 ', '54 ', '36 ', '3916 ', '710 ', '18 ', '8 ', '29 ', '7 ', '9 ', '37 ', '6 ', '1024 ', '1024 ', '14 ', '7 ', '8265 ', '29 ', '25 ', '3 ', '115 ', '1 ', '12 ', '13 ', '200000 ', '6 ', '21 ', '4 ', '2400 ', '175 ', '10 ', '4714 ', '23 ', '17 ', '2 ', '9 ', '8 ', '280 ', '49 ', '3 ', '14 ', '19 ', ' ', '54 ', '8 ', '1087 ', '12 ', '3 ', '17 ', '8 ', '9 ', '12 ', '1656 ', '6 ', '2 ', '11 ', '533 ', '14 ', '84 ', '22 ', '16 ', '52 ', '19 ', '3 ', '14 ', '321 ', '13 ', '13 ', '55 ', '39 ', '4 ', '7 ', '79 ', '1 ', ' ', '14 ', '96 ', '21 ', ' ', '5 ', '2 ', '69 ', '9 ', '124 ', '20 ', '25 ', '11 ', '19 ', '9 ', '9 ', '5 ', '7 ', '4006 ', '2 ', '19 ', '4 ', '13 ', '55 ', '1 ', '7842 ', '15 ', '15 ', '70 ', '7842 ', '4 ', '14 ', '17 ', '23 ', '321 ', '1068 ', '1068 ', '5 ', '6 ', '4 ', ' ', '5 ', '5 ', '15 ', '7 ', '21 ', '9 ', '8 ', '11 ', '21 ', '22 ', '2 ', '241 ', '33 ', '29 ', '7 ', '1 ', ' ', '4 ', '11 ', '47 ', '10 ', '3 ', '2 ', '632 ', '6826 ', '11 ', '525 ', '50 ', '7 ', '16 ', '2 ']\n"
     ]
    }
   ],
   "source": [
    "#scraping the No_of_Attribute \n",
    "noa=driver.find_elements_by_xpath(\"/html/body/table[2]/tbody/tr/td[2]/table[2]/tbody/tr/td[6]\")\n",
    "for i in noa:\n",
    "    if i.text is None :\n",
    "        No_of_Attribute.append(\"--\") \n",
    "    else:\n",
    "        No_of_Attribute.append(i.text)\n",
    "print(len(No_of_Attribute),No_of_Attribute)"
   ]
  },
  {
   "cell_type": "code",
   "execution_count": 129,
   "metadata": {},
   "outputs": [
    {
     "name": "stderr",
     "output_type": "stream",
     "text": [
      "C:\\Users\\ASUS\\AppData\\Local\\Temp\\ipykernel_14780\\3115940270.py:2: DeprecationWarning: find_elements_by_xpath is deprecated. Please use find_elements(by=By.XPATH, value=xpath) instead\n",
      "  y=driver.find_elements_by_xpath(\"/html/body/table[2]/tbody/tr/td[2]/table[2]/tbody/tr/td[7]/p\")\n"
     ]
    },
    {
     "name": "stdout",
     "output_type": "stream",
     "text": [
      "623 ['Year', '1995 ', '1996 ', ' ', '1998 ', '1998 ', '1992 ', '1987 ', '1992 ', '1993 ', '1987 ', '1994 ', '1994 ', ' ', '1988 ', '1992 ', '1995 ', '1995 ', '1990 ', '1997 ', '1996 ', '1988 ', '1989 ', '1994 ', ' ', ' ', '1995 ', ' ', '1992 ', '1987 ', '1997 ', '1998 ', '1995 ', '1998 ', ' ', ' ', '1994 ', ' ', '1989 ', '1996 ', '1990 ', '1990 ', '1987 ', '1999 ', '1989 ', '1988 ', '1988 ', '1989 ', ' ', '1990 ', '1998 ', '1989 ', '1988 ', '1994 ', '1990 ', '1988 ', '1988 ', '1990 ', '1991 ', '1990 ', ' ', '1992 ', '1988 ', '1990 ', '1996 ', '1995 ', '1990 ', ' ', '1992 ', '1992 ', '1994 ', ' ', '1987 ', '1994 ', '1994 ', '1997 ', '1991 ', '1995 ', '1998 ', '1998 ', '1993 ', '1988 ', ' ', ' ', '1992 ', '1993 ', '1988 ', '1989 ', '1988 ', '1987 ', '1993 ', '1988 ', '1999 ', '2001 ', '2001 ', ' ', '1992 ', '1993 ', '1997 ', '1991 ', '1987 ', '1994 ', '1988 ', '1987 ', '1993 ', '1988 ', '1988 ', '1991 ', '1996 ', '1990 ', ' ', '1999 ', '1999 ', '2002 ', ' ', '2000 ', '1999 ', '1999 ', '2001 ', '1999 ', '1999 ', '2000 ', '1999 ', '2000 ', '1999 ', '1999 ', ' ', '1998 ', '1999 ', '2001 ', '1999 ', ' ', '2003 ', '1999 ', '1999 ', '1997 ', '1999 ', '1999 ', '1998 ', ' ', ' ', ' ', '1994 ', ' ', '1993 ', '1990 ', ' ', ' ', ' ', ' ', ' ', ' ', ' ', '1989 ', '2006 ', '2006 ', '2007 ', '2007 ', '2007 ', '2007 ', '2008 ', '2008 ', '2008 ', '2007 ', '2008 ', '2008 ', '2008 ', '2008 ', '2008 ', '2008 ', '2008 ', '2008 ', '2008 ', '2008 ', '2008 ', '2009 ', '2008 ', '2008 ', '2008 ', '2009 ', '2009 ', '2009 ', '2009 ', '2009 ', '2009 ', '2010 ', '2009 ', '2010 ', '2010 ', '2010 ', '2010 ', '2010 ', '2010 ', '2010 ', '2010 ', '2010 ', '2010 ', '2011 ', '2011 ', '2011 ', '2011 ', '2011 ', '2011 ', '2011 ', '2011 ', '2011 ', '2011 ', '2011 ', '2011 ', '2011 ', '2011 ', '2011 ', '2011 ', '2011 ', '2011 ', '2012 ', '2012 ', '2012 ', '2012 ', '2012 ', '2012 ', '2012 ', '2012 ', '2012 ', '2012 ', '2012 ', '2012 ', '2012 ', '2012 ', '2012 ', '2012 ', '2012 ', '2012 ', '2012 ', '2012 ', '2013 ', '2013 ', '2013 ', '2013 ', '2013 ', '2013 ', '2013 ', '2013 ', '2013 ', '2013 ', '2013 ', '2013 ', '2013 ', '2013 ', '2013 ', '2013 ', '2013 ', '2013 ', '2013 ', '2013 ', '2013 ', '2013 ', '2013 ', '2013 ', '2013 ', '2013 ', '2013 ', '2013 ', '2013 ', '2014 ', '2013 ', '2013 ', '2013 ', '2014 ', '2014 ', '2014 ', '2014 ', '2014 ', '2014 ', '2014 ', '2014 ', '2014 ', '2014 ', '2014 ', '2013 ', '2014 ', '2014 ', '2014 ', '2014 ', '2014 ', '2014 ', '2014 ', '2014 ', '2014 ', '2014 ', '2014 ', '2014 ', '2014 ', '2014 ', '2014 ', '2014 ', '2014 ', '2014 ', '2014 ', '2014 ', '2014 ', '2014 ', '2014 ', '2014 ', '2014 ', '2014 ', '2015 ', '2014 ', '2014 ', '2015 ', '2015 ', '2015 ', '2015 ', '2015 ', '2015 ', '2015 ', '2015 ', '2014 ', '2015 ', '2015 ', '2015 ', '2015 ', '2015 ', '2015 ', '2015 ', '2015 ', '2015 ', '2015 ', '2015 ', '2015 ', '2015 ', '2015 ', '2015 ', '2015 ', '2016 ', '2016 ', '2015 ', '2016 ', '2016 ', '2015 ', '2016 ', '2016 ', '2016 ', '2016 ', '2016 ', '2016 ', '2016 ', '2016 ', '2016 ', '2016 ', '2016 ', '2016 ', '2016 ', '2016 ', '2016 ', '2016 ', '2016 ', '2017 ', '2016 ', '2017 ', '2016 ', '2017 ', '2017 ', '2016 ', '2016 ', '2017 ', '2017 ', '2016 ', '2017 ', '2017 ', '2017 ', '2017 ', '2016 ', '2017 ', '2016 ', '2016 ', '2016 ', '2017 ', '2017 ', '2017 ', '2017 ', '2017 ', '2017 ', '2017 ', '2016 ', '2016 ', '2016 ', '2016 ', '2017 ', '2017 ', '2017 ', '2017 ', '2017 ', '2016 ', '2017 ', '2017 ', '2017 ', '2017 ', '2017 ', '2017 ', '2017 ', '2016 ', '2016 ', '2016 ', '2017 ', '2017 ', '2017 ', '2017 ', '2017 ', '2017 ', '2017 ', '2017 ', '2016 ', '2018 ', '2018 ', '2016 ', '2018 ', '2018 ', '2018 ', '2018 ', '2018 ', '2018 ', '2018 ', '2018 ', '2018 ', '2018 ', '2018 ', '2018 ', '2018 ', '2018 ', '2018 ', '2018 ', '2018 ', '2018 ', '2018 ', '2018 ', '2018 ', '2018 ', '2018 ', '2018 ', '2018 ', '2018 ', '2018 ', '2018 ', '2018 ', '2018 ', '2018 ', '2018 ', '2018 ', '2018 ', '2018 ', '2018 ', '2018 ', '2018 ', '2018 ', '2018 ', '2018 ', '2018 ', '2018 ', '2018 ', '2018 ', '2018 ', '2018 ', '2018 ', '2019 ', '2019 ', '2018 ', '2018 ', '2018 ', '2019 ', '2019 ', '2019 ', '2019 ', '2019 ', '2019 ', '2019 ', '2019 ', '2019 ', '2019 ', '2019 ', '2019 ', '2019 ', '2019 ', '2019 ', '2019 ', '2019 ', '2019 ', '2019 ', '2019 ', '2019 ', '2019 ', '2019 ', '2019 ', '2019 ', '2019 ', '2020 ', '2020 ', '2019 ', '2020 ', '2020 ', '2020 ', '2020 ', '2020 ', '2019 ', '2020 ', '2020 ', '2020 ', '2020 ', '2020 ', '2020 ', '2020 ', '2019 ', '2019 ', '2019 ', '2019 ', '2019 ', '2019 ', '2019 ', '2019 ', '2019 ', '2019 ', '2019 ', '2019 ', '2019 ', '2019 ', '2019 ', '2019 ', '2019 ', '2019 ', '2019 ', '2019 ', '2019 ', '2019 ', '2019 ', '2019 ', '2019 ', '2019 ', '2020 ', '2020 ', '2020 ', '2020 ', '2020 ', '2020 ', '2020 ', '2020 ', '2020 ', '2020 ', '2020 ', '2020 ', '2020 ', '2020 ', '2020 ', '2020 ', '2020 ', '2020 ', '2020 ', '2020 ', '2020 ', '2020 ', '2020 ', '2020 ', '2021 ', '2018 ', '2018 ', '2019 ', '2019 ', '2019 ', '2019 ', '2019 ', '2019 ', '2019 ', '2020 ', '2020 ', '2020 ', '2020 ', '2020 ', '2020 ', '2020 ', '2020 ', '2020 ', '2020 ', '2020 ', '2020 ', '2020 ', '2020 ', '2020 ', '2021 ', '2021 ', '2021 ', '2021 ', '2021 ', '2021 ', '2021 ', '2021 ', '2021 ', '2021 ', '2021 ', '2021 ', '2021 ', '2021 ', '2021 ', '2021 ', '2021 ', '2021 ', '2021 ', '2021 ', '2021 ', '2020 ', '2020 ', '2020 ', '2020 ', '2020 ', '2020 ', '2020 ', '2020 ', '2020 ', '2020 ', '2020 ', '2020 ', '2020 ', '2020 ', '2021 ', '2021 ']\n"
     ]
    }
   ],
   "source": [
    "#scraping the Year \n",
    "y=driver.find_elements_by_xpath(\"/html/body/table[2]/tbody/tr/td[2]/table[2]/tbody/tr/td[7]/p\")\n",
    "for i in y:\n",
    "    if i.text is None :\n",
    "        Year.append(\"--\") \n",
    "    else:\n",
    "        Year.append(i.text)\n",
    "print(len(Year),Year)"
   ]
  },
  {
   "cell_type": "code",
   "execution_count": 130,
   "metadata": {},
   "outputs": [
    {
     "data": {
      "text/html": [
       "<div>\n",
       "<style scoped>\n",
       "    .dataframe tbody tr th:only-of-type {\n",
       "        vertical-align: middle;\n",
       "    }\n",
       "\n",
       "    .dataframe tbody tr th {\n",
       "        vertical-align: top;\n",
       "    }\n",
       "\n",
       "    .dataframe thead th {\n",
       "        text-align: right;\n",
       "    }\n",
       "</style>\n",
       "<table border=\"1\" class=\"dataframe\">\n",
       "  <thead>\n",
       "    <tr style=\"text-align: right;\">\n",
       "      <th></th>\n",
       "      <th>Dataset_Name</th>\n",
       "      <th>Data_Type</th>\n",
       "      <th>Task</th>\n",
       "      <th>Attribute_Type</th>\n",
       "      <th>No_of_Instances</th>\n",
       "      <th>No_of_Attribute</th>\n",
       "      <th>Year</th>\n",
       "    </tr>\n",
       "  </thead>\n",
       "  <tbody>\n",
       "    <tr>\n",
       "      <th>0</th>\n",
       "      <td>Abalone</td>\n",
       "      <td>Data Types</td>\n",
       "      <td>Default Task</td>\n",
       "      <td>Attribute Types</td>\n",
       "      <td># Instances</td>\n",
       "      <td># Attributes</td>\n",
       "      <td>Year</td>\n",
       "    </tr>\n",
       "    <tr>\n",
       "      <th>1</th>\n",
       "      <td>Adult</td>\n",
       "      <td>Multivariate</td>\n",
       "      <td>Classification</td>\n",
       "      <td>Categorical, Integer, Real</td>\n",
       "      <td>4177</td>\n",
       "      <td>8</td>\n",
       "      <td>1995</td>\n",
       "    </tr>\n",
       "    <tr>\n",
       "      <th>2</th>\n",
       "      <td>Annealing</td>\n",
       "      <td>Multivariate</td>\n",
       "      <td>Classification</td>\n",
       "      <td>Categorical, Integer</td>\n",
       "      <td>48842</td>\n",
       "      <td>14</td>\n",
       "      <td>1996</td>\n",
       "    </tr>\n",
       "    <tr>\n",
       "      <th>3</th>\n",
       "      <td>Anonymous Microsoft Web Data</td>\n",
       "      <td>Multivariate</td>\n",
       "      <td>Classification</td>\n",
       "      <td>Categorical, Integer, Real</td>\n",
       "      <td>798</td>\n",
       "      <td>38</td>\n",
       "      <td></td>\n",
       "    </tr>\n",
       "    <tr>\n",
       "      <th>4</th>\n",
       "      <td>Arrhythmia</td>\n",
       "      <td></td>\n",
       "      <td>Recommender-Systems</td>\n",
       "      <td>Categorical</td>\n",
       "      <td>37711</td>\n",
       "      <td>294</td>\n",
       "      <td>1998</td>\n",
       "    </tr>\n",
       "    <tr>\n",
       "      <th>...</th>\n",
       "      <td>...</td>\n",
       "      <td>...</td>\n",
       "      <td>...</td>\n",
       "      <td>...</td>\n",
       "      <td>...</td>\n",
       "      <td>...</td>\n",
       "      <td>...</td>\n",
       "    </tr>\n",
       "    <tr>\n",
       "      <th>95</th>\n",
       "      <td>Statlog Project</td>\n",
       "      <td>Multivariate</td>\n",
       "      <td>Clustering</td>\n",
       "      <td>Categorical, Integer</td>\n",
       "      <td>76</td>\n",
       "      <td>45</td>\n",
       "      <td></td>\n",
       "    </tr>\n",
       "    <tr>\n",
       "      <th>96</th>\n",
       "      <td>Student Loan Relational</td>\n",
       "      <td></td>\n",
       "      <td></td>\n",
       "      <td></td>\n",
       "      <td></td>\n",
       "      <td></td>\n",
       "      <td>1992</td>\n",
       "    </tr>\n",
       "    <tr>\n",
       "      <th>97</th>\n",
       "      <td>Teaching Assistant Evaluation</td>\n",
       "      <td>Domain-Theory</td>\n",
       "      <td></td>\n",
       "      <td></td>\n",
       "      <td>1000</td>\n",
       "      <td></td>\n",
       "      <td>1993</td>\n",
       "    </tr>\n",
       "    <tr>\n",
       "      <th>98</th>\n",
       "      <td>Tic-Tac-Toe Endgame</td>\n",
       "      <td>Multivariate</td>\n",
       "      <td>Classification</td>\n",
       "      <td>Categorical, Integer</td>\n",
       "      <td>151</td>\n",
       "      <td>5</td>\n",
       "      <td>1997</td>\n",
       "    </tr>\n",
       "    <tr>\n",
       "      <th>99</th>\n",
       "      <td>Thyroid Disease</td>\n",
       "      <td>Multivariate</td>\n",
       "      <td>Classification</td>\n",
       "      <td>Categorical</td>\n",
       "      <td>958</td>\n",
       "      <td>9</td>\n",
       "      <td>1991</td>\n",
       "    </tr>\n",
       "  </tbody>\n",
       "</table>\n",
       "<p>100 rows × 7 columns</p>\n",
       "</div>"
      ],
      "text/plain": [
       "                     Dataset_Name       Data_Type                  Task  \\\n",
       "0                         Abalone      Data Types          Default Task   \n",
       "1                           Adult   Multivariate        Classification    \n",
       "2                       Annealing   Multivariate        Classification    \n",
       "3    Anonymous Microsoft Web Data   Multivariate        Classification    \n",
       "4                      Arrhythmia                  Recommender-Systems    \n",
       "..                            ...             ...                   ...   \n",
       "95                Statlog Project   Multivariate            Clustering    \n",
       "96        Student Loan Relational                                         \n",
       "97  Teaching Assistant Evaluation  Domain-Theory                          \n",
       "98            Tic-Tac-Toe Endgame   Multivariate        Classification    \n",
       "99                Thyroid Disease   Multivariate        Classification    \n",
       "\n",
       "                 Attribute_Type No_of_Instances No_of_Attribute   Year  \n",
       "0               Attribute Types     # Instances    # Attributes   Year  \n",
       "1   Categorical, Integer, Real            4177               8   1995   \n",
       "2         Categorical, Integer           48842              14   1996   \n",
       "3   Categorical, Integer, Real             798              38          \n",
       "4                  Categorical           37711             294   1998   \n",
       "..                          ...             ...             ...    ...  \n",
       "95        Categorical, Integer              76              45          \n",
       "96                                                               1992   \n",
       "97                                        1000                   1993   \n",
       "98        Categorical, Integer             151               5   1997   \n",
       "99                 Categorical             958               9   1991   \n",
       "\n",
       "[100 rows x 7 columns]"
      ]
     },
     "execution_count": 130,
     "metadata": {},
     "output_type": "execute_result"
    }
   ],
   "source": [
    "UCI=pd.DataFrame([])\n",
    "UCI['Dataset_Name']=Dataset_Name[:100]\n",
    "UCI['Data_Type']=Data_Type[:100]\n",
    "UCI['Task']=Task[:100]\n",
    "UCI['Attribute_Type']=Attribute_Type[:100]\n",
    "UCI['No_of_Instances']=No_of_Instances[:100]\n",
    "UCI['No_of_Attribute']=No_of_Attribute[:100]\n",
    "UCI['Year']=Year[:100]\n",
    "UCI"
   ]
  },
  {
   "cell_type": "code",
   "execution_count": null,
   "metadata": {},
   "outputs": [],
   "source": []
  }
 ],
 "metadata": {
  "kernelspec": {
   "display_name": "Python 3 (ipykernel)",
   "language": "python",
   "name": "python3"
  },
  "language_info": {
   "codemirror_mode": {
    "name": "ipython",
    "version": 3
   },
   "file_extension": ".py",
   "mimetype": "text/x-python",
   "name": "python",
   "nbconvert_exporter": "python",
   "pygments_lexer": "ipython3",
   "version": "3.9.12"
  }
 },
 "nbformat": 4,
 "nbformat_minor": 4
}
